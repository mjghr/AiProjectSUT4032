{
  "cells": [
    {
      "cell_type": "markdown",
      "metadata": {},
      "source": [
        "<br>\n",
        "<font>\n",
        "<div dir=ltr align=center>\n",
        "<img src=\"https://cdn.freebiesupply.com/logos/large/2x/sharif-logo-png-transparent.png\" width=150 height=150>\n",
        "<div dir=ltr align=center>\n",
        "<font color=0F5298 size=7>\n",
        "    Artificial Intelligence <br>\n",
        "<font color=2565AE size=5>\n",
        "    Computer Engineering Department <br>\n",
        "    Spring 2025<br>\n",
        "<font color=3C99D size=5>\n",
        "    Project-Phase2<br>\n",
        "    Soft Actor Critic<br>\n",
        "<font color=696880 size=4>\n",
        "    Ali Najar-Mohmmad Shafizade-Armin Khosravi\n"
      ]
    },
    {
      "cell_type": "markdown",
      "metadata": {},
      "source": [
        "Nazanin Yousefi - 401110172\n",
        "\n",
        "MohammadMahdi NouriBorji - 401170061\n",
        "\n",
        "MohammadJavad Gharegozloo - 401170134\n"
      ]
    },
    {
      "cell_type": "markdown",
      "metadata": {
        "id": "lxu_TL6Ohi2H"
      },
      "source": [
        "In this notebook, we are going to get familiar with SAC algorithm. Soft Actor Critic (SAC) is an off-policy algorithm that maximizes a combination of expected return **and** entropy. Higher entropy results in higher exploration, which is an important concept in Reinforcement Learning.\n",
        "\n",
        "## 📦 Setup and Dependencies\n",
        "\n",
        "Install PyBullet for Physics based environments.\n"
      ]
    },
    {
      "cell_type": "code",
      "execution_count": 128,
      "metadata": {
        "colab": {
          "base_uri": "https://localhost:8080/"
        },
        "id": "tdCnFKtwcc6N",
        "outputId": "68bc3930-8199-4cde-8cff-a0d5b5e6bc2a"
      },
      "outputs": [
        {
          "name": "stdout",
          "output_type": "stream",
          "text": [
            "Fri Sep  5 20:03:24 2025       \n",
            "+-----------------------------------------------------------------------------------------+\n",
            "| NVIDIA-SMI 575.57.08              Driver Version: 575.57.08      CUDA Version: 12.9     |\n",
            "|-----------------------------------------+------------------------+----------------------+\n",
            "| GPU  Name                 Persistence-M | Bus-Id          Disp.A | Volatile Uncorr. ECC |\n",
            "| Fan  Temp   Perf          Pwr:Usage/Cap |           Memory-Usage | GPU-Util  Compute M. |\n",
            "|                                         |                        |               MIG M. |\n",
            "|=========================================+========================+======================|\n",
            "|   0  NVIDIA A100-PCIE-40GB          Off |   00000000:03:01.0 Off |                    0 |\n",
            "| N/A   30C    P0             54W /  250W |   33658MiB /  40960MiB |     14%      Default |\n",
            "|                                         |                        |             Disabled |\n",
            "+-----------------------------------------+------------------------+----------------------+\n",
            "|   1  NVIDIA A100-PCIE-40GB          Off |   00000000:03:02.0 Off |                    0 |\n",
            "| N/A   28C    P0             53W /  250W |   32525MiB /  40960MiB |     10%      Default |\n",
            "|                                         |                        |             Disabled |\n",
            "+-----------------------------------------+------------------------+----------------------+\n",
            "                                                                                         \n",
            "+-----------------------------------------------------------------------------------------+\n",
            "| Processes:                                                                              |\n",
            "|  GPU   GI   CI              PID   Type   Process name                        GPU Memory |\n",
            "|        ID   ID                                                               Usage      |\n",
            "|=========================================================================================|\n",
            "|    0   N/A  N/A         2159270      C   python                                32534MiB |\n",
            "|    0   N/A  N/A         2441185      C   ...akoli/DiffPM/.venv/bin/python        544MiB |\n",
            "|    0   N/A  N/A         2458599      C   /bin/python3                            560MiB |\n",
            "|    1   N/A  N/A         2159270      C   python                                32516MiB |\n",
            "+-----------------------------------------------------------------------------------------+\n"
          ]
        }
      ],
      "source": [
        "!pip install -q gymnasium pybullet Box2D ffmpeg-python\n",
        "!nvidia-smi"
      ]
    },
    {
      "cell_type": "code",
      "execution_count": 129,
      "metadata": {},
      "outputs": [
        {
          "name": "stdout",
          "output_type": "stream",
          "text": [
            "Defaulting to user installation because normal site-packages is not writeable\n",
            "Requirement already satisfied: matplotlib in /home/tavakoli/.local/lib/python3.10/site-packages (3.10.6)\n",
            "Requirement already satisfied: contourpy>=1.0.1 in /home/tavakoli/.local/lib/python3.10/site-packages (from matplotlib) (1.3.2)\n",
            "Requirement already satisfied: fonttools>=4.22.0 in /home/tavakoli/.local/lib/python3.10/site-packages (from matplotlib) (4.59.2)\n",
            "Requirement already satisfied: pillow>=8 in /home/tavakoli/.local/lib/python3.10/site-packages (from matplotlib) (11.3.0)\n",
            "Requirement already satisfied: cycler>=0.10 in /home/tavakoli/.local/lib/python3.10/site-packages (from matplotlib) (0.12.1)\n",
            "Requirement already satisfied: packaging>=20.0 in /home/tavakoli/.local/lib/python3.10/site-packages (from matplotlib) (25.0)\n",
            "Requirement already satisfied: numpy>=1.23 in /home/tavakoli/.local/lib/python3.10/site-packages (from matplotlib) (2.2.6)\n",
            "Requirement already satisfied: kiwisolver>=1.3.1 in /home/tavakoli/.local/lib/python3.10/site-packages (from matplotlib) (1.4.9)\n",
            "Requirement already satisfied: python-dateutil>=2.7 in /home/tavakoli/.local/lib/python3.10/site-packages (from matplotlib) (2.9.0.post0)\n",
            "Requirement already satisfied: pyparsing>=2.3.1 in /usr/lib/python3/dist-packages (from matplotlib) (2.4.7)\n",
            "Requirement already satisfied: six>=1.5 in /usr/lib/python3/dist-packages (from python-dateutil>=2.7->matplotlib) (1.16.0)\n"
          ]
        }
      ],
      "source": [
        "!pip install matplotlib"
      ]
    },
    {
      "cell_type": "code",
      "execution_count": 130,
      "metadata": {},
      "outputs": [
        {
          "name": "stdout",
          "output_type": "stream",
          "text": [
            "Defaulting to user installation because normal site-packages is not writeable\n",
            "Requirement already satisfied: tqdm in /home/tavakoli/.local/lib/python3.10/site-packages (4.67.1)\n"
          ]
        }
      ],
      "source": [
        "!pip install tqdm"
      ]
    },
    {
      "cell_type": "markdown",
      "metadata": {
        "id": "Ftc5RDuQ7B8T"
      },
      "source": [
        "Import necessary packages.\n"
      ]
    },
    {
      "cell_type": "code",
      "execution_count": 131,
      "metadata": {},
      "outputs": [
        {
          "name": "stdout",
          "output_type": "stream",
          "text": [
            "Defaulting to user installation because normal site-packages is not writeable\n",
            "Requirement already satisfied: gym==0.21 in /home/tavakoli/.local/lib/python3.10/site-packages (0.21.0)\n",
            "Requirement already satisfied: pybullet==3.2.5 in /home/tavakoli/.local/lib/python3.10/site-packages (3.2.5)\n",
            "Requirement already satisfied: cloudpickle>=1.2.0 in /home/tavakoli/.local/lib/python3.10/site-packages (from gym==0.21) (3.1.1)\n",
            "Requirement already satisfied: numpy>=1.18.0 in /home/tavakoli/.local/lib/python3.10/site-packages (from gym==0.21) (2.2.6)\n"
          ]
        }
      ],
      "source": [
        "!pip install \"gym==0.21\" \"pybullet==3.2.5\""
      ]
    },
    {
      "cell_type": "code",
      "execution_count": 132,
      "metadata": {},
      "outputs": [
        {
          "name": "stdout",
          "output_type": "stream",
          "text": [
            "Found existing installation: gym 0.21.0\n",
            "Uninstalling gym-0.21.0:\n",
            "  Successfully uninstalled gym-0.21.0\n",
            "Found existing installation: gymnasium 1.2.0\n",
            "Uninstalling gymnasium-1.2.0:\n",
            "  Successfully uninstalled gymnasium-1.2.0\n",
            "Defaulting to user installation because normal site-packages is not writeable\n",
            "Collecting gym==0.21\n",
            "  Using cached gym-0.21.0-py3-none-any.whl\n",
            "Requirement already satisfied: pybullet==3.2.5 in /home/tavakoli/.local/lib/python3.10/site-packages (3.2.5)\n",
            "Requirement already satisfied: numpy>=1.18.0 in /home/tavakoli/.local/lib/python3.10/site-packages (from gym==0.21) (2.2.6)\n",
            "Requirement already satisfied: cloudpickle>=1.2.0 in /home/tavakoli/.local/lib/python3.10/site-packages (from gym==0.21) (3.1.1)\n",
            "Installing collected packages: gym\n",
            "Successfully installed gym-0.21.0\n",
            "Gym version: 0.21.0\n",
            "Gym location: /home/tavakoli/.local/lib/python3.10/site-packages/gym/__init__.py\n"
          ]
        }
      ],
      "source": [
        "!pip uninstall -y gym gymnasium\n",
        "!pip install \"gym==0.21\" \"pybullet==3.2.5\"\n",
        "\n",
        "\n",
        "import gym\n",
        "print(\"Gym version:\", gym.__version__)\n",
        "print(\"Gym location:\", gym.__file__)\n",
        "\n",
        "\n",
        "# env = gym.make(\"HalfCheetahBulletEnv-v0\")\n",
        "# print(env.action_space, env.observation_space)\n"
      ]
    },
    {
      "cell_type": "code",
      "execution_count": 133,
      "metadata": {
        "id": "lsOeW66nhuiM"
      },
      "outputs": [],
      "source": [
        "import os\n",
        "import numpy as np\n",
        "import torch as T\n",
        "import torch.nn as nn\n",
        "import torch.optim as optim\n",
        "import torch.nn.functional as F\n",
        "import matplotlib.pyplot as plt\n",
        "from torch.distributions import Normal\n",
        "\n",
        "import warnings\n",
        "warnings.filterwarnings('ignore')\n",
        "from gym.wrappers import RecordVideo\n",
        "import gym\n",
        "import pybullet_envs\n",
        "np.bool8 = np.bool_\n",
        "# from tqdm.notebook import trange\n",
        "from tqdm import trange\n",
        "from IPython.display import Video"
      ]
    },
    {
      "cell_type": "markdown",
      "metadata": {
        "id": "WrFtqt8Pwc23"
      },
      "source": [
        "## 📈 Utility codes\n",
        "\n",
        "We will use this utility function to visualize the training progress.\n"
      ]
    },
    {
      "cell_type": "code",
      "execution_count": 134,
      "metadata": {
        "id": "_Gjp1OnqxcBN"
      },
      "outputs": [],
      "source": [
        "def plot_learning_curve(x, filename, save_plot=True):\n",
        "    avg_x = [np.mean(x[np.max([0, i - 100]):i]) for i in range(len(x))]\n",
        "    plt.figure(dpi=200)\n",
        "    plt.title('Learning Curve')\n",
        "    plt.plot(range(len(x)), x, label='score', alpha=0.3)\n",
        "    plt.plot(range(len(avg_x)), avg_x, label='average score')\n",
        "    plt.xlabel('Episode')\n",
        "    plt.ylabel('Score')\n",
        "    plt.legend()\n",
        "    plt.grid()\n",
        "    if save_plot:\n",
        "        plt.savefig(filename + '.png')\n",
        "    plt.show()"
      ]
    },
    {
      "cell_type": "markdown",
      "metadata": {
        "id": "8pfLBe7P-DZw"
      },
      "source": [
        "This class implements a **Replay Buffer** to store and sample transitions of the form $(s_t, a_t, r_t, s_{t+1}, d_t)$ to break correlation in updates for stability in mini-batch stochastic gradient descent.\n"
      ]
    },
    {
      "cell_type": "code",
      "execution_count": 135,
      "metadata": {
        "id": "peFGke2lw_fs"
      },
      "outputs": [],
      "source": [
        "class ReplayBuffer:\n",
        "    def __init__(self, buffer_size, state_dims, action_dims):\n",
        "        self.buffer_size = buffer_size\n",
        "        self.ptr = 0\n",
        "        self.is_full = False\n",
        "\n",
        "\n",
        "        # TODO: Initialize buffer arrays to store states, next states, actions, rewards, and done flags\n",
        "        # pass\n",
        "        self.states = np.zeros((buffer_size, state_dims), dtype=np.float32)\n",
        "        self.next_states = np.zeros((buffer_size, state_dims), dtype=np.float32)\n",
        "        self.actions = np.zeros((buffer_size, action_dims), dtype=np.float32)\n",
        "        self.rewards = np.zeros(buffer_size, dtype=np.float32)\n",
        "        self.dones = np.zeros(buffer_size, dtype=np.bool_)\n",
        "\n",
        "    def store_transition(self, state, action, reward, state_, done):\n",
        "        # TODO : Store the transition in the replay buffer\n",
        "        self.states[self.ptr] = state\n",
        "        self.actions[self.ptr] = action\n",
        "        self.rewards[self.ptr] = reward\n",
        "        self.next_states[self.ptr] = state_\n",
        "        self.dones[self.ptr] = done\n",
        "\n",
        "        self.ptr = (self.ptr + 1) % self.buffer_size\n",
        "        if self.ptr == 0:\n",
        "            self.is_full = True\n",
        "        # pass\n",
        "\n",
        "\n",
        "    def load_batch(self, batch_size):\n",
        "        # TODO: Sample a random batch of transitions from the buffer\n",
        "        max_index = self.buffer_size if self.is_full else self.ptr\n",
        "        indices = np.random.choice(max_index, batch_size, replace=False)\n",
        "\n",
        "        states = self.states[indices]\n",
        "        actions = self.actions[indices]\n",
        "        rewards = self.rewards[indices]\n",
        "        next_states = self.next_states[indices]\n",
        "        dones = self.dones[indices]\n",
        "\n",
        "        return states, actions, rewards, next_states, dones"
      ]
    },
    {
      "cell_type": "markdown",
      "metadata": {
        "id": "D93nKTCK-l3p"
      },
      "source": [
        "## 🧱 Neural Networks\n",
        "\n",
        "This cell defines three core neural networks used in SAC:\n",
        "\n",
        "- **Critic Network:**\n",
        "  Estimates the **Q-value function** $ Q(s, a) $. Two critics are used to mitigate overestimation bias.\n",
        "\n",
        "- **Value Network:**\n",
        "  Estimates the **state value function** $ V(s) $, used to train the actor and as a baseline.\n",
        "\n",
        "- **Actor Network:**\n",
        "  Outputs the **mean** and **standard deviation** for a Gaussian policy\n",
        "  $\n",
        "\\pi(a|s) = \\mathcal{N}(\\mu(s), \\sigma(s))\n",
        "$.\n"
      ]
    },
    {
      "cell_type": "code",
      "execution_count": 136,
      "metadata": {
        "id": "iLEiyCTLxLNS"
      },
      "outputs": [],
      "source": [
        "class Actor(nn.Module):\n",
        "    def __init__(self, alpha, state_dims, action_dims, fc1_dims, fc2_dims, max_action, \n",
        "                 reparam_noise_lim, name='Actor', ckpt_dir='tmp'):        \n",
        "        super(Actor, self).__init__()\n",
        "        \n",
        "         # TODO 1: Store initialization parameters\n",
        "        self.alpha = alpha\n",
        "        self.state_dims = state_dims\n",
        "        self.action_dims = action_dims\n",
        "        self.fc1_dims = fc1_dims\n",
        "        self.fc2_dims = fc2_dims\n",
        "        self.max_action = max_action\n",
        "        self.reparam_noise_lim = reparam_noise_lim  \n",
        "        self.name = name\n",
        "        self.ckpt_dir = ckpt_dir\n",
        "        self.ckpt_path = os.path.join(ckpt_dir, name + '_sac')\n",
        "\n",
        "        # TODO 2: Define fully connected layers to transform input state\n",
        "        self.fc1 = nn.Linear(state_dims, fc1_dims)\n",
        "        self.fc2 = nn.Linear(fc1_dims, fc2_dims)\n",
        "        \n",
        "        # TODO 3: Output mean and standard deviation for the Gaussian policy\n",
        "        self.mu = nn.Linear(fc2_dims, action_dims)\n",
        "        self.sigma = nn.Linear(fc2_dims, action_dims)\n",
        "        \n",
        "        # TODO 4: Define optimizer and move model to the appropriate device\n",
        "        self.optimizer = optim.Adam(self.parameters(), lr=alpha)\n",
        "        self.device = T.device('cuda:0' if T.cuda.is_available() else 'cpu')\n",
        "        self.to(self.device)\n",
        "\n",
        "\n",
        "    def forward(self, state):\n",
        "        #TODO        \n",
        "        x = F.relu(self.fc1(state))\n",
        "        x = F.relu(self.fc2(x))\n",
        "        \n",
        "        mu = self.mu(x)\n",
        "        sigma = F.softplus(self.sigma(x))  # Ensure positive std dev\n",
        "        \n",
        "        return mu, sigma\n",
        "\n",
        "    def sample_normal(self, state, reparameterize=True):\n",
        "        # # TODO 7: Use the actor to compute distribution parameters\n",
        "        mu, sigma = self.forward(state)\n",
        "        \n",
        "        # TODO 8: Create a normal distribution and sample from it\n",
        "        dist = Normal(mu, sigma.clamp(min=self.reparam_noise_lim))\n",
        "        \n",
        "        # Sample actions using reparameterization if requested\n",
        "        if reparameterize:\n",
        "            actions = dist.rsample()  # Reparameterized sampling\n",
        "        else:\n",
        "            actions = dist.sample()   # Standard sampling\n",
        "        \n",
        "        # Calculate log probabilities\n",
        "        log_probs = dist.log_prob(actions).sum(axis=-1, keepdim=True)\n",
        "        \n",
        "        # Apply tanh squashing to bound actions\n",
        "        actions = T.tanh(actions) * T.tensor(self.max_action).to(self.device)\n",
        "        \n",
        "        return actions, log_probs\n",
        "\n",
        "    def save_checkpoint(self):\n",
        "        os.makedirs(self.ckpt_dir, exist_ok=True)\n",
        "        T.save(self.state_dict(), self.ckpt_path)\n",
        "\n",
        "    def load_checkpoint(self, gpu_to_cpu=False):\n",
        "        if gpu_to_cpu:\n",
        "            self.load_state_dict(T.load(self.ckpt_path, map_location=lambda storage, loc: storage))\n",
        "        else:\n",
        "            self.load_state_dict(T.load(self.ckpt_path))"
      ]
    },
    {
      "cell_type": "code",
      "execution_count": 137,
      "metadata": {},
      "outputs": [],
      "source": [
        "class Critic(nn.Module):\n",
        "    def __init__(self, beta, state_dims, action_dims, fc1_dims, fc2_dims, name='Critic', ckpt_dir='tmp'):\n",
        "        super(Critic, self).__init__()\n",
        "        \n",
        "        # TODO 1: Save input arguments as attributes\n",
        "        self.beta = beta\n",
        "        self.state_dims = state_dims\n",
        "        self.action_dims = action_dims\n",
        "        self.fc1_dims = fc1_dims \n",
        "        self.fc2_dims = fc2_dims\n",
        "        self.name = name\n",
        "        self.ckpt_dir = ckpt_dir\n",
        "        self.ckpt_path = os.path.join(ckpt_dir, name + '_sac')\n",
        "        \n",
        "        # TODO 2: Define the first fully connected layer\n",
        "        # The input is the concatenation of state and action\n",
        "        self.fc1 = nn.Linear(state_dims + action_dims, fc1_dims)\n",
        "        \n",
        "        # TODO 3: Define the second hidden layer and the final Q-value output layer\n",
        "        self.fc2 = nn.Linear(fc1_dims, fc2_dims)\n",
        "        self.q = nn.Linear(fc2_dims, 1)\n",
        "\n",
        "        # TODO 4: Define the optimizer. Assign to the correct device\n",
        "        self.optimizer = optim.Adam(self.parameters(), lr=beta)\n",
        "        self.device = T.device('cuda:0' if T.cuda.is_available() else 'cpu')\n",
        "        self.to(self.device)\n",
        "\n",
        "    def forward(self, state, action):\n",
        "        # Concatenate state and action\n",
        "        x = T.cat([state, action], dim=1)\n",
        "        \n",
        "        # Forward pass through network\n",
        "        x = F.relu(self.fc1(x))\n",
        "        x = F.relu(self.fc2(x))\n",
        "        q = self.q(x)\n",
        "        \n",
        "        return q\n",
        "\n",
        "    def save_checkpoint(self):\n",
        "        os.makedirs(self.ckpt_dir, exist_ok=True)\n",
        "        T.save(self.state_dict(), self.ckpt_path)\n",
        "\n",
        "    def load_checkpoint(self, gpu_to_cpu=False):\n",
        "        if gpu_to_cpu:\n",
        "            self.load_state_dict(T.load(self.ckpt_path, map_location=lambda storage, loc: storage))\n",
        "        else:\n",
        "            self.load_state_dict(T.load(self.ckpt_path))"
      ]
    },
    {
      "cell_type": "code",
      "execution_count": 138,
      "metadata": {},
      "outputs": [],
      "source": [
        "class Value(nn.Module):\n",
        "    def __init__(self, beta, state_dims, fc1_dims, fc2_dims, name='Value', ckpt_dir='tmp'):\n",
        "        super(Value, self).__init__()\n",
        "        \n",
        "        # TODO 1: Save arguments as instance variables\n",
        "        self.beta = beta\n",
        "        self.state_dims = state_dims\n",
        "        self.fc1_dims = fc1_dims\n",
        "        self.fc2_dims = fc2_dims\n",
        "        self.name = name\n",
        "        self.ckpt_dir = ckpt_dir\n",
        "        self.ckpt_path = os.path.join(ckpt_dir, name + '_sac')\n",
        "        \n",
        "        # TODO 2: Define the fully connected layers for value approximation\n",
        "        self.fc1 = nn.Linear(state_dims, fc1_dims)\n",
        "        self.fc2 = nn.Linear(fc1_dims, fc2_dims)\n",
        "        self.v = nn.Linear(fc2_dims, 1)\n",
        "        \n",
        "        # TODO 3: Set optimizer and device\n",
        "        self.optimizer = optim.Adam(self.parameters(), lr=beta)\n",
        "        self.device = T.device('cuda:0' if T.cuda.is_available() else 'cpu')\n",
        "        self.to(self.device)\n",
        "\n",
        "    def forward(self, state):\n",
        "        x = F.relu(self.fc1(state))\n",
        "        x = F.relu(self.fc2(x))\n",
        "        v = self.v(x)\n",
        "        return v\n",
        "\n",
        "    def save_checkpoint(self):\n",
        "        os.makedirs(self.ckpt_dir, exist_ok=True)\n",
        "        T.save(self.state_dict(), self.ckpt_path)\n",
        "\n",
        "    def load_checkpoint(self, gpu_to_cpu=False):\n",
        "        if gpu_to_cpu:\n",
        "            self.load_state_dict(T.load(self.ckpt_path, map_location=lambda storage, loc: storage))\n",
        "        else:\n",
        "            self.load_state_dict(T.load(self.ckpt_path))"
      ]
    },
    {
      "cell_type": "markdown",
      "metadata": {
        "id": "RM9_xaEl_7Cj"
      },
      "source": [
        "## 🤖 Agent Implementation\n",
        "\n",
        "This class encapsulates the full logic of the SAC agent. In general, the learning process uses entropy-regularized policy gradients $J_\\pi = \\mathbb{E}_{s_t \\sim D, a_t \\sim \\pi} \\left[ \\alpha \\log(\\pi(a_t|s_t)) - Q(s_t, a_t) \\right]$ with soft target updates $\\theta_{\\text{target}} \\leftarrow \\tau \\theta + (1 - \\tau)\\theta_{\\text{target}}$.\n"
      ]
    },
    {
      "cell_type": "code",
      "execution_count": 139,
      "metadata": {
        "id": "cO2Gnvlfw7up"
      },
      "outputs": [],
      "source": [
        "class Agent:\n",
        "    def __init__(self, gamma, alpha, beta, state_dims, action_dims, max_action, fc1_dim, fc2_dim,\n",
        "                 memory_size, batch_size, tau, update_period, reward_scale, warmup, reparam_noise_lim,\n",
        "                 name, ckpt_dir='tmp'):\n",
        "        # TODO 1: Save all hyperparameters and paths\n",
        "        self.gamma = gamma\n",
        "        self.alpha = alpha  # Entropy coefficient\n",
        "        self.beta = beta    # Learning rate\n",
        "        self.state_dims = state_dims\n",
        "        self.action_dims = action_dims\n",
        "        self.max_action = max_action\n",
        "        self.fc1_dim = fc1_dim\n",
        "        self.fc2_dim = fc2_dim\n",
        "        self.memory_size = memory_size\n",
        "        self.batch_size = batch_size\n",
        "        self.tau = tau\n",
        "        self.update_period = update_period\n",
        "        self.reward_scale = reward_scale\n",
        "        self.warmup = warmup\n",
        "        self.reparam_noise_lim = reparam_noise_lim\n",
        "        self.ckpt_dir = ckpt_dir\n",
        "\n",
        "\n",
        "        model_name = f'{name}__' \\\n",
        "                     f'gamma_{gamma}__' \\\n",
        "                     f'alpha_{alpha}__' \\\n",
        "                     f'beta_{beta}__' \\\n",
        "                     f'fc1_{fc1_dim}__' \\\n",
        "                     f'fc2_{fc2_dim}__' \\\n",
        "                     f'bs_{batch_size}__' \\\n",
        "                     f'buffer_{memory_size}__' \\\n",
        "                     f'update_period_{update_period}__' \\\n",
        "                     f'tau_{tau}__'\n",
        "\n",
        "        self.model_name = model_name\n",
        "        self.learn_iter = 0\n",
        "        self.full_path = os.path.join(self.ckpt_dir, self.model_name)\n",
        "\n",
        "        # TODO 2: Initialize the replay buffer\n",
        "        self.memory = ReplayBuffer(memory_size, state_dims, action_dims)\n",
        "        \n",
        "        \n",
        "\n",
        "        # TODO 3: Initialize Actor and Critic networks\n",
        "        self.actor = Actor(alpha=alpha, state_dims=state_dims, action_dims=action_dims,\n",
        "                               max_action=max_action, fc1_dims=fc1_dim, fc2_dims=fc2_dim,\n",
        "                               reparam_noise_lim=reparam_noise_lim, name=f'{name}_actor', ckpt_dir=ckpt_dir)\n",
        "        \n",
        "        self.critic_1 = Critic(beta=beta, state_dims=state_dims, action_dims=action_dims,\n",
        "                                     fc1_dims=fc1_dim, fc2_dims=fc2_dim,\n",
        "                                     name=f'{name}_critic_1', ckpt_dir=ckpt_dir)\n",
        "        \n",
        "        self.critic_2 = Critic(beta=beta, state_dims=state_dims, action_dims=action_dims,\n",
        "                                     fc1_dims=fc1_dim, fc2_dims=fc2_dim,\n",
        "                                     name=f'{name}_critic_2', ckpt_dir=ckpt_dir)\n",
        "\n",
        "        \n",
        "        \n",
        "        # TODO 4: Initialize Value and Target Value networks\n",
        "        self.value = Value(beta=beta, state_dims=state_dims,\n",
        "                                fc1_dims=fc1_dim, fc2_dims=fc2_dim,\n",
        "                                name=f'{name}_value', ckpt_dir=ckpt_dir)\n",
        "        \n",
        "        self.target_value = Value(beta=beta, state_dims=state_dims,\n",
        "                                       fc1_dims=fc1_dim, fc2_dims=fc2_dim,\n",
        "                                       name=f'{name}_target_value', ckpt_dir=ckpt_dir)\n",
        "\n",
        "        # TODO 5: Sync the parameters of value and target_value networks initially\n",
        "        self.update_parameters(tau=1.0)\n",
        "\n",
        "    def choose_action(self, state, deterministic=False, reparameterize=False):\n",
        "        \n",
        "        # TODO 6: Convert state to tensor, move to device, and add batch dimension\n",
        "        state = T.tensor(state, dtype=T.float32).to(self.actor.device).unsqueeze(0)\n",
        "\n",
        "\n",
        "        # TODO 7: Choose action from actor\n",
        "        mu, sigma = self.actor(state)\n",
        "        if deterministic:\n",
        "            action = mu\n",
        "        else:\n",
        "            dist = Normal(mu, sigma.clamp(min=self.reparam_noise_lim))\n",
        "            action = dist.rsample() if reparameterize else dist.sample()\n",
        "        \n",
        "        action = T.tanh(action) * T.tensor(self.max_action).to(self.actor.device)\n",
        "        \n",
        "        return action.cpu().detach().numpy()[0]\n",
        "        # pass\n",
        "\n",
        "    def store_transition(self, state, action, reward, state_, done):\n",
        "        # pass\n",
        "        self.memory.store_transition(state, action, reward, state_, done)\n",
        "\n",
        "    def load_batch(self):\n",
        "        states, actions, rewards, states_, dones = self.memory.load_batch(self.batch_size)\n",
        "        states = T.tensor(states, dtype=T.float32).to(self.actor.device)\n",
        "        actions = T.tensor(actions, dtype=T.float32).to(self.actor.device)\n",
        "        rewards = T.tensor(rewards, dtype=T.float32).to(self.actor.device)\n",
        "        states_ = T.tensor(states_, dtype=T.float32).to(self.actor.device)\n",
        "        dones = T.tensor(dones, dtype=T.bool).to(self.actor.device)\n",
        "        return states, actions, rewards, states_, dones\n",
        "\n",
        "    def update_parameters(self, tau=None):\n",
        "        # pass\n",
        "        if tau is None:\n",
        "            tau = self.tau\n",
        "        \n",
        "        target_value_params = self.target_value.named_parameters()\n",
        "        value_params = self.value.named_parameters()\n",
        "\n",
        "        target_value_state_dict = dict(target_value_params)\n",
        "        value_state_dict = dict(value_params)\n",
        "\n",
        "        for name in target_value_state_dict:\n",
        "            target_value_state_dict[name] = tau * value_state_dict[name].clone() + \\\n",
        "                                          (1 - tau) * target_value_state_dict[name].clone()\n",
        "\n",
        "        self.target_value.load_state_dict(target_value_state_dict)\n",
        "\n",
        "\n",
        "\n",
        "    def save_model(self):\n",
        "        print('... saving checkpoint ...')\n",
        "        self.actor.save_checkpoint()\n",
        "        self.critic_1.save_checkpoint()\n",
        "        self.critic_2.save_checkpoint()\n",
        "        self.value.save_checkpoint()\n",
        "        self.target_value.save_checkpoint()\n",
        "\n",
        "    def load_model(self, gpu_to_cpu=False):\n",
        "        print('... loading checkpoint ...')\n",
        "        self.actor.load_checkpoint(gpu_to_cpu=gpu_to_cpu)\n",
        "        self.critic_1.load_checkpoint(gpu_to_cpu=gpu_to_cpu)\n",
        "        self.critic_2.load_checkpoint(gpu_to_cpu=gpu_to_cpu)\n",
        "        self.value.load_checkpoint(gpu_to_cpu=gpu_to_cpu)\n",
        "        self.target_value.load_checkpoint(gpu_to_cpu=gpu_to_cpu)\n",
        "\n",
        "    def learn(self):\n",
        "\n",
        "        if self.memory.ptr < self.batch_size:\n",
        "            return\n",
        "\n",
        "        states, actions, rewards, states_, dones = self.load_batch()\n",
        "\n",
        "        # === CRITIC LOSS ===\n",
        "        # Resample actions from the current policy on the next states\n",
        "        mu, sigma = self.actor(states_)\n",
        "        dist = Normal(mu, sigma.clamp(min=self.reparam_noise_lim))\n",
        "        new_actions_next_state = dist.sample()\n",
        "\n",
        "        # Sum the log probabilities across the action dimensions\n",
        "        log_probs_next_state = dist.log_prob(new_actions_next_state).sum(-1, keepdim=True)\n",
        "        new_actions_next_state = T.tanh(new_actions_next_state)\n",
        "\n",
        "        # Estimate Q-values for the next states\n",
        "        q1_target_next = self.critic_1(states_, new_actions_next_state).view(-1)\n",
        "        q2_target_next = self.critic_2(states_, new_actions_next_state).view(-1)\n",
        "        q_target_next = T.min(q1_target_next, q2_target_next)\n",
        "\n",
        "        # Compute the value target for the next states\n",
        "        # Ensure the shape matches the batch size before indexing\n",
        "        value_target_next = (q_target_next - self.alpha * log_probs_next_state.squeeze()).view(-1).detach()\n",
        "        value_target_next[dones] = 0.0\n",
        "        \n",
        "        # Compute the Q-target for the critics using the bellman equation\n",
        "        q_target = self.reward_scale * rewards + self.gamma * value_target_next\n",
        "        \n",
        "        # Get Q-values for the states and actions from the replay buffer\n",
        "        q1_old = self.critic_1(states, actions).view(-1)\n",
        "        q2_old = self.critic_2(states, actions).view(-1)\n",
        "\n",
        "        # Compute MSE loss for both critics\n",
        "        critic_1_loss = 0.5 * F.mse_loss(q1_old, q_target.detach())\n",
        "        critic_2_loss = 0.5 * F.mse_loss(q2_old, q_target.detach())\n",
        "\n",
        "        self.critic_1.optimizer.zero_grad()\n",
        "        critic_1_loss.backward()\n",
        "        self.critic_1.optimizer.step()\n",
        "\n",
        "        self.critic_2.optimizer.zero_grad()\n",
        "        critic_2_loss.backward()\n",
        "        self.critic_2.optimizer.step()\n",
        "\n",
        "        # === ACTOR LOSS ===\n",
        "        # Resample actions with reparameterization trick\n",
        "        mu, sigma = self.actor(states)\n",
        "        dist = Normal(mu, sigma.clamp(min=self.reparam_noise_lim))\n",
        "        new_actions = dist.rsample()\n",
        "\n",
        "        # Sum the log probabilities across the action dimensions\n",
        "        log_probs = dist.log_prob(new_actions).sum(-1, keepdim=True)\n",
        "        new_actions = T.tanh(new_actions)\n",
        "        \n",
        "        # Get Q-values for the new actions\n",
        "        q1_new = self.critic_1(states, new_actions)\n",
        "        q2_new = self.critic_2(states, new_actions)\n",
        "        q_new = T.min(q1_new, q2_new)\n",
        "\n",
        "        # Maximize entropy-regularized Q-value\n",
        "        actor_loss = (self.alpha * log_probs - q_new).mean()\n",
        "        self.actor.optimizer.zero_grad()\n",
        "        actor_loss.backward()\n",
        "        self.actor.optimizer.step()\n",
        "\n",
        "        # === TARGET NETWORK UPDATE ===\n",
        "        if self.learn_iter % self.update_period == 0:\n",
        "            self.update_parameters()\n",
        "\n",
        "        self.learn_iter += 1\n"
      ]
    },
    {
      "cell_type": "markdown",
      "metadata": {
        "id": "XjXrh27QBTkn"
      },
      "source": [
        "## ⚙️ Training Configuration\n",
        "\n",
        "Set up your training parameters. `HalfCheetahBulletEnv-v0` is a continuous control task where the agent must learn to run using articulated legs.\n"
      ]
    },
    {
      "cell_type": "code",
      "execution_count": null,
      "metadata": {
        "id": "1ZaWTp5Ufczm"
      },
      "outputs": [],
      "source": [
        "# Configuration parameters\n",
        "\n",
        "\n",
        "env_name = 'HalfCheetahBulletEnv-v0'\n",
        "dir = 'tmp'\n",
        "n_games = 1000\n",
        "\n",
        "\n",
        "# gamma = 0.995\n",
        "# alpha = 5e-5  # Entropy coefficient\n",
        "# beta = 5e-5   # Learning rate\n",
        "# fc1_dim = 256\n",
        "# fc2_dim = 256\n",
        "# memory_size = 1000000  # Replay buffer size\n",
        "# batch_size = 256       # Batch size for training\n",
        "# tau = 0.005\n",
        "# update_period = 2\n",
        "# reward_scale = 1.0\n",
        "# warmup = 20000  # Warmup steps before learning\n",
        "# reparam_noise_lim = 1e-6\n",
        "# record_video = True\n",
        "\n",
        "gamma = 0.99\n",
        "alpha = 0.1  \n",
        "beta = 1e-4 \n",
        "fc1_dim = 256\n",
        "fc2_dim = 256\n",
        "memory_size = 1_000_000\n",
        "batch_size = 256\n",
        "tau = 0.005\n",
        "update_period = 2\n",
        "reward_scale = 1.0\n",
        "warmup = 10000  \n",
        "reparam_noise_lim = 1e-6\n",
        "n_games = 2000"
      ]
    },
    {
      "cell_type": "markdown",
      "metadata": {
        "id": "fMysPzLMiJ5q"
      },
      "source": [
        "## 🚀 Training Loop\n",
        "\n",
        "For each episode, interact with the environment to collect transitions, then update the SAC networks and save the best model.\n",
        "\n",
        "After training, a learning curve is plotted to visualize convergence and performance stability.\n"
      ]
    },
    {
      "cell_type": "code",
      "execution_count": 141,
      "metadata": {},
      "outputs": [
        {
          "name": "stdout",
          "output_type": "stream",
          "text": [
            "/bin/bash: line 1: brew: command not found\n"
          ]
        }
      ],
      "source": [
        "!brew install ffmpeg"
      ]
    },
    {
      "cell_type": "code",
      "execution_count": 142,
      "metadata": {
        "colab": {
          "base_uri": "https://localhost:8080/",
          "height": 1000,
          "referenced_widgets": [
            "b45987f802274a62b9633f2d7b9f64fe",
            "867a5da8e845491abb9831ea70151bd8",
            "b7922eb1cec94e4dba17d6c61860acf4",
            "318307cadf994c8591c3364aa65629c5",
            "b58b2c64b99d40f5ab1283c0ca9bbd1a",
            "2021c79eb97f4ba2907cbf94ae545328",
            "c1de0b5c209c44d39ba7774788c7615c",
            "560052b07f554e0e9043d2829be69b35",
            "d4767a1b9dd04f53a60b6ebe7a6c4470",
            "af94226c518d4e608c8832d44ef907b0",
            "099c37442fbf45e2bddc0cef61414831"
          ]
        },
        "id": "SMdDnnagfDxw",
        "outputId": "76372a2a-c541-4cf4-c4c1-f5232ba07907"
      },
      "outputs": [
        {
          "name": "stderr",
          "output_type": "stream",
          "text": [
            "  0%|          | 0/2000 [00:00<?, ?it/s]"
          ]
        },
        {
          "name": "stdout",
          "output_type": "stream",
          "text": [
            "argv[0]=\n",
            "argv[0]=\n"
          ]
        },
        {
          "name": "stderr",
          "output_type": "stream",
          "text": [
            "  0%|          | 1/2000 [00:08<4:46:09,  8.59s/it]"
          ]
        },
        {
          "name": "stdout",
          "output_type": "stream",
          "text": [
            "| Game:      0 | Score:   -1525.38 | Best score:   -1525.38 | Avg score   -1525.38 | Learning iter:        745 |\n",
            "... saving checkpoint ...\n"
          ]
        },
        {
          "name": "stderr",
          "output_type": "stream",
          "text": [
            "  0%|          | 2/2000 [00:19<5:29:21,  9.89s/it]"
          ]
        },
        {
          "name": "stdout",
          "output_type": "stream",
          "text": [
            "| Game:      1 | Score:   -1693.33 | Best score:   -1525.38 | Avg score   -1609.36 | Learning iter:       1745 |\n"
          ]
        },
        {
          "name": "stderr",
          "output_type": "stream",
          "text": [
            "  0%|          | 3/2000 [00:30<5:44:11, 10.34s/it]"
          ]
        },
        {
          "name": "stdout",
          "output_type": "stream",
          "text": [
            "| Game:      2 | Score:   -1697.96 | Best score:   -1525.38 | Avg score   -1638.89 | Learning iter:       2745 |\n"
          ]
        },
        {
          "name": "stderr",
          "output_type": "stream",
          "text": [
            "  0%|          | 4/2000 [00:41<5:50:28, 10.54s/it]"
          ]
        },
        {
          "name": "stdout",
          "output_type": "stream",
          "text": [
            "| Game:      3 | Score:   -1817.08 | Best score:   -1525.38 | Avg score   -1683.44 | Learning iter:       3745 |\n"
          ]
        },
        {
          "name": "stderr",
          "output_type": "stream",
          "text": [
            "  0%|          | 5/2000 [00:51<5:53:58, 10.65s/it]"
          ]
        },
        {
          "name": "stdout",
          "output_type": "stream",
          "text": [
            "| Game:      4 | Score:   -1805.35 | Best score:   -1525.38 | Avg score   -1707.82 | Learning iter:       4745 |\n"
          ]
        },
        {
          "name": "stderr",
          "output_type": "stream",
          "text": [
            "  0%|          | 6/2000 [01:02<5:55:28, 10.70s/it]"
          ]
        },
        {
          "name": "stdout",
          "output_type": "stream",
          "text": [
            "| Game:      5 | Score:   -1780.27 | Best score:   -1525.38 | Avg score   -1719.90 | Learning iter:       5745 |\n"
          ]
        },
        {
          "name": "stderr",
          "output_type": "stream",
          "text": [
            "  0%|          | 7/2000 [01:13<5:56:42, 10.74s/it]"
          ]
        },
        {
          "name": "stdout",
          "output_type": "stream",
          "text": [
            "| Game:      6 | Score:   -1683.01 | Best score:   -1525.38 | Avg score   -1714.63 | Learning iter:       6745 |\n"
          ]
        },
        {
          "name": "stderr",
          "output_type": "stream",
          "text": [
            "  0%|          | 8/2000 [01:24<5:56:49, 10.75s/it]"
          ]
        },
        {
          "name": "stdout",
          "output_type": "stream",
          "text": [
            "| Game:      7 | Score:   -1562.30 | Best score:   -1525.38 | Avg score   -1695.59 | Learning iter:       7745 |\n"
          ]
        },
        {
          "name": "stderr",
          "output_type": "stream",
          "text": [
            "  0%|          | 9/2000 [01:34<5:55:43, 10.72s/it]"
          ]
        },
        {
          "name": "stdout",
          "output_type": "stream",
          "text": [
            "| Game:      8 | Score:   -1678.08 | Best score:   -1525.38 | Avg score   -1693.64 | Learning iter:       8745 |\n"
          ]
        },
        {
          "name": "stderr",
          "output_type": "stream",
          "text": [
            "  0%|          | 10/2000 [01:45<5:57:33, 10.78s/it]"
          ]
        },
        {
          "name": "stdout",
          "output_type": "stream",
          "text": [
            "| Game:      9 | Score:   -1131.49 | Best score:   -1525.38 | Avg score   -1637.42 | Learning iter:       9745 |\n"
          ]
        },
        {
          "name": "stderr",
          "output_type": "stream",
          "text": [
            "  1%|          | 11/2000 [01:56<5:57:49, 10.79s/it]"
          ]
        },
        {
          "name": "stdout",
          "output_type": "stream",
          "text": [
            "| Game:     10 | Score:   -1940.17 | Best score:   -1525.38 | Avg score   -1664.95 | Learning iter:      10745 |\n"
          ]
        },
        {
          "name": "stderr",
          "output_type": "stream",
          "text": [
            "  1%|          | 12/2000 [02:07<5:59:41, 10.86s/it]"
          ]
        },
        {
          "name": "stdout",
          "output_type": "stream",
          "text": [
            "| Game:     11 | Score:   -1672.16 | Best score:   -1525.38 | Avg score   -1665.55 | Learning iter:      11745 |\n"
          ]
        },
        {
          "name": "stderr",
          "output_type": "stream",
          "text": [
            "  1%|          | 13/2000 [02:18<6:01:30, 10.92s/it]"
          ]
        },
        {
          "name": "stdout",
          "output_type": "stream",
          "text": [
            "| Game:     12 | Score:   -1524.96 | Best score:   -1525.38 | Avg score   -1654.73 | Learning iter:      12745 |\n"
          ]
        },
        {
          "name": "stderr",
          "output_type": "stream",
          "text": [
            "  1%|          | 14/2000 [02:29<6:02:24, 10.95s/it]"
          ]
        },
        {
          "name": "stdout",
          "output_type": "stream",
          "text": [
            "| Game:     13 | Score:   -1782.64 | Best score:   -1525.38 | Avg score   -1663.87 | Learning iter:      13745 |\n"
          ]
        },
        {
          "name": "stderr",
          "output_type": "stream",
          "text": [
            "  1%|          | 15/2000 [02:40<6:00:56, 10.91s/it]"
          ]
        },
        {
          "name": "stdout",
          "output_type": "stream",
          "text": [
            "| Game:     14 | Score:   -1522.29 | Best score:   -1525.38 | Avg score   -1654.43 | Learning iter:      14745 |\n"
          ]
        },
        {
          "name": "stderr",
          "output_type": "stream",
          "text": [
            "  1%|          | 16/2000 [02:51<6:01:50, 10.94s/it]"
          ]
        },
        {
          "name": "stdout",
          "output_type": "stream",
          "text": [
            "| Game:     15 | Score:   -1781.26 | Best score:   -1525.38 | Avg score   -1662.36 | Learning iter:      15745 |\n"
          ]
        },
        {
          "name": "stderr",
          "output_type": "stream",
          "text": [
            "  1%|          | 17/2000 [03:02<6:02:06, 10.96s/it]"
          ]
        },
        {
          "name": "stdout",
          "output_type": "stream",
          "text": [
            "| Game:     16 | Score:   -1665.79 | Best score:   -1525.38 | Avg score   -1662.56 | Learning iter:      16745 |\n"
          ]
        },
        {
          "name": "stderr",
          "output_type": "stream",
          "text": [
            "  1%|          | 18/2000 [03:13<6:03:24, 11.00s/it]"
          ]
        },
        {
          "name": "stdout",
          "output_type": "stream",
          "text": [
            "| Game:     17 | Score:   -1542.83 | Best score:   -1525.38 | Avg score   -1655.91 | Learning iter:      17745 |\n"
          ]
        },
        {
          "name": "stderr",
          "output_type": "stream",
          "text": [
            "  1%|          | 19/2000 [03:24<6:04:24, 11.04s/it]"
          ]
        },
        {
          "name": "stdout",
          "output_type": "stream",
          "text": [
            "| Game:     18 | Score:   -1769.87 | Best score:   -1525.38 | Avg score   -1661.91 | Learning iter:      18745 |\n"
          ]
        },
        {
          "name": "stderr",
          "output_type": "stream",
          "text": [
            "  1%|          | 20/2000 [03:36<6:05:19, 11.07s/it]"
          ]
        },
        {
          "name": "stdout",
          "output_type": "stream",
          "text": [
            "| Game:     19 | Score:   -1663.80 | Best score:   -1525.38 | Avg score   -1662.00 | Learning iter:      19745 |\n"
          ]
        },
        {
          "name": "stderr",
          "output_type": "stream",
          "text": [
            "  1%|          | 21/2000 [03:47<6:05:31, 11.08s/it]"
          ]
        },
        {
          "name": "stdout",
          "output_type": "stream",
          "text": [
            "| Game:     20 | Score:   -1695.65 | Best score:   -1525.38 | Avg score   -1663.60 | Learning iter:      20745 |\n"
          ]
        },
        {
          "name": "stderr",
          "output_type": "stream",
          "text": [
            "  1%|          | 22/2000 [03:58<6:05:20, 11.08s/it]"
          ]
        },
        {
          "name": "stdout",
          "output_type": "stream",
          "text": [
            "| Game:     21 | Score:   -1694.04 | Best score:   -1525.38 | Avg score   -1664.99 | Learning iter:      21745 |\n"
          ]
        },
        {
          "name": "stderr",
          "output_type": "stream",
          "text": [
            "  1%|          | 23/2000 [04:09<6:06:25, 11.12s/it]"
          ]
        },
        {
          "name": "stdout",
          "output_type": "stream",
          "text": [
            "| Game:     22 | Score:   -1635.34 | Best score:   -1525.38 | Avg score   -1663.70 | Learning iter:      22745 |\n"
          ]
        },
        {
          "name": "stderr",
          "output_type": "stream",
          "text": [
            "  1%|          | 24/2000 [04:20<6:06:53, 11.14s/it]"
          ]
        },
        {
          "name": "stdout",
          "output_type": "stream",
          "text": [
            "| Game:     23 | Score:   -1721.13 | Best score:   -1525.38 | Avg score   -1666.09 | Learning iter:      23745 |\n"
          ]
        },
        {
          "name": "stderr",
          "output_type": "stream",
          "text": [
            "  1%|▏         | 25/2000 [04:31<6:07:27, 11.16s/it]"
          ]
        },
        {
          "name": "stdout",
          "output_type": "stream",
          "text": [
            "| Game:     24 | Score:   -1697.40 | Best score:   -1525.38 | Avg score   -1667.34 | Learning iter:      24745 |\n"
          ]
        },
        {
          "name": "stderr",
          "output_type": "stream",
          "text": [
            "  1%|▏         | 26/2000 [04:42<6:07:04, 11.16s/it]"
          ]
        },
        {
          "name": "stdout",
          "output_type": "stream",
          "text": [
            "| Game:     25 | Score:   -1764.28 | Best score:   -1525.38 | Avg score   -1671.07 | Learning iter:      25745 |\n"
          ]
        },
        {
          "name": "stderr",
          "output_type": "stream",
          "text": [
            "  1%|▏         | 27/2000 [04:54<6:07:25, 11.17s/it]"
          ]
        },
        {
          "name": "stdout",
          "output_type": "stream",
          "text": [
            "| Game:     26 | Score:   -1824.18 | Best score:   -1525.38 | Avg score   -1676.74 | Learning iter:      26745 |\n"
          ]
        },
        {
          "name": "stderr",
          "output_type": "stream",
          "text": [
            "  1%|▏         | 28/2000 [05:05<6:07:30, 11.18s/it]"
          ]
        },
        {
          "name": "stdout",
          "output_type": "stream",
          "text": [
            "| Game:     27 | Score:   -1293.93 | Best score:   -1525.38 | Avg score   -1663.07 | Learning iter:      27745 |\n"
          ]
        },
        {
          "name": "stderr",
          "output_type": "stream",
          "text": [
            "  1%|▏         | 29/2000 [05:16<6:07:35, 11.19s/it]"
          ]
        },
        {
          "name": "stdout",
          "output_type": "stream",
          "text": [
            "| Game:     28 | Score:   -1761.98 | Best score:   -1525.38 | Avg score   -1666.48 | Learning iter:      28745 |\n"
          ]
        },
        {
          "name": "stderr",
          "output_type": "stream",
          "text": [
            "  2%|▏         | 30/2000 [05:27<6:07:45, 11.20s/it]"
          ]
        },
        {
          "name": "stdout",
          "output_type": "stream",
          "text": [
            "| Game:     29 | Score:   -1707.92 | Best score:   -1525.38 | Avg score   -1667.86 | Learning iter:      29745 |\n"
          ]
        },
        {
          "name": "stderr",
          "output_type": "stream",
          "text": [
            "  2%|▏         | 31/2000 [05:39<6:07:50, 11.21s/it]"
          ]
        },
        {
          "name": "stdout",
          "output_type": "stream",
          "text": [
            "| Game:     30 | Score:   -1610.95 | Best score:   -1525.38 | Avg score   -1666.03 | Learning iter:      30745 |\n"
          ]
        },
        {
          "name": "stderr",
          "output_type": "stream",
          "text": [
            "  2%|▏         | 32/2000 [05:50<6:08:21, 11.23s/it]"
          ]
        },
        {
          "name": "stdout",
          "output_type": "stream",
          "text": [
            "| Game:     31 | Score:   -1492.45 | Best score:   -1525.38 | Avg score   -1660.60 | Learning iter:      31745 |\n"
          ]
        },
        {
          "name": "stderr",
          "output_type": "stream",
          "text": [
            "  2%|▏         | 33/2000 [06:01<6:09:04, 11.26s/it]"
          ]
        },
        {
          "name": "stdout",
          "output_type": "stream",
          "text": [
            "| Game:     32 | Score:   -1564.98 | Best score:   -1525.38 | Avg score   -1657.70 | Learning iter:      32745 |\n"
          ]
        },
        {
          "name": "stderr",
          "output_type": "stream",
          "text": [
            "  2%|▏         | 34/2000 [06:12<6:08:48, 11.26s/it]"
          ]
        },
        {
          "name": "stdout",
          "output_type": "stream",
          "text": [
            "| Game:     33 | Score:   -1616.94 | Best score:   -1525.38 | Avg score   -1656.51 | Learning iter:      33745 |\n"
          ]
        },
        {
          "name": "stderr",
          "output_type": "stream",
          "text": [
            "  2%|▏         | 35/2000 [06:24<6:09:19, 11.28s/it]"
          ]
        },
        {
          "name": "stdout",
          "output_type": "stream",
          "text": [
            "| Game:     34 | Score:   -1713.54 | Best score:   -1525.38 | Avg score   -1658.13 | Learning iter:      34745 |\n"
          ]
        },
        {
          "name": "stderr",
          "output_type": "stream",
          "text": [
            "  2%|▏         | 36/2000 [06:35<6:09:12, 11.28s/it]"
          ]
        },
        {
          "name": "stdout",
          "output_type": "stream",
          "text": [
            "| Game:     35 | Score:   -1588.56 | Best score:   -1525.38 | Avg score   -1656.20 | Learning iter:      35745 |\n"
          ]
        },
        {
          "name": "stderr",
          "output_type": "stream",
          "text": [
            "  2%|▏         | 37/2000 [06:46<6:09:35, 11.30s/it]"
          ]
        },
        {
          "name": "stdout",
          "output_type": "stream",
          "text": [
            "| Game:     36 | Score:   -1835.25 | Best score:   -1525.38 | Avg score   -1661.04 | Learning iter:      36745 |\n"
          ]
        },
        {
          "name": "stderr",
          "output_type": "stream",
          "text": [
            "  2%|▏         | 38/2000 [06:58<6:10:10, 11.32s/it]"
          ]
        },
        {
          "name": "stdout",
          "output_type": "stream",
          "text": [
            "| Game:     37 | Score:   -1891.95 | Best score:   -1525.38 | Avg score   -1667.12 | Learning iter:      37745 |\n"
          ]
        },
        {
          "name": "stderr",
          "output_type": "stream",
          "text": [
            "  2%|▏         | 39/2000 [07:09<6:10:49, 11.35s/it]"
          ]
        },
        {
          "name": "stdout",
          "output_type": "stream",
          "text": [
            "| Game:     38 | Score:   -1870.04 | Best score:   -1525.38 | Avg score   -1672.32 | Learning iter:      38745 |\n"
          ]
        },
        {
          "name": "stderr",
          "output_type": "stream",
          "text": [
            "  2%|▏         | 40/2000 [07:23<6:32:10, 12.01s/it]"
          ]
        },
        {
          "name": "stdout",
          "output_type": "stream",
          "text": [
            "| Game:     39 | Score:   -1839.61 | Best score:   -1525.38 | Avg score   -1676.50 | Learning iter:      39745 |\n"
          ]
        },
        {
          "name": "stderr",
          "output_type": "stream",
          "text": [
            "  2%|▏         | 41/2000 [07:34<6:26:30, 11.84s/it]"
          ]
        },
        {
          "name": "stdout",
          "output_type": "stream",
          "text": [
            "| Game:     40 | Score:   -1683.04 | Best score:   -1525.38 | Avg score   -1676.66 | Learning iter:      40745 |\n"
          ]
        },
        {
          "name": "stderr",
          "output_type": "stream",
          "text": [
            "  2%|▏         | 42/2000 [07:46<6:22:17, 11.71s/it]"
          ]
        },
        {
          "name": "stdout",
          "output_type": "stream",
          "text": [
            "| Game:     41 | Score:   -1802.44 | Best score:   -1525.38 | Avg score   -1679.66 | Learning iter:      41745 |\n"
          ]
        },
        {
          "name": "stderr",
          "output_type": "stream",
          "text": [
            "  2%|▏         | 43/2000 [07:57<6:20:13, 11.66s/it]"
          ]
        },
        {
          "name": "stdout",
          "output_type": "stream",
          "text": [
            "| Game:     42 | Score:   -1566.58 | Best score:   -1525.38 | Avg score   -1677.03 | Learning iter:      42745 |\n"
          ]
        },
        {
          "name": "stderr",
          "output_type": "stream",
          "text": [
            "  2%|▏         | 44/2000 [08:09<6:19:18, 11.64s/it]"
          ]
        },
        {
          "name": "stdout",
          "output_type": "stream",
          "text": [
            "| Game:     43 | Score:   -1588.63 | Best score:   -1525.38 | Avg score   -1675.02 | Learning iter:      43745 |\n"
          ]
        },
        {
          "name": "stderr",
          "output_type": "stream",
          "text": [
            "  2%|▏         | 45/2000 [08:20<6:18:51, 11.63s/it]"
          ]
        },
        {
          "name": "stdout",
          "output_type": "stream",
          "text": [
            "| Game:     44 | Score:   -1634.15 | Best score:   -1525.38 | Avg score   -1674.11 | Learning iter:      44745 |\n"
          ]
        },
        {
          "name": "stderr",
          "output_type": "stream",
          "text": [
            "  2%|▏         | 46/2000 [08:32<6:18:15, 11.61s/it]"
          ]
        },
        {
          "name": "stdout",
          "output_type": "stream",
          "text": [
            "| Game:     45 | Score:   -1706.18 | Best score:   -1525.38 | Avg score   -1674.81 | Learning iter:      45745 |\n"
          ]
        },
        {
          "name": "stderr",
          "output_type": "stream",
          "text": [
            "  2%|▏         | 47/2000 [08:43<6:18:24, 11.63s/it]"
          ]
        },
        {
          "name": "stdout",
          "output_type": "stream",
          "text": [
            "| Game:     46 | Score:   -1585.98 | Best score:   -1525.38 | Avg score   -1672.92 | Learning iter:      46745 |\n"
          ]
        },
        {
          "name": "stderr",
          "output_type": "stream",
          "text": [
            "  2%|▏         | 48/2000 [08:55<6:17:57, 11.62s/it]"
          ]
        },
        {
          "name": "stdout",
          "output_type": "stream",
          "text": [
            "| Game:     47 | Score:   -1691.91 | Best score:   -1525.38 | Avg score   -1673.31 | Learning iter:      47745 |\n"
          ]
        },
        {
          "name": "stderr",
          "output_type": "stream",
          "text": [
            "  2%|▏         | 49/2000 [09:07<6:18:00, 11.63s/it]"
          ]
        },
        {
          "name": "stdout",
          "output_type": "stream",
          "text": [
            "| Game:     48 | Score:   -1821.38 | Best score:   -1525.38 | Avg score   -1676.34 | Learning iter:      48745 |\n"
          ]
        },
        {
          "name": "stderr",
          "output_type": "stream",
          "text": [
            "  2%|▎         | 50/2000 [09:18<6:18:46, 11.65s/it]"
          ]
        },
        {
          "name": "stdout",
          "output_type": "stream",
          "text": [
            "| Game:     49 | Score:   -1650.17 | Best score:   -1525.38 | Avg score   -1675.81 | Learning iter:      49745 |\n"
          ]
        },
        {
          "name": "stderr",
          "output_type": "stream",
          "text": [
            "  3%|▎         | 51/2000 [09:30<6:19:10, 11.67s/it]"
          ]
        },
        {
          "name": "stdout",
          "output_type": "stream",
          "text": [
            "| Game:     50 | Score:   -1787.04 | Best score:   -1525.38 | Avg score   -1677.99 | Learning iter:      50745 |\n"
          ]
        },
        {
          "name": "stderr",
          "output_type": "stream",
          "text": [
            "  3%|▎         | 52/2000 [09:42<6:18:39, 11.66s/it]"
          ]
        },
        {
          "name": "stdout",
          "output_type": "stream",
          "text": [
            "| Game:     51 | Score:   -1690.58 | Best score:   -1525.38 | Avg score   -1678.23 | Learning iter:      51745 |\n"
          ]
        },
        {
          "name": "stderr",
          "output_type": "stream",
          "text": [
            "  3%|▎         | 53/2000 [09:53<6:17:50, 11.64s/it]"
          ]
        },
        {
          "name": "stdout",
          "output_type": "stream",
          "text": [
            "| Game:     52 | Score:   -1814.03 | Best score:   -1525.38 | Avg score   -1680.80 | Learning iter:      52745 |\n"
          ]
        },
        {
          "name": "stderr",
          "output_type": "stream",
          "text": [
            "  3%|▎         | 54/2000 [10:05<6:18:55, 11.68s/it]"
          ]
        },
        {
          "name": "stdout",
          "output_type": "stream",
          "text": [
            "| Game:     53 | Score:   -1741.48 | Best score:   -1525.38 | Avg score   -1681.92 | Learning iter:      53745 |\n"
          ]
        },
        {
          "name": "stderr",
          "output_type": "stream",
          "text": [
            "  3%|▎         | 55/2000 [10:17<6:20:14, 11.73s/it]"
          ]
        },
        {
          "name": "stdout",
          "output_type": "stream",
          "text": [
            "| Game:     54 | Score:   -1613.68 | Best score:   -1525.38 | Avg score   -1680.68 | Learning iter:      54745 |\n"
          ]
        },
        {
          "name": "stderr",
          "output_type": "stream",
          "text": [
            "  3%|▎         | 56/2000 [10:29<6:19:17, 11.71s/it]"
          ]
        },
        {
          "name": "stdout",
          "output_type": "stream",
          "text": [
            "| Game:     55 | Score:   -1810.13 | Best score:   -1525.38 | Avg score   -1682.99 | Learning iter:      55745 |\n"
          ]
        },
        {
          "name": "stderr",
          "output_type": "stream",
          "text": [
            "  3%|▎         | 57/2000 [10:40<6:18:19, 11.68s/it]"
          ]
        },
        {
          "name": "stdout",
          "output_type": "stream",
          "text": [
            "| Game:     56 | Score:   -1269.27 | Best score:   -1525.38 | Avg score   -1675.73 | Learning iter:      56745 |\n"
          ]
        },
        {
          "name": "stderr",
          "output_type": "stream",
          "text": [
            "  3%|▎         | 58/2000 [10:52<6:17:51, 11.67s/it]"
          ]
        },
        {
          "name": "stdout",
          "output_type": "stream",
          "text": [
            "| Game:     57 | Score:   -1801.39 | Best score:   -1525.38 | Avg score   -1677.90 | Learning iter:      57745 |\n"
          ]
        },
        {
          "name": "stderr",
          "output_type": "stream",
          "text": [
            "  3%|▎         | 59/2000 [11:04<6:17:16, 11.66s/it]"
          ]
        },
        {
          "name": "stdout",
          "output_type": "stream",
          "text": [
            "| Game:     58 | Score:   -1749.62 | Best score:   -1525.38 | Avg score   -1679.12 | Learning iter:      58745 |\n"
          ]
        },
        {
          "name": "stderr",
          "output_type": "stream",
          "text": [
            "  3%|▎         | 60/2000 [11:15<6:16:54, 11.66s/it]"
          ]
        },
        {
          "name": "stdout",
          "output_type": "stream",
          "text": [
            "| Game:     59 | Score:   -1744.66 | Best score:   -1525.38 | Avg score   -1680.21 | Learning iter:      59745 |\n"
          ]
        },
        {
          "name": "stderr",
          "output_type": "stream",
          "text": [
            "  3%|▎         | 61/2000 [11:27<6:16:52, 11.66s/it]"
          ]
        },
        {
          "name": "stdout",
          "output_type": "stream",
          "text": [
            "| Game:     60 | Score:   -1749.78 | Best score:   -1525.38 | Avg score   -1681.35 | Learning iter:      60745 |\n"
          ]
        },
        {
          "name": "stderr",
          "output_type": "stream",
          "text": [
            "  3%|▎         | 62/2000 [11:38<6:15:41, 11.63s/it]"
          ]
        },
        {
          "name": "stdout",
          "output_type": "stream",
          "text": [
            "| Game:     61 | Score:   -1716.92 | Best score:   -1525.38 | Avg score   -1681.92 | Learning iter:      61745 |\n"
          ]
        },
        {
          "name": "stderr",
          "output_type": "stream",
          "text": [
            "  3%|▎         | 63/2000 [11:50<6:16:36, 11.67s/it]"
          ]
        },
        {
          "name": "stdout",
          "output_type": "stream",
          "text": [
            "| Game:     62 | Score:   -1794.85 | Best score:   -1525.38 | Avg score   -1683.71 | Learning iter:      62745 |\n"
          ]
        },
        {
          "name": "stderr",
          "output_type": "stream",
          "text": [
            "  3%|▎         | 64/2000 [12:02<6:16:51, 11.68s/it]"
          ]
        },
        {
          "name": "stdout",
          "output_type": "stream",
          "text": [
            "| Game:     63 | Score:   -1723.58 | Best score:   -1525.38 | Avg score   -1684.34 | Learning iter:      63745 |\n"
          ]
        },
        {
          "name": "stderr",
          "output_type": "stream",
          "text": [
            "  3%|▎         | 65/2000 [12:14<6:16:43, 11.68s/it]"
          ]
        },
        {
          "name": "stdout",
          "output_type": "stream",
          "text": [
            "| Game:     64 | Score:   -1623.82 | Best score:   -1525.38 | Avg score   -1683.41 | Learning iter:      64745 |\n"
          ]
        },
        {
          "name": "stderr",
          "output_type": "stream",
          "text": [
            "  3%|▎         | 66/2000 [12:25<6:18:30, 11.74s/it]"
          ]
        },
        {
          "name": "stdout",
          "output_type": "stream",
          "text": [
            "| Game:     65 | Score:   -1785.03 | Best score:   -1525.38 | Avg score   -1684.95 | Learning iter:      65745 |\n"
          ]
        },
        {
          "name": "stderr",
          "output_type": "stream",
          "text": [
            "  3%|▎         | 67/2000 [12:37<6:18:11, 11.74s/it]"
          ]
        },
        {
          "name": "stdout",
          "output_type": "stream",
          "text": [
            "| Game:     66 | Score:   -1718.41 | Best score:   -1525.38 | Avg score   -1685.45 | Learning iter:      66745 |\n"
          ]
        },
        {
          "name": "stderr",
          "output_type": "stream",
          "text": [
            "  3%|▎         | 68/2000 [12:49<6:20:47, 11.83s/it]"
          ]
        },
        {
          "name": "stdout",
          "output_type": "stream",
          "text": [
            "| Game:     67 | Score:   -1802.35 | Best score:   -1525.38 | Avg score   -1687.17 | Learning iter:      67745 |\n"
          ]
        },
        {
          "name": "stderr",
          "output_type": "stream",
          "text": [
            "  3%|▎         | 69/2000 [13:01<6:19:41, 11.80s/it]"
          ]
        },
        {
          "name": "stdout",
          "output_type": "stream",
          "text": [
            "| Game:     68 | Score:   -1912.44 | Best score:   -1525.38 | Avg score   -1690.43 | Learning iter:      68745 |\n"
          ]
        },
        {
          "name": "stderr",
          "output_type": "stream",
          "text": [
            "  4%|▎         | 70/2000 [13:13<6:20:13, 11.82s/it]"
          ]
        },
        {
          "name": "stdout",
          "output_type": "stream",
          "text": [
            "| Game:     69 | Score:   -1611.58 | Best score:   -1525.38 | Avg score   -1689.30 | Learning iter:      69745 |\n"
          ]
        },
        {
          "name": "stderr",
          "output_type": "stream",
          "text": [
            "  4%|▎         | 71/2000 [13:25<6:23:18, 11.92s/it]"
          ]
        },
        {
          "name": "stdout",
          "output_type": "stream",
          "text": [
            "| Game:     70 | Score:   -1753.55 | Best score:   -1525.38 | Avg score   -1690.21 | Learning iter:      70745 |\n"
          ]
        },
        {
          "name": "stderr",
          "output_type": "stream",
          "text": [
            "  4%|▎         | 72/2000 [13:37<6:23:41, 11.94s/it]"
          ]
        },
        {
          "name": "stdout",
          "output_type": "stream",
          "text": [
            "| Game:     71 | Score:   -1717.49 | Best score:   -1525.38 | Avg score   -1690.59 | Learning iter:      71745 |\n"
          ]
        },
        {
          "name": "stderr",
          "output_type": "stream",
          "text": [
            "  4%|▎         | 73/2000 [13:49<6:23:02, 11.93s/it]"
          ]
        },
        {
          "name": "stdout",
          "output_type": "stream",
          "text": [
            "| Game:     72 | Score:   -1657.53 | Best score:   -1525.38 | Avg score   -1690.13 | Learning iter:      72745 |\n"
          ]
        },
        {
          "name": "stderr",
          "output_type": "stream",
          "text": [
            "  4%|▎         | 74/2000 [14:01<6:22:52, 11.93s/it]"
          ]
        },
        {
          "name": "stdout",
          "output_type": "stream",
          "text": [
            "| Game:     73 | Score:   -1820.09 | Best score:   -1525.38 | Avg score   -1691.89 | Learning iter:      73745 |\n"
          ]
        },
        {
          "name": "stderr",
          "output_type": "stream",
          "text": [
            "  4%|▍         | 75/2000 [14:13<6:23:01, 11.94s/it]"
          ]
        },
        {
          "name": "stdout",
          "output_type": "stream",
          "text": [
            "| Game:     74 | Score:   -1668.26 | Best score:   -1525.38 | Avg score   -1691.58 | Learning iter:      74745 |\n"
          ]
        },
        {
          "name": "stderr",
          "output_type": "stream",
          "text": [
            "  4%|▍         | 76/2000 [14:25<6:23:37, 11.96s/it]"
          ]
        },
        {
          "name": "stdout",
          "output_type": "stream",
          "text": [
            "| Game:     75 | Score:   -1611.76 | Best score:   -1525.38 | Avg score   -1690.53 | Learning iter:      75745 |\n"
          ]
        },
        {
          "name": "stderr",
          "output_type": "stream",
          "text": [
            "  4%|▍         | 77/2000 [14:37<6:23:30, 11.97s/it]"
          ]
        },
        {
          "name": "stdout",
          "output_type": "stream",
          "text": [
            "| Game:     76 | Score:   -1671.67 | Best score:   -1525.38 | Avg score   -1690.28 | Learning iter:      76745 |\n"
          ]
        },
        {
          "name": "stderr",
          "output_type": "stream",
          "text": [
            "  4%|▍         | 78/2000 [14:49<6:24:04, 11.99s/it]"
          ]
        },
        {
          "name": "stdout",
          "output_type": "stream",
          "text": [
            "| Game:     77 | Score:   -1872.15 | Best score:   -1525.38 | Avg score   -1692.61 | Learning iter:      77745 |\n"
          ]
        },
        {
          "name": "stderr",
          "output_type": "stream",
          "text": [
            "  4%|▍         | 79/2000 [15:01<6:23:29, 11.98s/it]"
          ]
        },
        {
          "name": "stdout",
          "output_type": "stream",
          "text": [
            "| Game:     78 | Score:   -1540.93 | Best score:   -1525.38 | Avg score   -1690.69 | Learning iter:      78745 |\n"
          ]
        },
        {
          "name": "stderr",
          "output_type": "stream",
          "text": [
            "  4%|▍         | 80/2000 [15:13<6:22:41, 11.96s/it]"
          ]
        },
        {
          "name": "stdout",
          "output_type": "stream",
          "text": [
            "| Game:     79 | Score:   -1331.00 | Best score:   -1525.38 | Avg score   -1686.20 | Learning iter:      79745 |\n"
          ]
        },
        {
          "name": "stderr",
          "output_type": "stream",
          "text": [
            "  4%|▍         | 81/2000 [15:25<6:22:55, 11.97s/it]"
          ]
        },
        {
          "name": "stdout",
          "output_type": "stream",
          "text": [
            "| Game:     80 | Score:   -1737.56 | Best score:   -1525.38 | Avg score   -1686.83 | Learning iter:      80745 |\n"
          ]
        },
        {
          "name": "stderr",
          "output_type": "stream",
          "text": [
            "  4%|▍         | 82/2000 [15:37<6:22:21, 11.96s/it]"
          ]
        },
        {
          "name": "stdout",
          "output_type": "stream",
          "text": [
            "| Game:     81 | Score:   -1694.45 | Best score:   -1525.38 | Avg score   -1686.92 | Learning iter:      81745 |\n"
          ]
        },
        {
          "name": "stderr",
          "output_type": "stream",
          "text": [
            "  4%|▍         | 83/2000 [15:49<6:22:06, 11.96s/it]"
          ]
        },
        {
          "name": "stdout",
          "output_type": "stream",
          "text": [
            "| Game:     82 | Score:   -1220.68 | Best score:   -1525.38 | Avg score   -1681.31 | Learning iter:      82745 |\n"
          ]
        },
        {
          "name": "stderr",
          "output_type": "stream",
          "text": [
            "  4%|▍         | 84/2000 [16:01<6:22:52, 11.99s/it]"
          ]
        },
        {
          "name": "stdout",
          "output_type": "stream",
          "text": [
            "| Game:     83 | Score:   -1605.58 | Best score:   -1525.38 | Avg score   -1680.40 | Learning iter:      83745 |\n"
          ]
        },
        {
          "name": "stderr",
          "output_type": "stream",
          "text": [
            "  4%|▍         | 85/2000 [16:13<6:21:57, 11.97s/it]"
          ]
        },
        {
          "name": "stdout",
          "output_type": "stream",
          "text": [
            "| Game:     84 | Score:   -1768.21 | Best score:   -1525.38 | Avg score   -1681.44 | Learning iter:      84745 |\n"
          ]
        },
        {
          "name": "stderr",
          "output_type": "stream",
          "text": [
            "  4%|▍         | 86/2000 [16:24<6:20:46, 11.94s/it]"
          ]
        },
        {
          "name": "stdout",
          "output_type": "stream",
          "text": [
            "| Game:     85 | Score:   -1762.93 | Best score:   -1525.38 | Avg score   -1682.38 | Learning iter:      85745 |\n"
          ]
        },
        {
          "name": "stderr",
          "output_type": "stream",
          "text": [
            "  4%|▍         | 87/2000 [16:36<6:20:22, 11.93s/it]"
          ]
        },
        {
          "name": "stdout",
          "output_type": "stream",
          "text": [
            "| Game:     86 | Score:   -1795.79 | Best score:   -1525.38 | Avg score   -1683.69 | Learning iter:      86745 |\n"
          ]
        },
        {
          "name": "stderr",
          "output_type": "stream",
          "text": [
            "  4%|▍         | 88/2000 [16:48<6:20:40, 11.95s/it]"
          ]
        },
        {
          "name": "stdout",
          "output_type": "stream",
          "text": [
            "| Game:     87 | Score:   -1701.60 | Best score:   -1525.38 | Avg score   -1683.89 | Learning iter:      87745 |\n"
          ]
        },
        {
          "name": "stderr",
          "output_type": "stream",
          "text": [
            "  4%|▍         | 89/2000 [17:00<6:20:57, 11.96s/it]"
          ]
        },
        {
          "name": "stdout",
          "output_type": "stream",
          "text": [
            "| Game:     88 | Score:   -1696.71 | Best score:   -1525.38 | Avg score   -1684.04 | Learning iter:      88745 |\n"
          ]
        },
        {
          "name": "stderr",
          "output_type": "stream",
          "text": [
            "  4%|▍         | 90/2000 [17:12<6:22:33, 12.02s/it]"
          ]
        },
        {
          "name": "stdout",
          "output_type": "stream",
          "text": [
            "| Game:     89 | Score:   -1703.70 | Best score:   -1525.38 | Avg score   -1684.25 | Learning iter:      89745 |\n"
          ]
        },
        {
          "name": "stderr",
          "output_type": "stream",
          "text": [
            "  5%|▍         | 91/2000 [17:25<6:24:07, 12.07s/it]"
          ]
        },
        {
          "name": "stdout",
          "output_type": "stream",
          "text": [
            "| Game:     90 | Score:   -1665.73 | Best score:   -1525.38 | Avg score   -1684.05 | Learning iter:      90745 |\n"
          ]
        },
        {
          "name": "stderr",
          "output_type": "stream",
          "text": [
            "  5%|▍         | 92/2000 [17:37<6:25:25, 12.12s/it]"
          ]
        },
        {
          "name": "stdout",
          "output_type": "stream",
          "text": [
            "| Game:     91 | Score:   -1757.80 | Best score:   -1525.38 | Avg score   -1684.85 | Learning iter:      91745 |\n"
          ]
        },
        {
          "name": "stderr",
          "output_type": "stream",
          "text": [
            "  5%|▍         | 93/2000 [17:49<6:25:44, 12.14s/it]"
          ]
        },
        {
          "name": "stdout",
          "output_type": "stream",
          "text": [
            "| Game:     92 | Score:   -1641.07 | Best score:   -1525.38 | Avg score   -1684.38 | Learning iter:      92745 |\n"
          ]
        },
        {
          "name": "stderr",
          "output_type": "stream",
          "text": [
            "  5%|▍         | 94/2000 [18:01<6:25:47, 12.14s/it]"
          ]
        },
        {
          "name": "stdout",
          "output_type": "stream",
          "text": [
            "| Game:     93 | Score:   -1447.50 | Best score:   -1525.38 | Avg score   -1681.86 | Learning iter:      93745 |\n"
          ]
        },
        {
          "name": "stderr",
          "output_type": "stream",
          "text": [
            "  5%|▍         | 95/2000 [18:13<6:25:57, 12.16s/it]"
          ]
        },
        {
          "name": "stdout",
          "output_type": "stream",
          "text": [
            "| Game:     94 | Score:   -1808.42 | Best score:   -1525.38 | Avg score   -1683.19 | Learning iter:      94745 |\n"
          ]
        },
        {
          "name": "stderr",
          "output_type": "stream",
          "text": [
            "  5%|▍         | 96/2000 [18:26<6:25:12, 12.14s/it]"
          ]
        },
        {
          "name": "stdout",
          "output_type": "stream",
          "text": [
            "| Game:     95 | Score:   -1686.38 | Best score:   -1525.38 | Avg score   -1683.23 | Learning iter:      95745 |\n"
          ]
        },
        {
          "name": "stderr",
          "output_type": "stream",
          "text": [
            "  5%|▍         | 97/2000 [18:38<6:24:51, 12.13s/it]"
          ]
        },
        {
          "name": "stdout",
          "output_type": "stream",
          "text": [
            "| Game:     96 | Score:   -1701.47 | Best score:   -1525.38 | Avg score   -1683.41 | Learning iter:      96745 |\n"
          ]
        },
        {
          "name": "stderr",
          "output_type": "stream",
          "text": [
            "  5%|▍         | 98/2000 [18:50<6:23:43, 12.10s/it]"
          ]
        },
        {
          "name": "stdout",
          "output_type": "stream",
          "text": [
            "| Game:     97 | Score:   -1702.52 | Best score:   -1525.38 | Avg score   -1683.61 | Learning iter:      97745 |\n"
          ]
        },
        {
          "name": "stderr",
          "output_type": "stream",
          "text": [
            "  5%|▍         | 99/2000 [19:02<6:23:08, 12.09s/it]"
          ]
        },
        {
          "name": "stdout",
          "output_type": "stream",
          "text": [
            "| Game:     98 | Score:   -1295.41 | Best score:   -1525.38 | Avg score   -1679.69 | Learning iter:      98745 |\n"
          ]
        },
        {
          "name": "stderr",
          "output_type": "stream",
          "text": [
            "  5%|▌         | 100/2000 [19:14<6:22:53, 12.09s/it]"
          ]
        },
        {
          "name": "stdout",
          "output_type": "stream",
          "text": [
            "| Game:     99 | Score:   -1738.81 | Best score:   -1525.38 | Avg score   -1680.28 | Learning iter:      99745 |\n"
          ]
        },
        {
          "name": "stderr",
          "output_type": "stream",
          "text": [
            "  5%|▌         | 101/2000 [19:26<6:23:37, 12.12s/it]"
          ]
        },
        {
          "name": "stdout",
          "output_type": "stream",
          "text": [
            "| Game:    100 | Score:   -1554.00 | Best score:   -1525.38 | Avg score   -1680.57 | Learning iter:     100745 |\n"
          ]
        },
        {
          "name": "stderr",
          "output_type": "stream",
          "text": [
            "  5%|▌         | 102/2000 [19:38<6:24:15, 12.15s/it]"
          ]
        },
        {
          "name": "stdout",
          "output_type": "stream",
          "text": [
            "| Game:    101 | Score:   -1211.26 | Best score:   -1525.38 | Avg score   -1675.75 | Learning iter:     101745 |\n"
          ]
        },
        {
          "name": "stderr",
          "output_type": "stream",
          "text": [
            "  5%|▌         | 103/2000 [19:50<6:24:16, 12.15s/it]"
          ]
        },
        {
          "name": "stdout",
          "output_type": "stream",
          "text": [
            "| Game:    102 | Score:   -1733.88 | Best score:   -1525.38 | Avg score   -1676.10 | Learning iter:     102745 |\n"
          ]
        },
        {
          "name": "stderr",
          "output_type": "stream",
          "text": [
            "  5%|▌         | 104/2000 [20:03<6:25:25, 12.20s/it]"
          ]
        },
        {
          "name": "stdout",
          "output_type": "stream",
          "text": [
            "| Game:    103 | Score:   -1619.26 | Best score:   -1525.38 | Avg score   -1674.13 | Learning iter:     103745 |\n"
          ]
        },
        {
          "name": "stderr",
          "output_type": "stream",
          "text": [
            "  5%|▌         | 105/2000 [20:15<6:26:12, 12.23s/it]"
          ]
        },
        {
          "name": "stdout",
          "output_type": "stream",
          "text": [
            "| Game:    104 | Score:   -1668.81 | Best score:   -1525.38 | Avg score   -1672.76 | Learning iter:     104745 |\n"
          ]
        },
        {
          "name": "stderr",
          "output_type": "stream",
          "text": [
            "  5%|▌         | 106/2000 [20:27<6:27:05, 12.26s/it]"
          ]
        },
        {
          "name": "stdout",
          "output_type": "stream",
          "text": [
            "| Game:    105 | Score:   -1767.61 | Best score:   -1525.38 | Avg score   -1672.63 | Learning iter:     105745 |\n"
          ]
        },
        {
          "name": "stderr",
          "output_type": "stream",
          "text": [
            "  5%|▌         | 107/2000 [20:40<6:27:17, 12.28s/it]"
          ]
        },
        {
          "name": "stdout",
          "output_type": "stream",
          "text": [
            "| Game:    106 | Score:   -1813.54 | Best score:   -1525.38 | Avg score   -1673.94 | Learning iter:     106745 |\n"
          ]
        },
        {
          "name": "stderr",
          "output_type": "stream",
          "text": [
            "  5%|▌         | 108/2000 [20:52<6:29:00, 12.34s/it]"
          ]
        },
        {
          "name": "stdout",
          "output_type": "stream",
          "text": [
            "| Game:    107 | Score:   -1787.02 | Best score:   -1525.38 | Avg score   -1676.19 | Learning iter:     107745 |\n"
          ]
        },
        {
          "name": "stderr",
          "output_type": "stream",
          "text": [
            "  5%|▌         | 109/2000 [21:04<6:27:21, 12.29s/it]"
          ]
        },
        {
          "name": "stdout",
          "output_type": "stream",
          "text": [
            "| Game:    108 | Score:   -1875.74 | Best score:   -1525.38 | Avg score   -1678.16 | Learning iter:     108745 |\n"
          ]
        },
        {
          "name": "stderr",
          "output_type": "stream",
          "text": [
            "  6%|▌         | 110/2000 [21:17<6:26:26, 12.27s/it]"
          ]
        },
        {
          "name": "stdout",
          "output_type": "stream",
          "text": [
            "| Game:    109 | Score:   -1920.57 | Best score:   -1525.38 | Avg score   -1686.05 | Learning iter:     109745 |\n"
          ]
        },
        {
          "name": "stderr",
          "output_type": "stream",
          "text": [
            "  6%|▌         | 111/2000 [21:29<6:27:34, 12.31s/it]"
          ]
        },
        {
          "name": "stdout",
          "output_type": "stream",
          "text": [
            "| Game:    110 | Score:   -1727.43 | Best score:   -1525.38 | Avg score   -1683.93 | Learning iter:     110745 |\n"
          ]
        },
        {
          "name": "stderr",
          "output_type": "stream",
          "text": [
            "  6%|▌         | 112/2000 [21:41<6:29:13, 12.37s/it]"
          ]
        },
        {
          "name": "stdout",
          "output_type": "stream",
          "text": [
            "| Game:    111 | Score:   -1286.57 | Best score:   -1525.38 | Avg score   -1680.07 | Learning iter:     111745 |\n"
          ]
        },
        {
          "name": "stderr",
          "output_type": "stream",
          "text": [
            "  6%|▌         | 113/2000 [21:54<6:29:18, 12.38s/it]"
          ]
        },
        {
          "name": "stdout",
          "output_type": "stream",
          "text": [
            "| Game:    112 | Score:   -1562.74 | Best score:   -1525.38 | Avg score   -1680.45 | Learning iter:     112745 |\n"
          ]
        },
        {
          "name": "stderr",
          "output_type": "stream",
          "text": [
            "  6%|▌         | 114/2000 [22:06<6:27:47, 12.34s/it]"
          ]
        },
        {
          "name": "stdout",
          "output_type": "stream",
          "text": [
            "| Game:    113 | Score:   -1630.08 | Best score:   -1525.38 | Avg score   -1678.92 | Learning iter:     113745 |\n"
          ]
        },
        {
          "name": "stderr",
          "output_type": "stream",
          "text": [
            "  6%|▌         | 115/2000 [22:18<6:27:16, 12.33s/it]"
          ]
        },
        {
          "name": "stdout",
          "output_type": "stream",
          "text": [
            "| Game:    114 | Score:   -1401.44 | Best score:   -1525.38 | Avg score   -1677.71 | Learning iter:     114745 |\n"
          ]
        },
        {
          "name": "stderr",
          "output_type": "stream",
          "text": [
            "  6%|▌         | 116/2000 [22:31<6:28:07, 12.36s/it]"
          ]
        },
        {
          "name": "stdout",
          "output_type": "stream",
          "text": [
            "| Game:    115 | Score:   -1882.26 | Best score:   -1525.38 | Avg score   -1678.72 | Learning iter:     115745 |\n"
          ]
        },
        {
          "name": "stderr",
          "output_type": "stream",
          "text": [
            "  6%|▌         | 117/2000 [22:44<6:32:00, 12.49s/it]"
          ]
        },
        {
          "name": "stdout",
          "output_type": "stream",
          "text": [
            "| Game:    116 | Score:   -1821.08 | Best score:   -1525.38 | Avg score   -1680.28 | Learning iter:     116745 |\n"
          ]
        },
        {
          "name": "stderr",
          "output_type": "stream",
          "text": [
            "  6%|▌         | 118/2000 [22:56<6:30:33, 12.45s/it]"
          ]
        },
        {
          "name": "stdout",
          "output_type": "stream",
          "text": [
            "| Game:    117 | Score:   -1717.10 | Best score:   -1525.38 | Avg score   -1682.02 | Learning iter:     117745 |\n"
          ]
        },
        {
          "name": "stderr",
          "output_type": "stream",
          "text": [
            "  6%|▌         | 119/2000 [23:08<6:29:49, 12.43s/it]"
          ]
        },
        {
          "name": "stdout",
          "output_type": "stream",
          "text": [
            "| Game:    118 | Score:   -1576.24 | Best score:   -1525.38 | Avg score   -1680.08 | Learning iter:     118745 |\n"
          ]
        },
        {
          "name": "stderr",
          "output_type": "stream",
          "text": [
            "  6%|▌         | 120/2000 [23:21<6:28:49, 12.41s/it]"
          ]
        },
        {
          "name": "stdout",
          "output_type": "stream",
          "text": [
            "| Game:    119 | Score:   -1641.83 | Best score:   -1525.38 | Avg score   -1679.86 | Learning iter:     119745 |\n"
          ]
        },
        {
          "name": "stderr",
          "output_type": "stream",
          "text": [
            "  6%|▌         | 121/2000 [23:33<6:29:24, 12.43s/it]"
          ]
        },
        {
          "name": "stdout",
          "output_type": "stream",
          "text": [
            "| Game:    120 | Score:   -1749.25 | Best score:   -1525.38 | Avg score   -1680.40 | Learning iter:     120745 |\n"
          ]
        },
        {
          "name": "stderr",
          "output_type": "stream",
          "text": [
            "  6%|▌         | 122/2000 [23:46<6:30:02, 12.46s/it]"
          ]
        },
        {
          "name": "stdout",
          "output_type": "stream",
          "text": [
            "| Game:    121 | Score:   -1701.99 | Best score:   -1525.38 | Avg score   -1680.48 | Learning iter:     121745 |\n"
          ]
        },
        {
          "name": "stderr",
          "output_type": "stream",
          "text": [
            "  6%|▌         | 123/2000 [23:58<6:29:06, 12.44s/it]"
          ]
        },
        {
          "name": "stdout",
          "output_type": "stream",
          "text": [
            "| Game:    122 | Score:   -1981.19 | Best score:   -1525.38 | Avg score   -1683.94 | Learning iter:     122745 |\n"
          ]
        },
        {
          "name": "stderr",
          "output_type": "stream",
          "text": [
            "  6%|▌         | 124/2000 [24:11<6:28:26, 12.42s/it]"
          ]
        },
        {
          "name": "stdout",
          "output_type": "stream",
          "text": [
            "| Game:    123 | Score:   -1586.26 | Best score:   -1525.38 | Avg score   -1682.59 | Learning iter:     123745 |\n"
          ]
        },
        {
          "name": "stderr",
          "output_type": "stream",
          "text": [
            "  6%|▋         | 125/2000 [24:23<6:27:46, 12.41s/it]"
          ]
        },
        {
          "name": "stdout",
          "output_type": "stream",
          "text": [
            "| Game:    124 | Score:   -1635.31 | Best score:   -1525.38 | Avg score   -1681.97 | Learning iter:     124745 |\n"
          ]
        },
        {
          "name": "stderr",
          "output_type": "stream",
          "text": [
            "  6%|▋         | 126/2000 [24:35<6:27:29, 12.41s/it]"
          ]
        },
        {
          "name": "stdout",
          "output_type": "stream",
          "text": [
            "| Game:    125 | Score:   -1722.81 | Best score:   -1525.38 | Avg score   -1681.55 | Learning iter:     125745 |\n"
          ]
        },
        {
          "name": "stderr",
          "output_type": "stream",
          "text": [
            "  6%|▋         | 127/2000 [24:48<6:28:27, 12.44s/it]"
          ]
        },
        {
          "name": "stdout",
          "output_type": "stream",
          "text": [
            "| Game:    126 | Score:   -1738.92 | Best score:   -1525.38 | Avg score   -1680.70 | Learning iter:     126745 |\n"
          ]
        },
        {
          "name": "stderr",
          "output_type": "stream",
          "text": [
            "  6%|▋         | 128/2000 [25:00<6:28:17, 12.45s/it]"
          ]
        },
        {
          "name": "stdout",
          "output_type": "stream",
          "text": [
            "| Game:    127 | Score:   -1642.19 | Best score:   -1525.38 | Avg score   -1684.18 | Learning iter:     127745 |\n"
          ]
        },
        {
          "name": "stderr",
          "output_type": "stream",
          "text": [
            "  6%|▋         | 129/2000 [25:13<6:27:39, 12.43s/it]"
          ]
        },
        {
          "name": "stdout",
          "output_type": "stream",
          "text": [
            "| Game:    128 | Score:   -1833.08 | Best score:   -1525.38 | Avg score   -1684.90 | Learning iter:     128745 |\n"
          ]
        },
        {
          "name": "stderr",
          "output_type": "stream",
          "text": [
            "  6%|▋         | 130/2000 [25:25<6:28:26, 12.46s/it]"
          ]
        },
        {
          "name": "stdout",
          "output_type": "stream",
          "text": [
            "| Game:    129 | Score:   -1784.15 | Best score:   -1525.38 | Avg score   -1685.66 | Learning iter:     129745 |\n"
          ]
        },
        {
          "name": "stderr",
          "output_type": "stream",
          "text": [
            "  7%|▋         | 131/2000 [25:38<6:27:55, 12.45s/it]"
          ]
        },
        {
          "name": "stdout",
          "output_type": "stream",
          "text": [
            "| Game:    130 | Score:   -1929.65 | Best score:   -1525.38 | Avg score   -1688.84 | Learning iter:     130745 |\n"
          ]
        },
        {
          "name": "stderr",
          "output_type": "stream",
          "text": [
            "  7%|▋         | 132/2000 [25:50<6:27:27, 12.44s/it]"
          ]
        },
        {
          "name": "stdout",
          "output_type": "stream",
          "text": [
            "| Game:    131 | Score:   -1690.55 | Best score:   -1525.38 | Avg score   -1690.83 | Learning iter:     131745 |\n"
          ]
        },
        {
          "name": "stderr",
          "output_type": "stream",
          "text": [
            "  7%|▋         | 133/2000 [26:03<6:28:26, 12.48s/it]"
          ]
        },
        {
          "name": "stdout",
          "output_type": "stream",
          "text": [
            "| Game:    132 | Score:   -1637.94 | Best score:   -1525.38 | Avg score   -1691.56 | Learning iter:     132745 |\n"
          ]
        },
        {
          "name": "stderr",
          "output_type": "stream",
          "text": [
            "  7%|▋         | 134/2000 [26:15<6:28:21, 12.49s/it]"
          ]
        },
        {
          "name": "stdout",
          "output_type": "stream",
          "text": [
            "| Game:    133 | Score:   -1866.87 | Best score:   -1525.38 | Avg score   -1694.05 | Learning iter:     133745 |\n"
          ]
        },
        {
          "name": "stderr",
          "output_type": "stream",
          "text": [
            "  7%|▋         | 135/2000 [26:28<6:28:50, 12.51s/it]"
          ]
        },
        {
          "name": "stdout",
          "output_type": "stream",
          "text": [
            "| Game:    134 | Score:   -1698.28 | Best score:   -1525.38 | Avg score   -1693.90 | Learning iter:     134745 |\n"
          ]
        },
        {
          "name": "stderr",
          "output_type": "stream",
          "text": [
            "  7%|▋         | 136/2000 [26:40<6:29:33, 12.54s/it]"
          ]
        },
        {
          "name": "stdout",
          "output_type": "stream",
          "text": [
            "| Game:    135 | Score:   -1751.55 | Best score:   -1525.38 | Avg score   -1695.53 | Learning iter:     135745 |\n"
          ]
        },
        {
          "name": "stderr",
          "output_type": "stream",
          "text": [
            "  7%|▋         | 137/2000 [26:53<6:30:27, 12.58s/it]"
          ]
        },
        {
          "name": "stdout",
          "output_type": "stream",
          "text": [
            "| Game:    136 | Score:   -1780.12 | Best score:   -1525.38 | Avg score   -1694.98 | Learning iter:     136745 |\n"
          ]
        },
        {
          "name": "stderr",
          "output_type": "stream",
          "text": [
            "  7%|▋         | 138/2000 [27:06<6:31:32, 12.62s/it]"
          ]
        },
        {
          "name": "stdout",
          "output_type": "stream",
          "text": [
            "| Game:    137 | Score:   -1466.38 | Best score:   -1525.38 | Avg score   -1690.72 | Learning iter:     137745 |\n"
          ]
        },
        {
          "name": "stderr",
          "output_type": "stream",
          "text": [
            "  7%|▋         | 139/2000 [27:18<6:32:21, 12.65s/it]"
          ]
        },
        {
          "name": "stdout",
          "output_type": "stream",
          "text": [
            "| Game:    138 | Score:   -1599.26 | Best score:   -1525.38 | Avg score   -1688.02 | Learning iter:     138745 |\n"
          ]
        },
        {
          "name": "stderr",
          "output_type": "stream",
          "text": [
            "  7%|▋         | 140/2000 [27:31<6:34:22, 12.72s/it]"
          ]
        },
        {
          "name": "stdout",
          "output_type": "stream",
          "text": [
            "| Game:    139 | Score:   -1604.89 | Best score:   -1525.38 | Avg score   -1685.67 | Learning iter:     139745 |\n"
          ]
        },
        {
          "name": "stderr",
          "output_type": "stream",
          "text": [
            "  7%|▋         | 141/2000 [27:44<6:34:42, 12.74s/it]"
          ]
        },
        {
          "name": "stdout",
          "output_type": "stream",
          "text": [
            "| Game:    140 | Score:   -1728.98 | Best score:   -1525.38 | Avg score   -1686.13 | Learning iter:     140745 |\n"
          ]
        },
        {
          "name": "stderr",
          "output_type": "stream",
          "text": [
            "  7%|▋         | 142/2000 [27:57<6:35:34, 12.77s/it]"
          ]
        },
        {
          "name": "stdout",
          "output_type": "stream",
          "text": [
            "| Game:    141 | Score:   -1734.39 | Best score:   -1525.38 | Avg score   -1685.45 | Learning iter:     141745 |\n"
          ]
        },
        {
          "name": "stderr",
          "output_type": "stream",
          "text": [
            "  7%|▋         | 143/2000 [28:10<6:36:50, 12.82s/it]"
          ]
        },
        {
          "name": "stdout",
          "output_type": "stream",
          "text": [
            "| Game:    142 | Score:   -1687.76 | Best score:   -1525.38 | Avg score   -1686.66 | Learning iter:     142745 |\n"
          ]
        },
        {
          "name": "stderr",
          "output_type": "stream",
          "text": [
            "  7%|▋         | 144/2000 [28:23<6:37:20, 12.85s/it]"
          ]
        },
        {
          "name": "stdout",
          "output_type": "stream",
          "text": [
            "| Game:    143 | Score:   -1753.95 | Best score:   -1525.38 | Avg score   -1688.31 | Learning iter:     143745 |\n"
          ]
        },
        {
          "name": "stderr",
          "output_type": "stream",
          "text": [
            "  7%|▋         | 145/2000 [28:36<6:38:21, 12.88s/it]"
          ]
        },
        {
          "name": "stdout",
          "output_type": "stream",
          "text": [
            "| Game:    144 | Score:   -1579.85 | Best score:   -1525.38 | Avg score   -1687.77 | Learning iter:     144745 |\n"
          ]
        },
        {
          "name": "stderr",
          "output_type": "stream",
          "text": [
            "  7%|▋         | 146/2000 [28:49<6:39:30, 12.93s/it]"
          ]
        },
        {
          "name": "stdout",
          "output_type": "stream",
          "text": [
            "| Game:    145 | Score:   -1355.27 | Best score:   -1525.38 | Avg score   -1684.26 | Learning iter:     145745 |\n"
          ]
        },
        {
          "name": "stderr",
          "output_type": "stream",
          "text": [
            "  7%|▋         | 147/2000 [29:02<6:39:32, 12.94s/it]"
          ]
        },
        {
          "name": "stdout",
          "output_type": "stream",
          "text": [
            "| Game:    146 | Score:   -1696.77 | Best score:   -1525.38 | Avg score   -1685.37 | Learning iter:     146745 |\n"
          ]
        },
        {
          "name": "stderr",
          "output_type": "stream",
          "text": [
            "  7%|▋         | 148/2000 [29:15<6:40:42, 12.98s/it]"
          ]
        },
        {
          "name": "stdout",
          "output_type": "stream",
          "text": [
            "| Game:    147 | Score:   -1838.46 | Best score:   -1525.38 | Avg score   -1686.83 | Learning iter:     147745 |\n"
          ]
        },
        {
          "name": "stderr",
          "output_type": "stream",
          "text": [
            "  7%|▋         | 149/2000 [29:28<6:40:36, 12.99s/it]"
          ]
        },
        {
          "name": "stdout",
          "output_type": "stream",
          "text": [
            "| Game:    148 | Score:   -1628.72 | Best score:   -1525.38 | Avg score   -1684.91 | Learning iter:     148745 |\n"
          ]
        },
        {
          "name": "stderr",
          "output_type": "stream",
          "text": [
            "  8%|▊         | 150/2000 [29:41<6:39:57, 12.97s/it]"
          ]
        },
        {
          "name": "stdout",
          "output_type": "stream",
          "text": [
            "| Game:    149 | Score:   -1929.88 | Best score:   -1525.38 | Avg score   -1687.71 | Learning iter:     149745 |\n"
          ]
        },
        {
          "name": "stderr",
          "output_type": "stream",
          "text": [
            "  8%|▊         | 151/2000 [29:54<6:39:50, 12.97s/it]"
          ]
        },
        {
          "name": "stdout",
          "output_type": "stream",
          "text": [
            "| Game:    150 | Score:   -1427.18 | Best score:   -1525.38 | Avg score   -1684.11 | Learning iter:     150745 |\n"
          ]
        },
        {
          "name": "stderr",
          "output_type": "stream",
          "text": [
            "  8%|▊         | 152/2000 [30:07<6:38:42, 12.94s/it]"
          ]
        },
        {
          "name": "stdout",
          "output_type": "stream",
          "text": [
            "| Game:    151 | Score:   -1803.44 | Best score:   -1525.38 | Avg score   -1685.24 | Learning iter:     151745 |\n"
          ]
        },
        {
          "name": "stderr",
          "output_type": "stream",
          "text": [
            "  8%|▊         | 153/2000 [30:20<6:39:36, 12.98s/it]"
          ]
        },
        {
          "name": "stdout",
          "output_type": "stream",
          "text": [
            "| Game:    152 | Score:   -1787.43 | Best score:   -1525.38 | Avg score   -1684.97 | Learning iter:     152745 |\n"
          ]
        },
        {
          "name": "stderr",
          "output_type": "stream",
          "text": [
            "  8%|▊         | 154/2000 [30:33<6:39:45, 12.99s/it]"
          ]
        },
        {
          "name": "stdout",
          "output_type": "stream",
          "text": [
            "| Game:    153 | Score:   -1319.38 | Best score:   -1525.38 | Avg score   -1680.75 | Learning iter:     153745 |\n"
          ]
        },
        {
          "name": "stderr",
          "output_type": "stream",
          "text": [
            "  8%|▊         | 155/2000 [30:46<6:39:36, 13.00s/it]"
          ]
        },
        {
          "name": "stdout",
          "output_type": "stream",
          "text": [
            "| Game:    154 | Score:   -1633.74 | Best score:   -1525.38 | Avg score   -1680.95 | Learning iter:     154745 |\n"
          ]
        },
        {
          "name": "stderr",
          "output_type": "stream",
          "text": [
            "  8%|▊         | 156/2000 [30:59<6:40:35, 13.03s/it]"
          ]
        },
        {
          "name": "stdout",
          "output_type": "stream",
          "text": [
            "| Game:    155 | Score:   -1586.16 | Best score:   -1525.38 | Avg score   -1678.71 | Learning iter:     155745 |\n"
          ]
        },
        {
          "name": "stderr",
          "output_type": "stream",
          "text": [
            "  8%|▊         | 157/2000 [31:12<6:41:00, 13.06s/it]"
          ]
        },
        {
          "name": "stdout",
          "output_type": "stream",
          "text": [
            "| Game:    156 | Score:   -1635.47 | Best score:   -1525.38 | Avg score   -1682.37 | Learning iter:     156745 |\n"
          ]
        },
        {
          "name": "stderr",
          "output_type": "stream",
          "text": [
            "  8%|▊         | 158/2000 [31:25<6:40:47, 13.05s/it]"
          ]
        },
        {
          "name": "stdout",
          "output_type": "stream",
          "text": [
            "| Game:    157 | Score:   -1776.58 | Best score:   -1525.38 | Avg score   -1682.12 | Learning iter:     157745 |\n"
          ]
        },
        {
          "name": "stderr",
          "output_type": "stream",
          "text": [
            "  8%|▊         | 159/2000 [31:38<6:42:33, 13.12s/it]"
          ]
        },
        {
          "name": "stdout",
          "output_type": "stream",
          "text": [
            "| Game:    158 | Score:   -1829.31 | Best score:   -1525.38 | Avg score   -1682.92 | Learning iter:     158745 |\n"
          ]
        },
        {
          "name": "stderr",
          "output_type": "stream",
          "text": [
            "  8%|▊         | 160/2000 [31:51<6:42:34, 13.13s/it]"
          ]
        },
        {
          "name": "stdout",
          "output_type": "stream",
          "text": [
            "| Game:    159 | Score:   -1549.36 | Best score:   -1525.38 | Avg score   -1680.97 | Learning iter:     159745 |\n"
          ]
        },
        {
          "name": "stderr",
          "output_type": "stream",
          "text": [
            "  8%|▊         | 161/2000 [32:05<6:42:41, 13.14s/it]"
          ]
        },
        {
          "name": "stdout",
          "output_type": "stream",
          "text": [
            "| Game:    160 | Score:   -1765.14 | Best score:   -1525.38 | Avg score   -1681.12 | Learning iter:     160745 |\n"
          ]
        },
        {
          "name": "stderr",
          "output_type": "stream",
          "text": [
            "  8%|▊         | 162/2000 [32:18<6:43:25, 13.17s/it]"
          ]
        },
        {
          "name": "stdout",
          "output_type": "stream",
          "text": [
            "| Game:    161 | Score:   -1829.94 | Best score:   -1525.38 | Avg score   -1682.25 | Learning iter:     161745 |\n"
          ]
        },
        {
          "name": "stderr",
          "output_type": "stream",
          "text": [
            "  8%|▊         | 163/2000 [32:31<6:42:54, 13.16s/it]"
          ]
        },
        {
          "name": "stdout",
          "output_type": "stream",
          "text": [
            "| Game:    162 | Score:   -1674.37 | Best score:   -1525.38 | Avg score   -1681.05 | Learning iter:     162745 |\n"
          ]
        },
        {
          "name": "stderr",
          "output_type": "stream",
          "text": [
            "  8%|▊         | 164/2000 [32:44<6:43:15, 13.18s/it]"
          ]
        },
        {
          "name": "stdout",
          "output_type": "stream",
          "text": [
            "| Game:    163 | Score:   -1722.97 | Best score:   -1525.38 | Avg score   -1681.04 | Learning iter:     163745 |\n"
          ]
        },
        {
          "name": "stderr",
          "output_type": "stream",
          "text": [
            "  8%|▊         | 165/2000 [32:58<6:44:33, 13.23s/it]"
          ]
        },
        {
          "name": "stdout",
          "output_type": "stream",
          "text": [
            "| Game:    164 | Score:   -1259.53 | Best score:   -1525.38 | Avg score   -1677.40 | Learning iter:     164745 |\n"
          ]
        },
        {
          "name": "stderr",
          "output_type": "stream",
          "text": [
            "  8%|▊         | 166/2000 [33:11<6:44:59, 13.25s/it]"
          ]
        },
        {
          "name": "stdout",
          "output_type": "stream",
          "text": [
            "| Game:    165 | Score:   -1691.64 | Best score:   -1525.38 | Avg score   -1676.46 | Learning iter:     165745 |\n"
          ]
        },
        {
          "name": "stderr",
          "output_type": "stream",
          "text": [
            "  8%|▊         | 167/2000 [33:24<6:45:58, 13.29s/it]"
          ]
        },
        {
          "name": "stdout",
          "output_type": "stream",
          "text": [
            "| Game:    166 | Score:   -1539.33 | Best score:   -1525.38 | Avg score   -1674.67 | Learning iter:     166745 |\n"
          ]
        },
        {
          "name": "stderr",
          "output_type": "stream",
          "text": [
            "  8%|▊         | 168/2000 [33:38<6:46:41, 13.32s/it]"
          ]
        },
        {
          "name": "stdout",
          "output_type": "stream",
          "text": [
            "| Game:    167 | Score:   -1743.48 | Best score:   -1525.38 | Avg score   -1674.08 | Learning iter:     167745 |\n"
          ]
        },
        {
          "name": "stderr",
          "output_type": "stream",
          "text": [
            "  8%|▊         | 169/2000 [33:51<6:46:46, 13.33s/it]"
          ]
        },
        {
          "name": "stdout",
          "output_type": "stream",
          "text": [
            "| Game:    168 | Score:   -1748.42 | Best score:   -1525.38 | Avg score   -1672.44 | Learning iter:     168745 |\n"
          ]
        },
        {
          "name": "stderr",
          "output_type": "stream",
          "text": [
            "  8%|▊         | 170/2000 [34:04<6:45:55, 13.31s/it]"
          ]
        },
        {
          "name": "stdout",
          "output_type": "stream",
          "text": [
            "| Game:    169 | Score:   -1621.91 | Best score:   -1525.38 | Avg score   -1672.55 | Learning iter:     169745 |\n"
          ]
        },
        {
          "name": "stderr",
          "output_type": "stream",
          "text": [
            "  9%|▊         | 171/2000 [34:18<6:46:17, 13.33s/it]"
          ]
        },
        {
          "name": "stdout",
          "output_type": "stream",
          "text": [
            "| Game:    170 | Score:   -1908.28 | Best score:   -1525.38 | Avg score   -1674.09 | Learning iter:     170745 |\n"
          ]
        },
        {
          "name": "stderr",
          "output_type": "stream",
          "text": [
            "  9%|▊         | 172/2000 [34:31<6:46:02, 13.33s/it]"
          ]
        },
        {
          "name": "stdout",
          "output_type": "stream",
          "text": [
            "| Game:    171 | Score:   -1689.69 | Best score:   -1525.38 | Avg score   -1673.82 | Learning iter:     171745 |\n"
          ]
        },
        {
          "name": "stderr",
          "output_type": "stream",
          "text": [
            "  9%|▊         | 173/2000 [34:44<6:46:28, 13.35s/it]"
          ]
        },
        {
          "name": "stdout",
          "output_type": "stream",
          "text": [
            "| Game:    172 | Score:   -1609.91 | Best score:   -1525.38 | Avg score   -1673.34 | Learning iter:     172745 |\n"
          ]
        },
        {
          "name": "stderr",
          "output_type": "stream",
          "text": [
            "  9%|▊         | 174/2000 [34:58<6:46:27, 13.36s/it]"
          ]
        },
        {
          "name": "stdout",
          "output_type": "stream",
          "text": [
            "| Game:    173 | Score:   -1697.38 | Best score:   -1525.38 | Avg score   -1672.11 | Learning iter:     173745 |\n"
          ]
        },
        {
          "name": "stderr",
          "output_type": "stream",
          "text": [
            "  9%|▉         | 175/2000 [35:11<6:46:29, 13.36s/it]"
          ]
        },
        {
          "name": "stdout",
          "output_type": "stream",
          "text": [
            "| Game:    174 | Score:   -1701.58 | Best score:   -1525.38 | Avg score   -1672.45 | Learning iter:     174745 |\n"
          ]
        },
        {
          "name": "stderr",
          "output_type": "stream",
          "text": [
            "  9%|▉         | 176/2000 [35:25<6:47:27, 13.40s/it]"
          ]
        },
        {
          "name": "stdout",
          "output_type": "stream",
          "text": [
            "| Game:    175 | Score:   -1743.31 | Best score:   -1525.38 | Avg score   -1673.76 | Learning iter:     175745 |\n"
          ]
        },
        {
          "name": "stderr",
          "output_type": "stream",
          "text": [
            "  9%|▉         | 177/2000 [35:38<6:47:49, 13.42s/it]"
          ]
        },
        {
          "name": "stdout",
          "output_type": "stream",
          "text": [
            "| Game:    176 | Score:   -1692.28 | Best score:   -1525.38 | Avg score   -1673.97 | Learning iter:     176745 |\n"
          ]
        },
        {
          "name": "stderr",
          "output_type": "stream",
          "text": [
            "  9%|▉         | 178/2000 [35:52<6:48:39, 13.46s/it]"
          ]
        },
        {
          "name": "stdout",
          "output_type": "stream",
          "text": [
            "| Game:    177 | Score:   -1568.77 | Best score:   -1525.38 | Avg score   -1670.93 | Learning iter:     177745 |\n"
          ]
        },
        {
          "name": "stderr",
          "output_type": "stream",
          "text": [
            "  9%|▉         | 179/2000 [36:05<6:48:35, 13.46s/it]"
          ]
        },
        {
          "name": "stdout",
          "output_type": "stream",
          "text": [
            "| Game:    178 | Score:   -1551.12 | Best score:   -1525.38 | Avg score   -1671.04 | Learning iter:     178745 |\n"
          ]
        },
        {
          "name": "stderr",
          "output_type": "stream",
          "text": [
            "  9%|▉         | 180/2000 [36:19<6:49:07, 13.49s/it]"
          ]
        },
        {
          "name": "stdout",
          "output_type": "stream",
          "text": [
            "| Game:    179 | Score:   -1778.93 | Best score:   -1525.38 | Avg score   -1675.51 | Learning iter:     179745 |\n"
          ]
        },
        {
          "name": "stderr",
          "output_type": "stream",
          "text": [
            "  9%|▉         | 181/2000 [36:32<6:49:33, 13.51s/it]"
          ]
        },
        {
          "name": "stdout",
          "output_type": "stream",
          "text": [
            "| Game:    180 | Score:   -1614.06 | Best score:   -1525.38 | Avg score   -1674.28 | Learning iter:     180745 |\n"
          ]
        },
        {
          "name": "stderr",
          "output_type": "stream",
          "text": [
            "  9%|▉         | 182/2000 [36:46<6:49:28, 13.51s/it]"
          ]
        },
        {
          "name": "stdout",
          "output_type": "stream",
          "text": [
            "| Game:    181 | Score:   -1607.63 | Best score:   -1525.38 | Avg score   -1673.41 | Learning iter:     181745 |\n"
          ]
        },
        {
          "name": "stderr",
          "output_type": "stream",
          "text": [
            "  9%|▉         | 183/2000 [36:59<6:47:33, 13.46s/it]"
          ]
        },
        {
          "name": "stdout",
          "output_type": "stream",
          "text": [
            "| Game:    182 | Score:   -1618.01 | Best score:   -1525.38 | Avg score   -1677.38 | Learning iter:     182745 |\n"
          ]
        },
        {
          "name": "stderr",
          "output_type": "stream",
          "text": [
            "  9%|▉         | 184/2000 [37:12<6:46:42, 13.44s/it]"
          ]
        },
        {
          "name": "stdout",
          "output_type": "stream",
          "text": [
            "| Game:    183 | Score:   -1830.23 | Best score:   -1525.38 | Avg score   -1679.63 | Learning iter:     183745 |\n"
          ]
        },
        {
          "name": "stderr",
          "output_type": "stream",
          "text": [
            "  9%|▉         | 185/2000 [37:26<6:46:22, 13.43s/it]"
          ]
        },
        {
          "name": "stdout",
          "output_type": "stream",
          "text": [
            "| Game:    184 | Score:   -1793.30 | Best score:   -1525.38 | Avg score   -1679.88 | Learning iter:     184745 |\n"
          ]
        },
        {
          "name": "stderr",
          "output_type": "stream",
          "text": [
            "  9%|▉         | 186/2000 [37:39<6:46:40, 13.45s/it]"
          ]
        },
        {
          "name": "stdout",
          "output_type": "stream",
          "text": [
            "| Game:    185 | Score:   -1606.72 | Best score:   -1525.38 | Avg score   -1678.32 | Learning iter:     185745 |\n"
          ]
        },
        {
          "name": "stderr",
          "output_type": "stream",
          "text": [
            "  9%|▉         | 187/2000 [37:53<6:45:15, 13.41s/it]"
          ]
        },
        {
          "name": "stdout",
          "output_type": "stream",
          "text": [
            "| Game:    186 | Score:   -1657.31 | Best score:   -1525.38 | Avg score   -1676.94 | Learning iter:     186745 |\n"
          ]
        },
        {
          "name": "stderr",
          "output_type": "stream",
          "text": [
            "  9%|▉         | 188/2000 [38:06<6:44:44, 13.40s/it]"
          ]
        },
        {
          "name": "stdout",
          "output_type": "stream",
          "text": [
            "| Game:    187 | Score:   -1540.84 | Best score:   -1525.38 | Avg score   -1675.33 | Learning iter:     187745 |\n"
          ]
        },
        {
          "name": "stderr",
          "output_type": "stream",
          "text": [
            "  9%|▉         | 189/2000 [38:20<6:45:52, 13.45s/it]"
          ]
        },
        {
          "name": "stdout",
          "output_type": "stream",
          "text": [
            "| Game:    188 | Score:   -1463.62 | Best score:   -1525.38 | Avg score   -1673.00 | Learning iter:     188745 |\n"
          ]
        },
        {
          "name": "stderr",
          "output_type": "stream",
          "text": [
            " 10%|▉         | 190/2000 [38:33<6:45:31, 13.44s/it]"
          ]
        },
        {
          "name": "stdout",
          "output_type": "stream",
          "text": [
            "| Game:    189 | Score:   -1625.07 | Best score:   -1525.38 | Avg score   -1672.21 | Learning iter:     189745 |\n"
          ]
        },
        {
          "name": "stderr",
          "output_type": "stream",
          "text": [
            " 10%|▉         | 191/2000 [38:47<6:46:30, 13.48s/it]"
          ]
        },
        {
          "name": "stdout",
          "output_type": "stream",
          "text": [
            "| Game:    190 | Score:   -1629.98 | Best score:   -1525.38 | Avg score   -1671.85 | Learning iter:     190745 |\n"
          ]
        },
        {
          "name": "stderr",
          "output_type": "stream",
          "text": [
            " 10%|▉         | 192/2000 [39:00<6:47:17, 13.52s/it]"
          ]
        },
        {
          "name": "stdout",
          "output_type": "stream",
          "text": [
            "| Game:    191 | Score:   -1647.61 | Best score:   -1525.38 | Avg score   -1670.75 | Learning iter:     191745 |\n"
          ]
        },
        {
          "name": "stderr",
          "output_type": "stream",
          "text": [
            " 10%|▉         | 193/2000 [39:14<6:52:58, 13.71s/it]"
          ]
        },
        {
          "name": "stdout",
          "output_type": "stream",
          "text": [
            "| Game:    192 | Score:   -1672.78 | Best score:   -1525.38 | Avg score   -1671.07 | Learning iter:     192745 |\n"
          ]
        },
        {
          "name": "stderr",
          "output_type": "stream",
          "text": [
            " 10%|▉         | 194/2000 [39:28<6:52:34, 13.71s/it]"
          ]
        },
        {
          "name": "stdout",
          "output_type": "stream",
          "text": [
            "| Game:    193 | Score:   -1843.65 | Best score:   -1525.38 | Avg score   -1675.03 | Learning iter:     193745 |\n"
          ]
        },
        {
          "name": "stderr",
          "output_type": "stream",
          "text": [
            " 10%|▉         | 195/2000 [39:42<6:50:54, 13.66s/it]"
          ]
        },
        {
          "name": "stdout",
          "output_type": "stream",
          "text": [
            "| Game:    194 | Score:   -1936.11 | Best score:   -1525.38 | Avg score   -1676.31 | Learning iter:     194745 |\n"
          ]
        },
        {
          "name": "stderr",
          "output_type": "stream",
          "text": [
            " 10%|▉         | 196/2000 [39:55<6:52:34, 13.72s/it]"
          ]
        },
        {
          "name": "stdout",
          "output_type": "stream",
          "text": [
            "| Game:    195 | Score:   -1726.41 | Best score:   -1525.38 | Avg score   -1676.71 | Learning iter:     195745 |\n"
          ]
        },
        {
          "name": "stderr",
          "output_type": "stream",
          "text": [
            " 10%|▉         | 197/2000 [40:09<6:52:32, 13.73s/it]"
          ]
        },
        {
          "name": "stdout",
          "output_type": "stream",
          "text": [
            "| Game:    196 | Score:   -1678.54 | Best score:   -1525.38 | Avg score   -1676.48 | Learning iter:     196745 |\n"
          ]
        },
        {
          "name": "stderr",
          "output_type": "stream",
          "text": [
            " 10%|▉         | 198/2000 [40:23<6:50:46, 13.68s/it]"
          ]
        },
        {
          "name": "stdout",
          "output_type": "stream",
          "text": [
            "| Game:    197 | Score:   -1691.61 | Best score:   -1525.38 | Avg score   -1676.37 | Learning iter:     197745 |\n"
          ]
        },
        {
          "name": "stderr",
          "output_type": "stream",
          "text": [
            " 10%|▉         | 199/2000 [40:36<6:49:19, 13.64s/it]"
          ]
        },
        {
          "name": "stdout",
          "output_type": "stream",
          "text": [
            "| Game:    198 | Score:   -1642.20 | Best score:   -1525.38 | Avg score   -1679.84 | Learning iter:     198745 |\n"
          ]
        },
        {
          "name": "stderr",
          "output_type": "stream",
          "text": [
            " 10%|█         | 200/2000 [40:50<6:49:03, 13.64s/it]"
          ]
        },
        {
          "name": "stdout",
          "output_type": "stream",
          "text": [
            "| Game:    199 | Score:   -1800.34 | Best score:   -1525.38 | Avg score   -1680.45 | Learning iter:     199745 |\n"
          ]
        },
        {
          "name": "stderr",
          "output_type": "stream",
          "text": [
            " 10%|█         | 201/2000 [41:04<6:50:10, 13.68s/it]"
          ]
        },
        {
          "name": "stdout",
          "output_type": "stream",
          "text": [
            "| Game:    200 | Score:   -1508.83 | Best score:   -1525.38 | Avg score   -1680.00 | Learning iter:     200745 |\n"
          ]
        },
        {
          "name": "stderr",
          "output_type": "stream",
          "text": [
            " 10%|█         | 202/2000 [41:17<6:49:39, 13.67s/it]"
          ]
        },
        {
          "name": "stdout",
          "output_type": "stream",
          "text": [
            "| Game:    201 | Score:   -1675.90 | Best score:   -1525.38 | Avg score   -1684.65 | Learning iter:     201745 |\n"
          ]
        },
        {
          "name": "stderr",
          "output_type": "stream",
          "text": [
            " 10%|█         | 203/2000 [41:31<6:49:13, 13.66s/it]"
          ]
        },
        {
          "name": "stdout",
          "output_type": "stream",
          "text": [
            "| Game:    202 | Score:   -1558.43 | Best score:   -1525.38 | Avg score   -1682.89 | Learning iter:     202745 |\n"
          ]
        },
        {
          "name": "stderr",
          "output_type": "stream",
          "text": [
            " 10%|█         | 204/2000 [41:45<6:49:10, 13.67s/it]"
          ]
        },
        {
          "name": "stdout",
          "output_type": "stream",
          "text": [
            "| Game:    203 | Score:   -1697.98 | Best score:   -1525.38 | Avg score   -1683.68 | Learning iter:     203745 |\n"
          ]
        },
        {
          "name": "stderr",
          "output_type": "stream",
          "text": [
            " 10%|█         | 205/2000 [41:58<6:49:10, 13.68s/it]"
          ]
        },
        {
          "name": "stdout",
          "output_type": "stream",
          "text": [
            "| Game:    204 | Score:   -1553.26 | Best score:   -1525.38 | Avg score   -1682.52 | Learning iter:     204745 |\n"
          ]
        },
        {
          "name": "stderr",
          "output_type": "stream",
          "text": [
            " 10%|█         | 206/2000 [42:12<6:49:46, 13.70s/it]"
          ]
        },
        {
          "name": "stdout",
          "output_type": "stream",
          "text": [
            "| Game:    205 | Score:   -1545.27 | Best score:   -1525.38 | Avg score   -1680.30 | Learning iter:     205745 |\n"
          ]
        },
        {
          "name": "stderr",
          "output_type": "stream",
          "text": [
            " 10%|█         | 207/2000 [42:26<6:50:44, 13.74s/it]"
          ]
        },
        {
          "name": "stdout",
          "output_type": "stream",
          "text": [
            "| Game:    206 | Score:   -1629.20 | Best score:   -1525.38 | Avg score   -1678.46 | Learning iter:     206745 |\n"
          ]
        },
        {
          "name": "stderr",
          "output_type": "stream",
          "text": [
            " 10%|█         | 208/2000 [42:40<6:50:48, 13.75s/it]"
          ]
        },
        {
          "name": "stdout",
          "output_type": "stream",
          "text": [
            "| Game:    207 | Score:   -1324.16 | Best score:   -1525.38 | Avg score   -1673.83 | Learning iter:     207745 |\n"
          ]
        },
        {
          "name": "stderr",
          "output_type": "stream",
          "text": [
            " 10%|█         | 209/2000 [42:53<6:49:13, 13.71s/it]"
          ]
        },
        {
          "name": "stdout",
          "output_type": "stream",
          "text": [
            "| Game:    208 | Score:   -1707.49 | Best score:   -1525.38 | Avg score   -1672.15 | Learning iter:     208745 |\n"
          ]
        },
        {
          "name": "stderr",
          "output_type": "stream",
          "text": [
            " 10%|█         | 210/2000 [43:07<6:50:06, 13.75s/it]"
          ]
        },
        {
          "name": "stdout",
          "output_type": "stream",
          "text": [
            "| Game:    209 | Score:   -1596.87 | Best score:   -1525.38 | Avg score   -1668.91 | Learning iter:     209745 |\n"
          ]
        },
        {
          "name": "stderr",
          "output_type": "stream",
          "text": [
            " 11%|█         | 211/2000 [43:21<6:50:00, 13.75s/it]"
          ]
        },
        {
          "name": "stdout",
          "output_type": "stream",
          "text": [
            "| Game:    210 | Score:   -1893.70 | Best score:   -1525.38 | Avg score   -1670.57 | Learning iter:     210745 |\n"
          ]
        },
        {
          "name": "stderr",
          "output_type": "stream",
          "text": [
            " 11%|█         | 212/2000 [43:35<6:49:35, 13.74s/it]"
          ]
        },
        {
          "name": "stdout",
          "output_type": "stream",
          "text": [
            "| Game:    211 | Score:   -1435.82 | Best score:   -1525.38 | Avg score   -1672.06 | Learning iter:     211745 |\n"
          ]
        },
        {
          "name": "stderr",
          "output_type": "stream",
          "text": [
            " 11%|█         | 213/2000 [43:48<6:48:36, 13.72s/it]"
          ]
        },
        {
          "name": "stdout",
          "output_type": "stream",
          "text": [
            "| Game:    212 | Score:   -1658.07 | Best score:   -1525.38 | Avg score   -1673.02 | Learning iter:     212745 |\n"
          ]
        },
        {
          "name": "stderr",
          "output_type": "stream",
          "text": [
            " 11%|█         | 214/2000 [44:02<6:48:29, 13.72s/it]"
          ]
        },
        {
          "name": "stdout",
          "output_type": "stream",
          "text": [
            "| Game:    213 | Score:   -1780.59 | Best score:   -1525.38 | Avg score   -1674.52 | Learning iter:     213745 |\n"
          ]
        },
        {
          "name": "stderr",
          "output_type": "stream",
          "text": [
            " 11%|█         | 215/2000 [44:16<6:49:32, 13.77s/it]"
          ]
        },
        {
          "name": "stdout",
          "output_type": "stream",
          "text": [
            "| Game:    214 | Score:   -1592.04 | Best score:   -1525.38 | Avg score   -1676.43 | Learning iter:     214745 |\n"
          ]
        },
        {
          "name": "stderr",
          "output_type": "stream",
          "text": [
            " 11%|█         | 216/2000 [44:30<6:49:13, 13.76s/it]"
          ]
        },
        {
          "name": "stdout",
          "output_type": "stream",
          "text": [
            "| Game:    215 | Score:   -1749.27 | Best score:   -1525.38 | Avg score   -1675.10 | Learning iter:     215745 |\n"
          ]
        },
        {
          "name": "stderr",
          "output_type": "stream",
          "text": [
            " 11%|█         | 217/2000 [44:44<6:49:50, 13.79s/it]"
          ]
        },
        {
          "name": "stdout",
          "output_type": "stream",
          "text": [
            "| Game:    216 | Score:   -1692.90 | Best score:   -1525.38 | Avg score   -1673.82 | Learning iter:     216745 |\n"
          ]
        },
        {
          "name": "stderr",
          "output_type": "stream",
          "text": [
            " 11%|█         | 218/2000 [44:57<6:49:18, 13.78s/it]"
          ]
        },
        {
          "name": "stdout",
          "output_type": "stream",
          "text": [
            "| Game:    217 | Score:   -1610.12 | Best score:   -1525.38 | Avg score   -1672.75 | Learning iter:     217745 |\n"
          ]
        },
        {
          "name": "stderr",
          "output_type": "stream",
          "text": [
            " 11%|█         | 219/2000 [45:11<6:50:50, 13.84s/it]"
          ]
        },
        {
          "name": "stdout",
          "output_type": "stream",
          "text": [
            "| Game:    218 | Score:   -1670.26 | Best score:   -1525.38 | Avg score   -1673.69 | Learning iter:     218745 |\n"
          ]
        },
        {
          "name": "stderr",
          "output_type": "stream",
          "text": [
            " 11%|█         | 220/2000 [45:25<6:51:02, 13.86s/it]"
          ]
        },
        {
          "name": "stdout",
          "output_type": "stream",
          "text": [
            "| Game:    219 | Score:   -1823.73 | Best score:   -1525.38 | Avg score   -1675.51 | Learning iter:     219745 |\n"
          ]
        },
        {
          "name": "stderr",
          "output_type": "stream",
          "text": [
            " 11%|█         | 221/2000 [45:39<6:52:00, 13.90s/it]"
          ]
        },
        {
          "name": "stdout",
          "output_type": "stream",
          "text": [
            "| Game:    220 | Score:   -1778.31 | Best score:   -1525.38 | Avg score   -1675.80 | Learning iter:     220745 |\n"
          ]
        },
        {
          "name": "stderr",
          "output_type": "stream",
          "text": [
            " 11%|█         | 222/2000 [45:53<6:53:05, 13.94s/it]"
          ]
        },
        {
          "name": "stdout",
          "output_type": "stream",
          "text": [
            "| Game:    221 | Score:   -1468.47 | Best score:   -1525.38 | Avg score   -1673.46 | Learning iter:     221745 |\n"
          ]
        },
        {
          "name": "stderr",
          "output_type": "stream",
          "text": [
            " 11%|█         | 223/2000 [46:07<6:53:52, 13.97s/it]"
          ]
        },
        {
          "name": "stdout",
          "output_type": "stream",
          "text": [
            "| Game:    222 | Score:   -1429.81 | Best score:   -1525.38 | Avg score   -1667.95 | Learning iter:     222745 |\n"
          ]
        },
        {
          "name": "stderr",
          "output_type": "stream",
          "text": [
            " 11%|█         | 224/2000 [46:21<6:54:37, 14.01s/it]"
          ]
        },
        {
          "name": "stdout",
          "output_type": "stream",
          "text": [
            "| Game:    223 | Score:   -1549.98 | Best score:   -1525.38 | Avg score   -1667.58 | Learning iter:     223745 |\n"
          ]
        },
        {
          "name": "stderr",
          "output_type": "stream",
          "text": [
            " 11%|█▏        | 225/2000 [46:35<6:53:43, 13.99s/it]"
          ]
        },
        {
          "name": "stdout",
          "output_type": "stream",
          "text": [
            "| Game:    224 | Score:   -1511.72 | Best score:   -1525.38 | Avg score   -1666.35 | Learning iter:     224745 |\n"
          ]
        },
        {
          "name": "stderr",
          "output_type": "stream",
          "text": [
            " 11%|█▏        | 226/2000 [46:49<6:54:14, 14.01s/it]"
          ]
        },
        {
          "name": "stdout",
          "output_type": "stream",
          "text": [
            "| Game:    225 | Score:   -1404.06 | Best score:   -1525.38 | Avg score   -1663.16 | Learning iter:     225745 |\n"
          ]
        },
        {
          "name": "stderr",
          "output_type": "stream",
          "text": [
            " 11%|█▏        | 227/2000 [47:03<6:52:44, 13.97s/it]"
          ]
        },
        {
          "name": "stdout",
          "output_type": "stream",
          "text": [
            "| Game:    226 | Score:   -1895.83 | Best score:   -1525.38 | Avg score   -1664.73 | Learning iter:     226745 |\n"
          ]
        },
        {
          "name": "stderr",
          "output_type": "stream",
          "text": [
            " 11%|█▏        | 228/2000 [47:17<6:51:44, 13.94s/it]"
          ]
        },
        {
          "name": "stdout",
          "output_type": "stream",
          "text": [
            "| Game:    227 | Score:   -1316.31 | Best score:   -1525.38 | Avg score   -1661.47 | Learning iter:     227745 |\n"
          ]
        },
        {
          "name": "stderr",
          "output_type": "stream",
          "text": [
            " 11%|█▏        | 229/2000 [47:31<6:50:41, 13.91s/it]"
          ]
        },
        {
          "name": "stdout",
          "output_type": "stream",
          "text": [
            "| Game:    228 | Score:   -1901.03 | Best score:   -1525.38 | Avg score   -1662.15 | Learning iter:     228745 |\n"
          ]
        },
        {
          "name": "stderr",
          "output_type": "stream",
          "text": [
            " 12%|█▏        | 230/2000 [47:45<6:51:09, 13.94s/it]"
          ]
        },
        {
          "name": "stdout",
          "output_type": "stream",
          "text": [
            "| Game:    229 | Score:   -1711.30 | Best score:   -1525.38 | Avg score   -1661.42 | Learning iter:     229745 |\n"
          ]
        },
        {
          "name": "stderr",
          "output_type": "stream",
          "text": [
            " 12%|█▏        | 231/2000 [47:59<6:50:46, 13.93s/it]"
          ]
        },
        {
          "name": "stdout",
          "output_type": "stream",
          "text": [
            "| Game:    230 | Score:   -1712.68 | Best score:   -1525.38 | Avg score   -1659.25 | Learning iter:     230745 |\n"
          ]
        },
        {
          "name": "stderr",
          "output_type": "stream",
          "text": [
            " 12%|█▏        | 232/2000 [48:13<6:51:01, 13.95s/it]"
          ]
        },
        {
          "name": "stdout",
          "output_type": "stream",
          "text": [
            "| Game:    231 | Score:   -1847.64 | Best score:   -1525.38 | Avg score   -1660.82 | Learning iter:     231745 |\n"
          ]
        },
        {
          "name": "stderr",
          "output_type": "stream",
          "text": [
            " 12%|█▏        | 233/2000 [48:27<6:49:54, 13.92s/it]"
          ]
        },
        {
          "name": "stdout",
          "output_type": "stream",
          "text": [
            "| Game:    232 | Score:   -1654.48 | Best score:   -1525.38 | Avg score   -1660.99 | Learning iter:     232745 |\n"
          ]
        },
        {
          "name": "stderr",
          "output_type": "stream",
          "text": [
            " 12%|█▏        | 234/2000 [48:41<6:49:58, 13.93s/it]"
          ]
        },
        {
          "name": "stdout",
          "output_type": "stream",
          "text": [
            "| Game:    233 | Score:   -1830.60 | Best score:   -1525.38 | Avg score   -1660.63 | Learning iter:     233745 |\n"
          ]
        },
        {
          "name": "stderr",
          "output_type": "stream",
          "text": [
            " 12%|█▏        | 235/2000 [48:55<6:51:35, 13.99s/it]"
          ]
        },
        {
          "name": "stdout",
          "output_type": "stream",
          "text": [
            "| Game:    234 | Score:   -1618.64 | Best score:   -1525.38 | Avg score   -1659.83 | Learning iter:     234745 |\n"
          ]
        },
        {
          "name": "stderr",
          "output_type": "stream",
          "text": [
            " 12%|█▏        | 236/2000 [49:09<6:51:32, 14.00s/it]"
          ]
        },
        {
          "name": "stdout",
          "output_type": "stream",
          "text": [
            "| Game:    235 | Score:   -1827.02 | Best score:   -1525.38 | Avg score   -1660.58 | Learning iter:     235745 |\n"
          ]
        },
        {
          "name": "stderr",
          "output_type": "stream",
          "text": [
            " 12%|█▏        | 237/2000 [49:23<6:51:34, 14.01s/it]"
          ]
        },
        {
          "name": "stdout",
          "output_type": "stream",
          "text": [
            "| Game:    236 | Score:   -1812.22 | Best score:   -1525.38 | Avg score   -1660.91 | Learning iter:     236745 |\n"
          ]
        },
        {
          "name": "stderr",
          "output_type": "stream",
          "text": [
            " 12%|█▏        | 238/2000 [49:37<6:50:47, 13.99s/it]"
          ]
        },
        {
          "name": "stdout",
          "output_type": "stream",
          "text": [
            "| Game:    237 | Score:   -1833.14 | Best score:   -1525.38 | Avg score   -1664.57 | Learning iter:     237745 |\n"
          ]
        },
        {
          "name": "stderr",
          "output_type": "stream",
          "text": [
            " 12%|█▏        | 239/2000 [49:51<6:50:42, 13.99s/it]"
          ]
        },
        {
          "name": "stdout",
          "output_type": "stream",
          "text": [
            "| Game:    238 | Score:   -1710.55 | Best score:   -1525.38 | Avg score   -1665.69 | Learning iter:     238745 |\n"
          ]
        },
        {
          "name": "stderr",
          "output_type": "stream",
          "text": [
            " 12%|█▏        | 240/2000 [50:05<6:51:10, 14.02s/it]"
          ]
        },
        {
          "name": "stdout",
          "output_type": "stream",
          "text": [
            "| Game:    239 | Score:   -1550.46 | Best score:   -1525.38 | Avg score   -1665.14 | Learning iter:     239745 |\n"
          ]
        },
        {
          "name": "stderr",
          "output_type": "stream",
          "text": [
            " 12%|█▏        | 241/2000 [50:19<6:52:20, 14.07s/it]"
          ]
        },
        {
          "name": "stdout",
          "output_type": "stream",
          "text": [
            "| Game:    240 | Score:   -1785.95 | Best score:   -1525.38 | Avg score   -1665.71 | Learning iter:     240745 |\n"
          ]
        },
        {
          "name": "stderr",
          "output_type": "stream",
          "text": [
            " 12%|█▏        | 242/2000 [50:33<6:52:37, 14.08s/it]"
          ]
        },
        {
          "name": "stdout",
          "output_type": "stream",
          "text": [
            "| Game:    241 | Score:   -1766.89 | Best score:   -1525.38 | Avg score   -1666.04 | Learning iter:     241745 |\n"
          ]
        },
        {
          "name": "stderr",
          "output_type": "stream",
          "text": [
            " 12%|█▏        | 243/2000 [50:47<6:53:05, 14.11s/it]"
          ]
        },
        {
          "name": "stdout",
          "output_type": "stream",
          "text": [
            "| Game:    242 | Score:   -1578.15 | Best score:   -1525.38 | Avg score   -1664.94 | Learning iter:     242745 |\n"
          ]
        },
        {
          "name": "stderr",
          "output_type": "stream",
          "text": [
            " 12%|█▏        | 244/2000 [51:02<6:53:47, 14.14s/it]"
          ]
        },
        {
          "name": "stdout",
          "output_type": "stream",
          "text": [
            "| Game:    243 | Score:   -1764.28 | Best score:   -1525.38 | Avg score   -1665.04 | Learning iter:     243745 |\n"
          ]
        },
        {
          "name": "stderr",
          "output_type": "stream",
          "text": [
            " 12%|█▏        | 245/2000 [51:16<6:54:31, 14.17s/it]"
          ]
        },
        {
          "name": "stdout",
          "output_type": "stream",
          "text": [
            "| Game:    244 | Score:   -1399.02 | Best score:   -1525.38 | Avg score   -1663.24 | Learning iter:     244745 |\n"
          ]
        },
        {
          "name": "stderr",
          "output_type": "stream",
          "text": [
            " 12%|█▏        | 246/2000 [51:30<6:57:11, 14.27s/it]"
          ]
        },
        {
          "name": "stdout",
          "output_type": "stream",
          "text": [
            "| Game:    245 | Score:   -1727.51 | Best score:   -1525.38 | Avg score   -1666.96 | Learning iter:     245745 |\n"
          ]
        },
        {
          "name": "stderr",
          "output_type": "stream",
          "text": [
            " 12%|█▏        | 247/2000 [51:45<6:59:12, 14.35s/it]"
          ]
        },
        {
          "name": "stdout",
          "output_type": "stream",
          "text": [
            "| Game:    246 | Score:   -1664.82 | Best score:   -1525.38 | Avg score   -1666.64 | Learning iter:     246745 |\n"
          ]
        },
        {
          "name": "stderr",
          "output_type": "stream",
          "text": [
            " 12%|█▏        | 248/2000 [51:59<6:59:32, 14.37s/it]"
          ]
        },
        {
          "name": "stdout",
          "output_type": "stream",
          "text": [
            "| Game:    247 | Score:   -1561.01 | Best score:   -1525.38 | Avg score   -1663.86 | Learning iter:     247745 |\n"
          ]
        },
        {
          "name": "stderr",
          "output_type": "stream",
          "text": [
            " 12%|█▏        | 249/2000 [52:14<7:05:14, 14.57s/it]"
          ]
        },
        {
          "name": "stdout",
          "output_type": "stream",
          "text": [
            "| Game:    248 | Score:   -1662.92 | Best score:   -1525.38 | Avg score   -1664.21 | Learning iter:     248745 |\n"
          ]
        },
        {
          "name": "stderr",
          "output_type": "stream",
          "text": [
            " 12%|█▎        | 250/2000 [52:29<7:03:33, 14.52s/it]"
          ]
        },
        {
          "name": "stdout",
          "output_type": "stream",
          "text": [
            "| Game:    249 | Score:   -1771.36 | Best score:   -1525.38 | Avg score   -1662.62 | Learning iter:     249745 |\n"
          ]
        },
        {
          "name": "stderr",
          "output_type": "stream",
          "text": [
            " 13%|█▎        | 251/2000 [52:43<7:02:04, 14.48s/it]"
          ]
        },
        {
          "name": "stdout",
          "output_type": "stream",
          "text": [
            "| Game:    250 | Score:   -1524.15 | Best score:   -1525.38 | Avg score   -1663.59 | Learning iter:     250745 |\n"
          ]
        },
        {
          "name": "stderr",
          "output_type": "stream",
          "text": [
            " 13%|█▎        | 252/2000 [52:57<7:00:06, 14.42s/it]"
          ]
        },
        {
          "name": "stdout",
          "output_type": "stream",
          "text": [
            "| Game:    251 | Score:   -1592.87 | Best score:   -1525.38 | Avg score   -1661.48 | Learning iter:     251745 |\n"
          ]
        },
        {
          "name": "stderr",
          "output_type": "stream",
          "text": [
            " 13%|█▎        | 253/2000 [53:12<6:59:02, 14.39s/it]"
          ]
        },
        {
          "name": "stdout",
          "output_type": "stream",
          "text": [
            "| Game:    252 | Score:   -1524.40 | Best score:   -1525.38 | Avg score   -1658.85 | Learning iter:     252745 |\n"
          ]
        },
        {
          "name": "stderr",
          "output_type": "stream",
          "text": [
            " 13%|█▎        | 254/2000 [53:26<6:58:16, 14.37s/it]"
          ]
        },
        {
          "name": "stdout",
          "output_type": "stream",
          "text": [
            "| Game:    253 | Score:   -1671.02 | Best score:   -1525.38 | Avg score   -1662.37 | Learning iter:     253745 |\n"
          ]
        },
        {
          "name": "stderr",
          "output_type": "stream",
          "text": [
            " 13%|█▎        | 255/2000 [53:40<6:57:27, 14.35s/it]"
          ]
        },
        {
          "name": "stdout",
          "output_type": "stream",
          "text": [
            "| Game:    254 | Score:   -1598.27 | Best score:   -1525.38 | Avg score   -1662.02 | Learning iter:     254745 |\n"
          ]
        },
        {
          "name": "stderr",
          "output_type": "stream",
          "text": [
            " 13%|█▎        | 256/2000 [53:55<6:56:59, 14.35s/it]"
          ]
        },
        {
          "name": "stdout",
          "output_type": "stream",
          "text": [
            "| Game:    255 | Score:   -1646.35 | Best score:   -1525.38 | Avg score   -1662.62 | Learning iter:     255745 |\n"
          ]
        },
        {
          "name": "stderr",
          "output_type": "stream",
          "text": [
            " 13%|█▎        | 257/2000 [54:09<6:56:29, 14.34s/it]"
          ]
        },
        {
          "name": "stdout",
          "output_type": "stream",
          "text": [
            "| Game:    256 | Score:   -1825.66 | Best score:   -1525.38 | Avg score   -1664.52 | Learning iter:     256745 |\n"
          ]
        },
        {
          "name": "stderr",
          "output_type": "stream",
          "text": [
            " 13%|█▎        | 258/2000 [54:23<6:56:57, 14.36s/it]"
          ]
        },
        {
          "name": "stdout",
          "output_type": "stream",
          "text": [
            "| Game:    257 | Score:   -1599.49 | Best score:   -1525.38 | Avg score   -1662.75 | Learning iter:     257745 |\n"
          ]
        },
        {
          "name": "stderr",
          "output_type": "stream",
          "text": [
            " 13%|█▎        | 259/2000 [54:38<6:57:47, 14.40s/it]"
          ]
        },
        {
          "name": "stdout",
          "output_type": "stream",
          "text": [
            "| Game:    258 | Score:   -1788.43 | Best score:   -1525.38 | Avg score   -1662.34 | Learning iter:     258745 |\n"
          ]
        },
        {
          "name": "stderr",
          "output_type": "stream",
          "text": [
            " 13%|█▎        | 260/2000 [54:52<6:57:22, 14.39s/it]"
          ]
        },
        {
          "name": "stdout",
          "output_type": "stream",
          "text": [
            "| Game:    259 | Score:   -1680.22 | Best score:   -1525.38 | Avg score   -1663.65 | Learning iter:     259745 |\n"
          ]
        },
        {
          "name": "stderr",
          "output_type": "stream",
          "text": [
            " 13%|█▎        | 261/2000 [55:07<6:57:04, 14.39s/it]"
          ]
        },
        {
          "name": "stdout",
          "output_type": "stream",
          "text": [
            "| Game:    260 | Score:   -1842.30 | Best score:   -1525.38 | Avg score   -1664.42 | Learning iter:     260745 |\n"
          ]
        },
        {
          "name": "stderr",
          "output_type": "stream",
          "text": [
            " 13%|█▎        | 262/2000 [55:21<6:56:56, 14.39s/it]"
          ]
        },
        {
          "name": "stdout",
          "output_type": "stream",
          "text": [
            "| Game:    261 | Score:   -1583.96 | Best score:   -1525.38 | Avg score   -1661.96 | Learning iter:     261745 |\n"
          ]
        },
        {
          "name": "stderr",
          "output_type": "stream",
          "text": [
            " 13%|█▎        | 263/2000 [55:35<6:56:29, 14.39s/it]"
          ]
        },
        {
          "name": "stdout",
          "output_type": "stream",
          "text": [
            "| Game:    262 | Score:   -1769.91 | Best score:   -1525.38 | Avg score   -1662.92 | Learning iter:     262745 |\n"
          ]
        },
        {
          "name": "stderr",
          "output_type": "stream",
          "text": [
            " 13%|█▎        | 264/2000 [55:50<6:56:22, 14.39s/it]"
          ]
        },
        {
          "name": "stdout",
          "output_type": "stream",
          "text": [
            "| Game:    263 | Score:   -1864.41 | Best score:   -1525.38 | Avg score   -1664.33 | Learning iter:     263745 |\n"
          ]
        },
        {
          "name": "stderr",
          "output_type": "stream",
          "text": [
            " 13%|█▎        | 265/2000 [56:04<6:56:31, 14.40s/it]"
          ]
        },
        {
          "name": "stdout",
          "output_type": "stream",
          "text": [
            "| Game:    264 | Score:   -1712.04 | Best score:   -1525.38 | Avg score   -1668.86 | Learning iter:     264745 |\n"
          ]
        },
        {
          "name": "stderr",
          "output_type": "stream",
          "text": [
            " 13%|█▎        | 266/2000 [56:19<6:56:50, 14.42s/it]"
          ]
        },
        {
          "name": "stdout",
          "output_type": "stream",
          "text": [
            "| Game:    265 | Score:   -1387.35 | Best score:   -1525.38 | Avg score   -1665.81 | Learning iter:     265745 |\n"
          ]
        },
        {
          "name": "stderr",
          "output_type": "stream",
          "text": [
            " 13%|█▎        | 267/2000 [56:33<6:57:58, 14.47s/it]"
          ]
        },
        {
          "name": "stdout",
          "output_type": "stream",
          "text": [
            "| Game:    266 | Score:   -1497.86 | Best score:   -1525.38 | Avg score   -1665.40 | Learning iter:     266745 |\n"
          ]
        },
        {
          "name": "stderr",
          "output_type": "stream",
          "text": [
            " 13%|█▎        | 268/2000 [56:48<6:58:00, 14.48s/it]"
          ]
        },
        {
          "name": "stdout",
          "output_type": "stream",
          "text": [
            "| Game:    267 | Score:   -1728.46 | Best score:   -1525.38 | Avg score   -1665.25 | Learning iter:     267745 |\n"
          ]
        },
        {
          "name": "stderr",
          "output_type": "stream",
          "text": [
            " 13%|█▎        | 269/2000 [57:02<6:57:13, 14.46s/it]"
          ]
        },
        {
          "name": "stdout",
          "output_type": "stream",
          "text": [
            "| Game:    268 | Score:   -1614.94 | Best score:   -1525.38 | Avg score   -1663.91 | Learning iter:     268745 |\n"
          ]
        },
        {
          "name": "stderr",
          "output_type": "stream",
          "text": [
            " 14%|█▎        | 270/2000 [57:17<6:57:52, 14.49s/it]"
          ]
        },
        {
          "name": "stdout",
          "output_type": "stream",
          "text": [
            "| Game:    269 | Score:   -1830.42 | Best score:   -1525.38 | Avg score   -1666.00 | Learning iter:     269745 |\n"
          ]
        },
        {
          "name": "stderr",
          "output_type": "stream",
          "text": [
            " 14%|█▎        | 271/2000 [57:31<6:58:29, 14.52s/it]"
          ]
        },
        {
          "name": "stdout",
          "output_type": "stream",
          "text": [
            "| Game:    270 | Score:   -1833.49 | Best score:   -1525.38 | Avg score   -1665.25 | Learning iter:     270745 |\n"
          ]
        },
        {
          "name": "stderr",
          "output_type": "stream",
          "text": [
            " 14%|█▎        | 272/2000 [57:46<6:59:04, 14.55s/it]"
          ]
        },
        {
          "name": "stdout",
          "output_type": "stream",
          "text": [
            "| Game:    271 | Score:   -1606.52 | Best score:   -1525.38 | Avg score   -1664.42 | Learning iter:     271745 |\n"
          ]
        },
        {
          "name": "stderr",
          "output_type": "stream",
          "text": [
            " 14%|█▎        | 273/2000 [58:01<6:59:08, 14.56s/it]"
          ]
        },
        {
          "name": "stdout",
          "output_type": "stream",
          "text": [
            "| Game:    272 | Score:   -1584.02 | Best score:   -1525.38 | Avg score   -1664.16 | Learning iter:     272745 |\n"
          ]
        },
        {
          "name": "stderr",
          "output_type": "stream",
          "text": [
            " 14%|█▎        | 274/2000 [58:15<6:59:51, 14.60s/it]"
          ]
        },
        {
          "name": "stdout",
          "output_type": "stream",
          "text": [
            "| Game:    273 | Score:   -1668.71 | Best score:   -1525.38 | Avg score   -1663.87 | Learning iter:     273745 |\n"
          ]
        },
        {
          "name": "stderr",
          "output_type": "stream",
          "text": [
            " 14%|█▍        | 275/2000 [58:30<7:00:56, 14.64s/it]"
          ]
        },
        {
          "name": "stdout",
          "output_type": "stream",
          "text": [
            "| Game:    274 | Score:   -1747.63 | Best score:   -1525.38 | Avg score   -1664.33 | Learning iter:     274745 |\n"
          ]
        },
        {
          "name": "stderr",
          "output_type": "stream",
          "text": [
            " 14%|█▍        | 276/2000 [58:45<7:01:45, 14.68s/it]"
          ]
        },
        {
          "name": "stdout",
          "output_type": "stream",
          "text": [
            "| Game:    275 | Score:   -1762.70 | Best score:   -1525.38 | Avg score   -1664.53 | Learning iter:     275745 |\n"
          ]
        },
        {
          "name": "stderr",
          "output_type": "stream",
          "text": [
            " 14%|█▍        | 277/2000 [59:00<7:02:59, 14.73s/it]"
          ]
        },
        {
          "name": "stdout",
          "output_type": "stream",
          "text": [
            "| Game:    276 | Score:   -1683.64 | Best score:   -1525.38 | Avg score   -1664.44 | Learning iter:     276745 |\n"
          ]
        },
        {
          "name": "stderr",
          "output_type": "stream",
          "text": [
            " 14%|█▍        | 278/2000 [59:14<7:03:51, 14.77s/it]"
          ]
        },
        {
          "name": "stdout",
          "output_type": "stream",
          "text": [
            "| Game:    277 | Score:   -1750.54 | Best score:   -1525.38 | Avg score   -1666.26 | Learning iter:     277745 |\n"
          ]
        },
        {
          "name": "stderr",
          "output_type": "stream",
          "text": [
            " 14%|█▍        | 279/2000 [59:29<7:04:27, 14.80s/it]"
          ]
        },
        {
          "name": "stdout",
          "output_type": "stream",
          "text": [
            "| Game:    278 | Score:   -1732.64 | Best score:   -1525.38 | Avg score   -1668.07 | Learning iter:     278745 |\n"
          ]
        },
        {
          "name": "stderr",
          "output_type": "stream",
          "text": [
            " 14%|█▍        | 280/2000 [59:44<7:04:56, 14.82s/it]"
          ]
        },
        {
          "name": "stdout",
          "output_type": "stream",
          "text": [
            "| Game:    279 | Score:   -1802.39 | Best score:   -1525.38 | Avg score   -1668.31 | Learning iter:     279745 |\n"
          ]
        },
        {
          "name": "stderr",
          "output_type": "stream",
          "text": [
            " 14%|█▍        | 281/2000 [59:59<7:04:53, 14.83s/it]"
          ]
        },
        {
          "name": "stdout",
          "output_type": "stream",
          "text": [
            "| Game:    280 | Score:   -1919.03 | Best score:   -1525.38 | Avg score   -1671.36 | Learning iter:     280745 |\n"
          ]
        },
        {
          "name": "stderr",
          "output_type": "stream",
          "text": [
            " 14%|█▍        | 282/2000 [1:00:14<7:04:47, 14.84s/it]"
          ]
        },
        {
          "name": "stdout",
          "output_type": "stream",
          "text": [
            "| Game:    281 | Score:   -1646.57 | Best score:   -1525.38 | Avg score   -1671.75 | Learning iter:     281745 |\n"
          ]
        },
        {
          "name": "stderr",
          "output_type": "stream",
          "text": [
            " 14%|█▍        | 283/2000 [1:00:29<7:05:02, 14.85s/it]"
          ]
        },
        {
          "name": "stdout",
          "output_type": "stream",
          "text": [
            "| Game:    282 | Score:   -1832.78 | Best score:   -1525.38 | Avg score   -1673.90 | Learning iter:     282745 |\n"
          ]
        },
        {
          "name": "stderr",
          "output_type": "stream",
          "text": [
            " 14%|█▍        | 284/2000 [1:00:44<7:05:53, 14.89s/it]"
          ]
        },
        {
          "name": "stdout",
          "output_type": "stream",
          "text": [
            "| Game:    283 | Score:   -1723.39 | Best score:   -1525.38 | Avg score   -1672.83 | Learning iter:     283745 |\n"
          ]
        },
        {
          "name": "stderr",
          "output_type": "stream",
          "text": [
            " 14%|█▍        | 285/2000 [1:00:59<7:06:01, 14.90s/it]"
          ]
        },
        {
          "name": "stdout",
          "output_type": "stream",
          "text": [
            "| Game:    284 | Score:   -1691.14 | Best score:   -1525.38 | Avg score   -1671.81 | Learning iter:     284745 |\n"
          ]
        },
        {
          "name": "stderr",
          "output_type": "stream",
          "text": [
            " 14%|█▍        | 286/2000 [1:01:14<7:07:10, 14.95s/it]"
          ]
        },
        {
          "name": "stdout",
          "output_type": "stream",
          "text": [
            "| Game:    285 | Score:   -1961.38 | Best score:   -1525.38 | Avg score   -1675.35 | Learning iter:     285745 |\n"
          ]
        },
        {
          "name": "stderr",
          "output_type": "stream",
          "text": [
            " 14%|█▍        | 287/2000 [1:01:29<7:08:10, 15.00s/it]"
          ]
        },
        {
          "name": "stdout",
          "output_type": "stream",
          "text": [
            "| Game:    286 | Score:   -1491.42 | Best score:   -1525.38 | Avg score   -1673.69 | Learning iter:     286745 |\n"
          ]
        },
        {
          "name": "stderr",
          "output_type": "stream",
          "text": [
            " 14%|█▍        | 288/2000 [1:01:44<7:09:41, 15.06s/it]"
          ]
        },
        {
          "name": "stdout",
          "output_type": "stream",
          "text": [
            "| Game:    287 | Score:   -1782.76 | Best score:   -1525.38 | Avg score   -1676.11 | Learning iter:     287745 |\n"
          ]
        },
        {
          "name": "stderr",
          "output_type": "stream",
          "text": [
            " 14%|█▍        | 289/2000 [1:01:59<7:10:16, 15.09s/it]"
          ]
        },
        {
          "name": "stdout",
          "output_type": "stream",
          "text": [
            "| Game:    288 | Score:   -1729.69 | Best score:   -1525.38 | Avg score   -1678.77 | Learning iter:     288745 |\n"
          ]
        },
        {
          "name": "stderr",
          "output_type": "stream",
          "text": [
            " 14%|█▍        | 290/2000 [1:02:14<7:10:52, 15.12s/it]"
          ]
        },
        {
          "name": "stdout",
          "output_type": "stream",
          "text": [
            "| Game:    289 | Score:   -1867.78 | Best score:   -1525.38 | Avg score   -1681.20 | Learning iter:     289745 |\n"
          ]
        },
        {
          "name": "stderr",
          "output_type": "stream",
          "text": [
            " 15%|█▍        | 291/2000 [1:02:30<7:10:43, 15.12s/it]"
          ]
        },
        {
          "name": "stdout",
          "output_type": "stream",
          "text": [
            "| Game:    290 | Score:   -1672.52 | Best score:   -1525.38 | Avg score   -1681.63 | Learning iter:     290745 |\n"
          ]
        },
        {
          "name": "stderr",
          "output_type": "stream",
          "text": [
            " 15%|█▍        | 292/2000 [1:02:45<7:12:35, 15.20s/it]"
          ]
        },
        {
          "name": "stdout",
          "output_type": "stream",
          "text": [
            "| Game:    291 | Score:   -1788.53 | Best score:   -1525.38 | Avg score   -1683.03 | Learning iter:     291745 |\n"
          ]
        },
        {
          "name": "stderr",
          "output_type": "stream",
          "text": [
            " 15%|█▍        | 293/2000 [1:03:00<7:13:10, 15.23s/it]"
          ]
        },
        {
          "name": "stdout",
          "output_type": "stream",
          "text": [
            "| Game:    292 | Score:   -1746.78 | Best score:   -1525.38 | Avg score   -1683.77 | Learning iter:     292745 |\n"
          ]
        },
        {
          "name": "stderr",
          "output_type": "stream",
          "text": [
            " 15%|█▍        | 294/2000 [1:03:15<7:12:47, 15.22s/it]"
          ]
        },
        {
          "name": "stdout",
          "output_type": "stream",
          "text": [
            "| Game:    293 | Score:   -1955.13 | Best score:   -1525.38 | Avg score   -1684.89 | Learning iter:     293745 |\n"
          ]
        },
        {
          "name": "stderr",
          "output_type": "stream",
          "text": [
            " 15%|█▍        | 295/2000 [1:03:31<7:12:27, 15.22s/it]"
          ]
        },
        {
          "name": "stdout",
          "output_type": "stream",
          "text": [
            "| Game:    294 | Score:   -1758.11 | Best score:   -1525.38 | Avg score   -1683.11 | Learning iter:     294745 |\n"
          ]
        },
        {
          "name": "stderr",
          "output_type": "stream",
          "text": [
            " 15%|█▍        | 296/2000 [1:03:46<7:12:56, 15.24s/it]"
          ]
        },
        {
          "name": "stdout",
          "output_type": "stream",
          "text": [
            "| Game:    295 | Score:   -1554.50 | Best score:   -1525.38 | Avg score   -1681.39 | Learning iter:     295745 |\n"
          ]
        },
        {
          "name": "stderr",
          "output_type": "stream",
          "text": [
            " 15%|█▍        | 297/2000 [1:04:01<7:13:51, 15.29s/it]"
          ]
        },
        {
          "name": "stdout",
          "output_type": "stream",
          "text": [
            "| Game:    296 | Score:   -1661.85 | Best score:   -1525.38 | Avg score   -1681.22 | Learning iter:     296745 |\n"
          ]
        },
        {
          "name": "stderr",
          "output_type": "stream",
          "text": [
            " 15%|█▍        | 298/2000 [1:04:17<7:13:53, 15.30s/it]"
          ]
        },
        {
          "name": "stdout",
          "output_type": "stream",
          "text": [
            "| Game:    297 | Score:   -1747.47 | Best score:   -1525.38 | Avg score   -1681.78 | Learning iter:     297745 |\n"
          ]
        },
        {
          "name": "stderr",
          "output_type": "stream",
          "text": [
            " 15%|█▍        | 299/2000 [1:04:32<7:13:17, 15.28s/it]"
          ]
        },
        {
          "name": "stdout",
          "output_type": "stream",
          "text": [
            "| Game:    298 | Score:   -1672.77 | Best score:   -1525.38 | Avg score   -1682.09 | Learning iter:     298745 |\n"
          ]
        },
        {
          "name": "stderr",
          "output_type": "stream",
          "text": [
            " 15%|█▌        | 300/2000 [1:04:47<7:13:11, 15.29s/it]"
          ]
        },
        {
          "name": "stdout",
          "output_type": "stream",
          "text": [
            "| Game:    299 | Score:   -1630.96 | Best score:   -1525.38 | Avg score   -1680.39 | Learning iter:     299745 |\n"
          ]
        },
        {
          "name": "stderr",
          "output_type": "stream",
          "text": [
            " 15%|█▌        | 301/2000 [1:05:03<7:14:34, 15.35s/it]"
          ]
        },
        {
          "name": "stdout",
          "output_type": "stream",
          "text": [
            "| Game:    300 | Score:   -1833.94 | Best score:   -1525.38 | Avg score   -1683.65 | Learning iter:     300745 |\n"
          ]
        },
        {
          "name": "stderr",
          "output_type": "stream",
          "text": [
            " 15%|█▌        | 302/2000 [1:05:18<7:17:20, 15.45s/it]"
          ]
        },
        {
          "name": "stdout",
          "output_type": "stream",
          "text": [
            "| Game:    301 | Score:   -1493.12 | Best score:   -1525.38 | Avg score   -1681.82 | Learning iter:     301745 |\n"
          ]
        },
        {
          "name": "stderr",
          "output_type": "stream",
          "text": [
            " 15%|█▌        | 303/2000 [1:05:34<7:17:20, 15.46s/it]"
          ]
        },
        {
          "name": "stdout",
          "output_type": "stream",
          "text": [
            "| Game:    302 | Score:   -1759.32 | Best score:   -1525.38 | Avg score   -1683.83 | Learning iter:     302745 |\n"
          ]
        },
        {
          "name": "stderr",
          "output_type": "stream",
          "text": [
            " 15%|█▌        | 304/2000 [1:05:49<7:16:56, 15.46s/it]"
          ]
        },
        {
          "name": "stdout",
          "output_type": "stream",
          "text": [
            "| Game:    303 | Score:   -1676.45 | Best score:   -1525.38 | Avg score   -1683.61 | Learning iter:     303745 |\n"
          ]
        },
        {
          "name": "stderr",
          "output_type": "stream",
          "text": [
            " 15%|█▌        | 305/2000 [1:06:05<7:15:51, 15.43s/it]"
          ]
        },
        {
          "name": "stdout",
          "output_type": "stream",
          "text": [
            "| Game:    304 | Score:   -1628.49 | Best score:   -1525.38 | Avg score   -1684.36 | Learning iter:     304745 |\n"
          ]
        },
        {
          "name": "stderr",
          "output_type": "stream",
          "text": [
            " 15%|█▌        | 306/2000 [1:06:20<7:15:33, 15.43s/it]"
          ]
        },
        {
          "name": "stdout",
          "output_type": "stream",
          "text": [
            "| Game:    305 | Score:   -1530.28 | Best score:   -1525.38 | Avg score   -1684.21 | Learning iter:     305745 |\n"
          ]
        },
        {
          "name": "stderr",
          "output_type": "stream",
          "text": [
            " 15%|█▌        | 307/2000 [1:06:36<7:15:49, 15.45s/it]"
          ]
        },
        {
          "name": "stdout",
          "output_type": "stream",
          "text": [
            "| Game:    306 | Score:   -1524.98 | Best score:   -1525.38 | Avg score   -1683.17 | Learning iter:     306745 |\n"
          ]
        },
        {
          "name": "stderr",
          "output_type": "stream",
          "text": [
            " 15%|█▌        | 308/2000 [1:06:51<7:16:07, 15.47s/it]"
          ]
        },
        {
          "name": "stdout",
          "output_type": "stream",
          "text": [
            "| Game:    307 | Score:   -1491.25 | Best score:   -1525.38 | Avg score   -1684.84 | Learning iter:     307745 |\n"
          ]
        },
        {
          "name": "stderr",
          "output_type": "stream",
          "text": [
            " 15%|█▌        | 309/2000 [1:07:06<7:15:10, 15.44s/it]"
          ]
        },
        {
          "name": "stdout",
          "output_type": "stream",
          "text": [
            "| Game:    308 | Score:   -1706.26 | Best score:   -1525.38 | Avg score   -1684.83 | Learning iter:     308745 |\n"
          ]
        },
        {
          "name": "stderr",
          "output_type": "stream",
          "text": [
            " 16%|█▌        | 310/2000 [1:07:22<7:14:10, 15.41s/it]"
          ]
        },
        {
          "name": "stdout",
          "output_type": "stream",
          "text": [
            "| Game:    309 | Score:   -1743.25 | Best score:   -1525.38 | Avg score   -1686.29 | Learning iter:     309745 |\n"
          ]
        },
        {
          "name": "stderr",
          "output_type": "stream",
          "text": [
            " 16%|█▌        | 311/2000 [1:07:37<7:15:01, 15.45s/it]"
          ]
        },
        {
          "name": "stdout",
          "output_type": "stream",
          "text": [
            "| Game:    310 | Score:   -1692.94 | Best score:   -1525.38 | Avg score   -1684.29 | Learning iter:     310745 |\n"
          ]
        },
        {
          "name": "stderr",
          "output_type": "stream",
          "text": [
            " 16%|█▌        | 312/2000 [1:07:59<8:02:52, 17.16s/it]"
          ]
        },
        {
          "name": "stdout",
          "output_type": "stream",
          "text": [
            "| Game:    311 | Score:   -1619.65 | Best score:   -1525.38 | Avg score   -1686.12 | Learning iter:     311745 |\n"
          ]
        },
        {
          "name": "stderr",
          "output_type": "stream",
          "text": [
            " 16%|█▌        | 313/2000 [1:08:20<8:37:51, 18.42s/it]"
          ]
        },
        {
          "name": "stdout",
          "output_type": "stream",
          "text": [
            "| Game:    312 | Score:   -1697.57 | Best score:   -1525.38 | Avg score   -1686.52 | Learning iter:     312745 |\n"
          ]
        },
        {
          "name": "stderr",
          "output_type": "stream",
          "text": [
            " 16%|█▌        | 314/2000 [1:08:41<9:01:46, 19.28s/it]"
          ]
        },
        {
          "name": "stdout",
          "output_type": "stream",
          "text": [
            "| Game:    313 | Score:   -1890.86 | Best score:   -1525.38 | Avg score   -1687.62 | Learning iter:     313745 |\n"
          ]
        },
        {
          "name": "stderr",
          "output_type": "stream",
          "text": [
            " 16%|█▌        | 315/2000 [1:09:02<9:18:10, 19.88s/it]"
          ]
        },
        {
          "name": "stdout",
          "output_type": "stream",
          "text": [
            "| Game:    314 | Score:   -1747.39 | Best score:   -1525.38 | Avg score   -1689.18 | Learning iter:     314745 |\n"
          ]
        },
        {
          "name": "stderr",
          "output_type": "stream",
          "text": [
            " 16%|█▌        | 316/2000 [1:09:24<9:30:01, 20.31s/it]"
          ]
        },
        {
          "name": "stdout",
          "output_type": "stream",
          "text": [
            "| Game:    315 | Score:   -1507.24 | Best score:   -1525.38 | Avg score   -1686.76 | Learning iter:     315745 |\n"
          ]
        },
        {
          "name": "stderr",
          "output_type": "stream",
          "text": [
            " 16%|█▌        | 317/2000 [1:09:45<9:38:06, 20.61s/it]"
          ]
        },
        {
          "name": "stdout",
          "output_type": "stream",
          "text": [
            "| Game:    316 | Score:   -1813.04 | Best score:   -1525.38 | Avg score   -1687.96 | Learning iter:     316745 |\n"
          ]
        },
        {
          "name": "stderr",
          "output_type": "stream",
          "text": [
            " 16%|█▌        | 318/2000 [1:10:06<9:44:02, 20.83s/it]"
          ]
        },
        {
          "name": "stdout",
          "output_type": "stream",
          "text": [
            "| Game:    317 | Score:   -1583.39 | Best score:   -1525.38 | Avg score   -1687.69 | Learning iter:     317745 |\n"
          ]
        },
        {
          "name": "stderr",
          "output_type": "stream",
          "text": [
            " 16%|█▌        | 319/2000 [1:10:28<9:46:46, 20.94s/it]"
          ]
        },
        {
          "name": "stdout",
          "output_type": "stream",
          "text": [
            "| Game:    318 | Score:   -1732.63 | Best score:   -1525.38 | Avg score   -1688.31 | Learning iter:     318745 |\n"
          ]
        },
        {
          "name": "stderr",
          "output_type": "stream",
          "text": [
            " 16%|█▌        | 320/2000 [1:10:49<9:50:56, 21.11s/it]"
          ]
        },
        {
          "name": "stdout",
          "output_type": "stream",
          "text": [
            "| Game:    319 | Score:   -1703.52 | Best score:   -1525.38 | Avg score   -1687.11 | Learning iter:     319745 |\n"
          ]
        },
        {
          "name": "stderr",
          "output_type": "stream",
          "text": [
            " 16%|█▌        | 321/2000 [1:11:10<9:51:28, 21.14s/it]"
          ]
        },
        {
          "name": "stdout",
          "output_type": "stream",
          "text": [
            "| Game:    320 | Score:   -1614.66 | Best score:   -1525.38 | Avg score   -1685.47 | Learning iter:     320745 |\n"
          ]
        },
        {
          "name": "stderr",
          "output_type": "stream",
          "text": [
            " 16%|█▌        | 322/2000 [1:11:32<9:52:54, 21.20s/it]"
          ]
        },
        {
          "name": "stdout",
          "output_type": "stream",
          "text": [
            "| Game:    321 | Score:   -1419.91 | Best score:   -1525.38 | Avg score   -1684.99 | Learning iter:     321745 |\n"
          ]
        },
        {
          "name": "stderr",
          "output_type": "stream",
          "text": [
            " 16%|█▌        | 323/2000 [1:11:53<9:53:03, 21.22s/it]"
          ]
        },
        {
          "name": "stdout",
          "output_type": "stream",
          "text": [
            "| Game:    322 | Score:   -1624.52 | Best score:   -1525.38 | Avg score   -1686.94 | Learning iter:     322745 |\n"
          ]
        },
        {
          "name": "stderr",
          "output_type": "stream",
          "text": [
            " 16%|█▌        | 324/2000 [1:12:14<9:53:01, 21.23s/it]"
          ]
        },
        {
          "name": "stdout",
          "output_type": "stream",
          "text": [
            "| Game:    323 | Score:   -1737.92 | Best score:   -1525.38 | Avg score   -1688.82 | Learning iter:     323745 |\n"
          ]
        },
        {
          "name": "stderr",
          "output_type": "stream",
          "text": [
            " 16%|█▋        | 325/2000 [1:12:36<9:53:59, 21.28s/it]"
          ]
        },
        {
          "name": "stdout",
          "output_type": "stream",
          "text": [
            "| Game:    324 | Score:   -1673.93 | Best score:   -1525.38 | Avg score   -1690.44 | Learning iter:     324745 |\n"
          ]
        },
        {
          "name": "stderr",
          "output_type": "stream",
          "text": [
            " 16%|█▋        | 326/2000 [1:12:57<9:53:53, 21.29s/it]"
          ]
        },
        {
          "name": "stdout",
          "output_type": "stream",
          "text": [
            "| Game:    325 | Score:   -1816.86 | Best score:   -1525.38 | Avg score   -1694.57 | Learning iter:     325745 |\n"
          ]
        },
        {
          "name": "stderr",
          "output_type": "stream",
          "text": [
            " 16%|█▋        | 327/2000 [1:13:18<9:54:14, 21.31s/it]"
          ]
        },
        {
          "name": "stdout",
          "output_type": "stream",
          "text": [
            "| Game:    326 | Score:   -1738.05 | Best score:   -1525.38 | Avg score   -1692.99 | Learning iter:     326745 |\n"
          ]
        },
        {
          "name": "stderr",
          "output_type": "stream",
          "text": [
            " 16%|█▋        | 328/2000 [1:13:40<9:53:44, 21.31s/it]"
          ]
        },
        {
          "name": "stdout",
          "output_type": "stream",
          "text": [
            "| Game:    327 | Score:   -1845.50 | Best score:   -1525.38 | Avg score   -1698.28 | Learning iter:     327745 |\n"
          ]
        },
        {
          "name": "stderr",
          "output_type": "stream",
          "text": [
            " 16%|█▋        | 329/2000 [1:14:01<9:54:21, 21.34s/it]"
          ]
        },
        {
          "name": "stdout",
          "output_type": "stream",
          "text": [
            "| Game:    328 | Score:   -1810.32 | Best score:   -1525.38 | Avg score   -1697.37 | Learning iter:     328745 |\n"
          ]
        },
        {
          "name": "stderr",
          "output_type": "stream",
          "text": [
            " 16%|█▋        | 330/2000 [1:14:22<9:53:32, 21.33s/it]"
          ]
        },
        {
          "name": "stdout",
          "output_type": "stream",
          "text": [
            "| Game:    329 | Score:   -1652.42 | Best score:   -1525.38 | Avg score   -1696.78 | Learning iter:     329745 |\n"
          ]
        },
        {
          "name": "stderr",
          "output_type": "stream",
          "text": [
            " 17%|█▋        | 331/2000 [1:14:44<9:53:52, 21.35s/it]"
          ]
        },
        {
          "name": "stdout",
          "output_type": "stream",
          "text": [
            "| Game:    330 | Score:   -1733.85 | Best score:   -1525.38 | Avg score   -1697.00 | Learning iter:     330745 |\n"
          ]
        },
        {
          "name": "stderr",
          "output_type": "stream",
          "text": [
            " 17%|█▋        | 332/2000 [1:15:05<9:53:40, 21.36s/it]"
          ]
        },
        {
          "name": "stdout",
          "output_type": "stream",
          "text": [
            "| Game:    331 | Score:   -1597.07 | Best score:   -1525.38 | Avg score   -1694.49 | Learning iter:     331745 |\n"
          ]
        },
        {
          "name": "stderr",
          "output_type": "stream",
          "text": [
            " 17%|█▋        | 333/2000 [1:15:26<9:53:56, 21.38s/it]"
          ]
        },
        {
          "name": "stdout",
          "output_type": "stream",
          "text": [
            "| Game:    332 | Score:   -1740.11 | Best score:   -1525.38 | Avg score   -1695.35 | Learning iter:     332745 |\n"
          ]
        },
        {
          "name": "stderr",
          "output_type": "stream",
          "text": [
            " 17%|█▋        | 334/2000 [1:15:48<9:53:59, 21.39s/it]"
          ]
        },
        {
          "name": "stdout",
          "output_type": "stream",
          "text": [
            "| Game:    333 | Score:   -1949.36 | Best score:   -1525.38 | Avg score   -1696.53 | Learning iter:     333745 |\n"
          ]
        },
        {
          "name": "stderr",
          "output_type": "stream",
          "text": [
            " 17%|█▋        | 335/2000 [1:16:09<9:52:28, 21.35s/it]"
          ]
        },
        {
          "name": "stdout",
          "output_type": "stream",
          "text": [
            "| Game:    334 | Score:   -1801.64 | Best score:   -1525.38 | Avg score   -1698.36 | Learning iter:     334745 |\n"
          ]
        },
        {
          "name": "stderr",
          "output_type": "stream",
          "text": [
            " 17%|█▋        | 336/2000 [1:16:31<9:52:43, 21.37s/it]"
          ]
        },
        {
          "name": "stdout",
          "output_type": "stream",
          "text": [
            "| Game:    335 | Score:   -1672.82 | Best score:   -1525.38 | Avg score   -1696.82 | Learning iter:     335745 |\n"
          ]
        },
        {
          "name": "stderr",
          "output_type": "stream",
          "text": [
            " 17%|█▋        | 337/2000 [1:16:52<9:51:55, 21.36s/it]"
          ]
        },
        {
          "name": "stdout",
          "output_type": "stream",
          "text": [
            "| Game:    336 | Score:   -1694.21 | Best score:   -1525.38 | Avg score   -1695.64 | Learning iter:     336745 |\n"
          ]
        },
        {
          "name": "stderr",
          "output_type": "stream",
          "text": [
            " 17%|█▋        | 338/2000 [1:17:13<9:52:04, 21.37s/it]"
          ]
        },
        {
          "name": "stdout",
          "output_type": "stream",
          "text": [
            "| Game:    337 | Score:   -1742.73 | Best score:   -1525.38 | Avg score   -1694.74 | Learning iter:     337745 |\n"
          ]
        },
        {
          "name": "stderr",
          "output_type": "stream",
          "text": [
            " 17%|█▋        | 339/2000 [1:17:35<9:50:22, 21.33s/it]"
          ]
        },
        {
          "name": "stdout",
          "output_type": "stream",
          "text": [
            "| Game:    338 | Score:   -1223.87 | Best score:   -1525.38 | Avg score   -1689.87 | Learning iter:     338745 |\n"
          ]
        },
        {
          "name": "stderr",
          "output_type": "stream",
          "text": [
            " 17%|█▋        | 340/2000 [1:17:56<9:51:35, 21.38s/it]"
          ]
        },
        {
          "name": "stdout",
          "output_type": "stream",
          "text": [
            "| Game:    339 | Score:   -1726.90 | Best score:   -1525.38 | Avg score   -1691.63 | Learning iter:     339745 |\n"
          ]
        },
        {
          "name": "stderr",
          "output_type": "stream",
          "text": [
            " 17%|█▋        | 341/2000 [1:18:17<9:49:45, 21.33s/it]"
          ]
        },
        {
          "name": "stdout",
          "output_type": "stream",
          "text": [
            "| Game:    340 | Score:   -1747.14 | Best score:   -1525.38 | Avg score   -1691.25 | Learning iter:     340745 |\n"
          ]
        },
        {
          "name": "stderr",
          "output_type": "stream",
          "text": [
            " 17%|█▋        | 342/2000 [1:18:39<9:50:14, 21.36s/it]"
          ]
        },
        {
          "name": "stdout",
          "output_type": "stream",
          "text": [
            "| Game:    341 | Score:   -1596.49 | Best score:   -1525.38 | Avg score   -1689.54 | Learning iter:     341745 |\n"
          ]
        },
        {
          "name": "stderr",
          "output_type": "stream",
          "text": [
            " 17%|█▋        | 343/2000 [1:19:00<9:49:28, 21.34s/it]"
          ]
        },
        {
          "name": "stdout",
          "output_type": "stream",
          "text": [
            "| Game:    342 | Score:   -1715.78 | Best score:   -1525.38 | Avg score   -1690.92 | Learning iter:     342745 |\n"
          ]
        },
        {
          "name": "stderr",
          "output_type": "stream",
          "text": [
            " 17%|█▋        | 344/2000 [1:19:22<9:50:44, 21.40s/it]"
          ]
        },
        {
          "name": "stdout",
          "output_type": "stream",
          "text": [
            "| Game:    343 | Score:   -1669.02 | Best score:   -1525.38 | Avg score   -1689.97 | Learning iter:     343745 |\n"
          ]
        },
        {
          "name": "stderr",
          "output_type": "stream",
          "text": [
            " 17%|█▋        | 345/2000 [1:19:43<9:50:30, 21.41s/it]"
          ]
        },
        {
          "name": "stdout",
          "output_type": "stream",
          "text": [
            "| Game:    344 | Score:   -1591.07 | Best score:   -1525.38 | Avg score   -1691.89 | Learning iter:     344745 |\n"
          ]
        },
        {
          "name": "stderr",
          "output_type": "stream",
          "text": [
            " 17%|█▋        | 346/2000 [1:20:04<9:50:25, 21.42s/it]"
          ]
        },
        {
          "name": "stdout",
          "output_type": "stream",
          "text": [
            "| Game:    345 | Score:   -1503.49 | Best score:   -1525.38 | Avg score   -1689.65 | Learning iter:     345745 |\n"
          ]
        },
        {
          "name": "stderr",
          "output_type": "stream",
          "text": [
            " 17%|█▋        | 347/2000 [1:20:26<9:50:05, 21.42s/it]"
          ]
        },
        {
          "name": "stdout",
          "output_type": "stream",
          "text": [
            "| Game:    346 | Score:   -1835.94 | Best score:   -1525.38 | Avg score   -1691.36 | Learning iter:     346745 |\n"
          ]
        },
        {
          "name": "stderr",
          "output_type": "stream",
          "text": [
            " 17%|█▋        | 348/2000 [1:20:47<9:49:39, 21.42s/it]"
          ]
        },
        {
          "name": "stdout",
          "output_type": "stream",
          "text": [
            "| Game:    347 | Score:   -1712.91 | Best score:   -1525.38 | Avg score   -1692.88 | Learning iter:     347745 |\n"
          ]
        },
        {
          "name": "stderr",
          "output_type": "stream",
          "text": [
            " 17%|█▋        | 349/2000 [1:21:09<9:50:36, 21.46s/it]"
          ]
        },
        {
          "name": "stdout",
          "output_type": "stream",
          "text": [
            "| Game:    348 | Score:   -1449.77 | Best score:   -1525.38 | Avg score   -1690.75 | Learning iter:     348745 |\n"
          ]
        },
        {
          "name": "stderr",
          "output_type": "stream",
          "text": [
            " 18%|█▊        | 350/2000 [1:21:30<9:50:11, 21.46s/it]"
          ]
        },
        {
          "name": "stdout",
          "output_type": "stream",
          "text": [
            "| Game:    349 | Score:   -1817.46 | Best score:   -1525.38 | Avg score   -1691.21 | Learning iter:     349745 |\n"
          ]
        },
        {
          "name": "stderr",
          "output_type": "stream",
          "text": [
            " 18%|█▊        | 351/2000 [1:21:52<9:50:27, 21.48s/it]"
          ]
        },
        {
          "name": "stdout",
          "output_type": "stream",
          "text": [
            "| Game:    350 | Score:   -1827.13 | Best score:   -1525.38 | Avg score   -1694.24 | Learning iter:     350745 |\n"
          ]
        },
        {
          "name": "stderr",
          "output_type": "stream",
          "text": [
            " 18%|█▊        | 352/2000 [1:22:13<9:49:51, 21.48s/it]"
          ]
        },
        {
          "name": "stdout",
          "output_type": "stream",
          "text": [
            "| Game:    351 | Score:   -1815.50 | Best score:   -1525.38 | Avg score   -1696.46 | Learning iter:     351745 |\n"
          ]
        },
        {
          "name": "stderr",
          "output_type": "stream",
          "text": [
            " 18%|█▊        | 353/2000 [1:22:35<9:50:14, 21.50s/it]"
          ]
        },
        {
          "name": "stdout",
          "output_type": "stream",
          "text": [
            "| Game:    352 | Score:   -1687.45 | Best score:   -1525.38 | Avg score   -1698.09 | Learning iter:     352745 |\n"
          ]
        },
        {
          "name": "stderr",
          "output_type": "stream",
          "text": [
            " 18%|█▊        | 354/2000 [1:22:58<10:00:12, 21.88s/it]"
          ]
        },
        {
          "name": "stdout",
          "output_type": "stream",
          "text": [
            "| Game:    353 | Score:   -1814.64 | Best score:   -1525.38 | Avg score   -1699.53 | Learning iter:     353745 |\n"
          ]
        },
        {
          "name": "stderr",
          "output_type": "stream",
          "text": [
            " 18%|█▊        | 355/2000 [1:23:20<10:07:25, 22.16s/it]"
          ]
        },
        {
          "name": "stdout",
          "output_type": "stream",
          "text": [
            "| Game:    354 | Score:   -1765.12 | Best score:   -1525.38 | Avg score   -1701.20 | Learning iter:     354745 |\n"
          ]
        },
        {
          "name": "stderr",
          "output_type": "stream",
          "text": [
            " 18%|█▊        | 356/2000 [1:23:43<10:12:43, 22.36s/it]"
          ]
        },
        {
          "name": "stdout",
          "output_type": "stream",
          "text": [
            "| Game:    355 | Score:   -1583.52 | Best score:   -1525.38 | Avg score   -1700.57 | Learning iter:     355745 |\n"
          ]
        },
        {
          "name": "stderr",
          "output_type": "stream",
          "text": [
            " 18%|█▊        | 357/2000 [1:24:05<10:09:30, 22.26s/it]"
          ]
        },
        {
          "name": "stdout",
          "output_type": "stream",
          "text": [
            "| Game:    356 | Score:   -1731.24 | Best score:   -1525.38 | Avg score   -1699.63 | Learning iter:     356745 |\n"
          ]
        },
        {
          "name": "stderr",
          "output_type": "stream",
          "text": [
            " 18%|█▊        | 358/2000 [1:24:27<10:05:28, 22.12s/it]"
          ]
        },
        {
          "name": "stdout",
          "output_type": "stream",
          "text": [
            "| Game:    357 | Score:   -1390.29 | Best score:   -1525.38 | Avg score   -1697.53 | Learning iter:     357745 |\n"
          ]
        },
        {
          "name": "stderr",
          "output_type": "stream",
          "text": [
            " 18%|█▊        | 359/2000 [1:24:49<10:03:41, 22.07s/it]"
          ]
        },
        {
          "name": "stdout",
          "output_type": "stream",
          "text": [
            "| Game:    358 | Score:   -1711.56 | Best score:   -1525.38 | Avg score   -1696.76 | Learning iter:     358745 |\n"
          ]
        },
        {
          "name": "stderr",
          "output_type": "stream",
          "text": [
            " 18%|█▊        | 360/2000 [1:25:12<10:10:51, 22.35s/it]"
          ]
        },
        {
          "name": "stdout",
          "output_type": "stream",
          "text": [
            "| Game:    359 | Score:   -1758.53 | Best score:   -1525.38 | Avg score   -1697.55 | Learning iter:     359745 |\n"
          ]
        },
        {
          "name": "stderr",
          "output_type": "stream",
          "text": [
            " 18%|█▊        | 361/2000 [1:25:34<10:11:32, 22.39s/it]"
          ]
        },
        {
          "name": "stdout",
          "output_type": "stream",
          "text": [
            "| Game:    360 | Score:   -1686.98 | Best score:   -1525.38 | Avg score   -1695.99 | Learning iter:     360745 |\n"
          ]
        },
        {
          "name": "stderr",
          "output_type": "stream",
          "text": [
            " 18%|█▊        | 362/2000 [1:25:57<10:09:46, 22.34s/it]"
          ]
        },
        {
          "name": "stdout",
          "output_type": "stream",
          "text": [
            "| Game:    361 | Score:   -1553.82 | Best score:   -1525.38 | Avg score   -1695.69 | Learning iter:     361745 |\n"
          ]
        },
        {
          "name": "stderr",
          "output_type": "stream",
          "text": [
            " 18%|█▊        | 363/2000 [1:26:19<10:08:31, 22.30s/it]"
          ]
        },
        {
          "name": "stdout",
          "output_type": "stream",
          "text": [
            "| Game:    362 | Score:   -1499.66 | Best score:   -1525.38 | Avg score   -1692.99 | Learning iter:     362745 |\n"
          ]
        },
        {
          "name": "stderr",
          "output_type": "stream",
          "text": [
            " 18%|█▊        | 364/2000 [1:26:41<10:06:25, 22.24s/it]"
          ]
        },
        {
          "name": "stdout",
          "output_type": "stream",
          "text": [
            "| Game:    363 | Score:   -1693.92 | Best score:   -1525.38 | Avg score   -1691.29 | Learning iter:     363745 |\n"
          ]
        },
        {
          "name": "stderr",
          "output_type": "stream",
          "text": [
            " 18%|█▊        | 365/2000 [1:27:03<10:07:17, 22.29s/it]"
          ]
        },
        {
          "name": "stdout",
          "output_type": "stream",
          "text": [
            "| Game:    364 | Score:   -1568.41 | Best score:   -1525.38 | Avg score   -1689.85 | Learning iter:     364745 |\n"
          ]
        },
        {
          "name": "stderr",
          "output_type": "stream",
          "text": [
            " 18%|█▊        | 366/2000 [1:27:26<10:06:35, 22.27s/it]"
          ]
        },
        {
          "name": "stdout",
          "output_type": "stream",
          "text": [
            "| Game:    365 | Score:   -1797.02 | Best score:   -1525.38 | Avg score   -1693.95 | Learning iter:     365745 |\n"
          ]
        },
        {
          "name": "stderr",
          "output_type": "stream",
          "text": [
            " 18%|█▊        | 367/2000 [1:27:48<10:08:04, 22.34s/it]"
          ]
        },
        {
          "name": "stdout",
          "output_type": "stream",
          "text": [
            "| Game:    366 | Score:   -1609.14 | Best score:   -1525.38 | Avg score   -1695.06 | Learning iter:     366745 |\n"
          ]
        },
        {
          "name": "stderr",
          "output_type": "stream",
          "text": [
            " 18%|█▊        | 368/2000 [1:28:10<10:04:06, 22.21s/it]"
          ]
        },
        {
          "name": "stdout",
          "output_type": "stream",
          "text": [
            "| Game:    367 | Score:   -1519.06 | Best score:   -1525.38 | Avg score   -1692.96 | Learning iter:     367745 |\n"
          ]
        },
        {
          "name": "stderr",
          "output_type": "stream",
          "text": [
            " 18%|█▊        | 369/2000 [1:28:34<10:14:49, 22.62s/it]"
          ]
        },
        {
          "name": "stdout",
          "output_type": "stream",
          "text": [
            "| Game:    368 | Score:   -1660.66 | Best score:   -1525.38 | Avg score   -1693.42 | Learning iter:     368745 |\n"
          ]
        },
        {
          "name": "stderr",
          "output_type": "stream",
          "text": [
            " 18%|█▊        | 370/2000 [1:28:57<10:18:56, 22.78s/it]"
          ]
        },
        {
          "name": "stdout",
          "output_type": "stream",
          "text": [
            "| Game:    369 | Score:   -1809.11 | Best score:   -1525.38 | Avg score   -1693.21 | Learning iter:     369745 |\n"
          ]
        },
        {
          "name": "stderr",
          "output_type": "stream",
          "text": [
            " 19%|█▊        | 371/2000 [1:29:18<10:07:25, 22.37s/it]"
          ]
        },
        {
          "name": "stdout",
          "output_type": "stream",
          "text": [
            "| Game:    370 | Score:   -1674.66 | Best score:   -1525.38 | Avg score   -1691.62 | Learning iter:     370745 |\n"
          ]
        },
        {
          "name": "stderr",
          "output_type": "stream",
          "text": [
            " 19%|█▊        | 372/2000 [1:29:40<10:02:32, 22.21s/it]"
          ]
        },
        {
          "name": "stdout",
          "output_type": "stream",
          "text": [
            "| Game:    371 | Score:   -1671.11 | Best score:   -1525.38 | Avg score   -1692.27 | Learning iter:     371745 |\n"
          ]
        },
        {
          "name": "stderr",
          "output_type": "stream",
          "text": [
            " 19%|█▊        | 373/2000 [1:30:02<9:57:43, 22.04s/it] "
          ]
        },
        {
          "name": "stdout",
          "output_type": "stream",
          "text": [
            "| Game:    372 | Score:   -1723.46 | Best score:   -1525.38 | Avg score   -1693.66 | Learning iter:     372745 |\n"
          ]
        },
        {
          "name": "stderr",
          "output_type": "stream",
          "text": [
            " 19%|█▊        | 374/2000 [1:30:24<9:56:14, 22.00s/it]"
          ]
        },
        {
          "name": "stdout",
          "output_type": "stream",
          "text": [
            "| Game:    373 | Score:   -1791.20 | Best score:   -1525.38 | Avg score   -1694.89 | Learning iter:     373745 |\n"
          ]
        },
        {
          "name": "stderr",
          "output_type": "stream",
          "text": [
            " 19%|█▉        | 375/2000 [1:30:45<9:52:40, 21.88s/it]"
          ]
        },
        {
          "name": "stdout",
          "output_type": "stream",
          "text": [
            "| Game:    374 | Score:   -1907.63 | Best score:   -1525.38 | Avg score   -1696.49 | Learning iter:     374745 |\n"
          ]
        },
        {
          "name": "stderr",
          "output_type": "stream",
          "text": [
            " 19%|█▉        | 376/2000 [1:31:07<9:53:02, 21.91s/it]"
          ]
        },
        {
          "name": "stdout",
          "output_type": "stream",
          "text": [
            "| Game:    375 | Score:   -1553.10 | Best score:   -1525.38 | Avg score   -1694.39 | Learning iter:     375745 |\n"
          ]
        },
        {
          "name": "stderr",
          "output_type": "stream",
          "text": [
            " 19%|█▉        | 377/2000 [1:31:25<9:21:16, 20.75s/it]"
          ]
        },
        {
          "name": "stdout",
          "output_type": "stream",
          "text": [
            "| Game:    376 | Score:   -1616.27 | Best score:   -1525.38 | Avg score   -1693.72 | Learning iter:     376745 |\n"
          ]
        },
        {
          "name": "stderr",
          "output_type": "stream",
          "text": [
            " 19%|█▉        | 378/2000 [1:31:43<8:54:55, 19.79s/it]"
          ]
        },
        {
          "name": "stdout",
          "output_type": "stream",
          "text": [
            "| Game:    377 | Score:   -1785.85 | Best score:   -1525.38 | Avg score   -1694.07 | Learning iter:     377745 |\n"
          ]
        },
        {
          "name": "stderr",
          "output_type": "stream",
          "text": [
            " 19%|█▉        | 379/2000 [1:32:00<8:37:32, 19.16s/it]"
          ]
        },
        {
          "name": "stdout",
          "output_type": "stream",
          "text": [
            "| Game:    378 | Score:   -1710.86 | Best score:   -1525.38 | Avg score   -1693.85 | Learning iter:     378745 |\n"
          ]
        },
        {
          "name": "stderr",
          "output_type": "stream",
          "text": [
            " 19%|█▉        | 380/2000 [1:32:18<8:27:39, 18.80s/it]"
          ]
        },
        {
          "name": "stdout",
          "output_type": "stream",
          "text": [
            "| Game:    379 | Score:   -1763.51 | Best score:   -1525.38 | Avg score   -1693.46 | Learning iter:     379745 |\n"
          ]
        },
        {
          "name": "stderr",
          "output_type": "stream",
          "text": [
            " 19%|█▉        | 381/2000 [1:32:36<8:20:03, 18.53s/it]"
          ]
        },
        {
          "name": "stdout",
          "output_type": "stream",
          "text": [
            "| Game:    380 | Score:   -1635.07 | Best score:   -1525.38 | Avg score   -1690.62 | Learning iter:     380745 |\n"
          ]
        },
        {
          "name": "stderr",
          "output_type": "stream",
          "text": [
            " 19%|█▉        | 382/2000 [1:32:54<8:12:18, 18.26s/it]"
          ]
        },
        {
          "name": "stdout",
          "output_type": "stream",
          "text": [
            "| Game:    381 | Score:   -1677.08 | Best score:   -1525.38 | Avg score   -1690.93 | Learning iter:     381745 |\n"
          ]
        },
        {
          "name": "stderr",
          "output_type": "stream",
          "text": [
            " 19%|█▉        | 383/2000 [1:33:12<8:07:24, 18.09s/it]"
          ]
        },
        {
          "name": "stdout",
          "output_type": "stream",
          "text": [
            "| Game:    382 | Score:   -1733.58 | Best score:   -1525.38 | Avg score   -1689.94 | Learning iter:     382745 |\n"
          ]
        },
        {
          "name": "stderr",
          "output_type": "stream",
          "text": [
            " 19%|█▉        | 384/2000 [1:33:29<8:04:06, 17.97s/it]"
          ]
        },
        {
          "name": "stdout",
          "output_type": "stream",
          "text": [
            "| Game:    383 | Score:   -1713.24 | Best score:   -1525.38 | Avg score   -1689.83 | Learning iter:     383745 |\n"
          ]
        },
        {
          "name": "stderr",
          "output_type": "stream",
          "text": [
            " 19%|█▉        | 385/2000 [1:33:47<8:03:44, 17.97s/it]"
          ]
        },
        {
          "name": "stdout",
          "output_type": "stream",
          "text": [
            "| Game:    384 | Score:   -1587.00 | Best score:   -1525.38 | Avg score   -1688.79 | Learning iter:     384745 |\n"
          ]
        },
        {
          "name": "stderr",
          "output_type": "stream",
          "text": [
            " 19%|█▉        | 386/2000 [1:34:05<8:01:09, 17.89s/it]"
          ]
        },
        {
          "name": "stdout",
          "output_type": "stream",
          "text": [
            "| Game:    385 | Score:   -1711.45 | Best score:   -1525.38 | Avg score   -1686.29 | Learning iter:     385745 |\n"
          ]
        },
        {
          "name": "stderr",
          "output_type": "stream",
          "text": [
            " 19%|█▉        | 387/2000 [1:34:23<7:59:09, 17.82s/it]"
          ]
        },
        {
          "name": "stdout",
          "output_type": "stream",
          "text": [
            "| Game:    386 | Score:   -1639.39 | Best score:   -1525.38 | Avg score   -1687.77 | Learning iter:     386745 |\n"
          ]
        },
        {
          "name": "stderr",
          "output_type": "stream",
          "text": [
            " 19%|█▉        | 388/2000 [1:34:40<7:57:21, 17.77s/it]"
          ]
        },
        {
          "name": "stdout",
          "output_type": "stream",
          "text": [
            "| Game:    387 | Score:   -1580.46 | Best score:   -1525.38 | Avg score   -1685.75 | Learning iter:     387745 |\n"
          ]
        },
        {
          "name": "stderr",
          "output_type": "stream",
          "text": [
            " 19%|█▉        | 389/2000 [1:34:58<7:58:36, 17.83s/it]"
          ]
        },
        {
          "name": "stdout",
          "output_type": "stream",
          "text": [
            "| Game:    388 | Score:   -1860.44 | Best score:   -1525.38 | Avg score   -1687.06 | Learning iter:     388745 |\n"
          ]
        },
        {
          "name": "stderr",
          "output_type": "stream",
          "text": [
            " 20%|█▉        | 390/2000 [1:35:16<7:56:12, 17.75s/it]"
          ]
        },
        {
          "name": "stdout",
          "output_type": "stream",
          "text": [
            "| Game:    389 | Score:   -1649.38 | Best score:   -1525.38 | Avg score   -1684.87 | Learning iter:     389745 |\n"
          ]
        },
        {
          "name": "stderr",
          "output_type": "stream",
          "text": [
            " 20%|█▉        | 391/2000 [1:35:34<7:56:13, 17.76s/it]"
          ]
        },
        {
          "name": "stdout",
          "output_type": "stream",
          "text": [
            "| Game:    390 | Score:   -1633.86 | Best score:   -1525.38 | Avg score   -1684.49 | Learning iter:     390745 |\n"
          ]
        },
        {
          "name": "stderr",
          "output_type": "stream",
          "text": [
            " 20%|█▉        | 392/2000 [1:35:51<7:54:58, 17.72s/it]"
          ]
        },
        {
          "name": "stdout",
          "output_type": "stream",
          "text": [
            "| Game:    391 | Score:   -1795.50 | Best score:   -1525.38 | Avg score   -1684.56 | Learning iter:     391745 |\n"
          ]
        },
        {
          "name": "stderr",
          "output_type": "stream",
          "text": [
            " 20%|█▉        | 393/2000 [1:36:09<7:57:39, 17.83s/it]"
          ]
        },
        {
          "name": "stdout",
          "output_type": "stream",
          "text": [
            "| Game:    392 | Score:   -1562.47 | Best score:   -1525.38 | Avg score   -1682.71 | Learning iter:     392745 |\n"
          ]
        },
        {
          "name": "stderr",
          "output_type": "stream",
          "text": [
            " 20%|█▉        | 394/2000 [1:36:27<7:57:01, 17.82s/it]"
          ]
        },
        {
          "name": "stdout",
          "output_type": "stream",
          "text": [
            "| Game:    393 | Score:   -1761.40 | Best score:   -1525.38 | Avg score   -1680.78 | Learning iter:     393745 |\n"
          ]
        },
        {
          "name": "stderr",
          "output_type": "stream",
          "text": [
            " 20%|█▉        | 395/2000 [1:36:45<7:55:26, 17.77s/it]"
          ]
        },
        {
          "name": "stdout",
          "output_type": "stream",
          "text": [
            "| Game:    394 | Score:   -1834.33 | Best score:   -1525.38 | Avg score   -1681.54 | Learning iter:     394745 |\n"
          ]
        },
        {
          "name": "stderr",
          "output_type": "stream",
          "text": [
            " 20%|█▉        | 396/2000 [1:37:03<7:55:30, 17.79s/it]"
          ]
        },
        {
          "name": "stdout",
          "output_type": "stream",
          "text": [
            "| Game:    395 | Score:   -1278.25 | Best score:   -1525.38 | Avg score   -1678.78 | Learning iter:     395745 |\n"
          ]
        },
        {
          "name": "stderr",
          "output_type": "stream",
          "text": [
            " 20%|█▉        | 397/2000 [1:37:20<7:54:58, 17.78s/it]"
          ]
        },
        {
          "name": "stdout",
          "output_type": "stream",
          "text": [
            "| Game:    396 | Score:   -1475.10 | Best score:   -1525.38 | Avg score   -1676.91 | Learning iter:     396745 |\n"
          ]
        },
        {
          "name": "stderr",
          "output_type": "stream",
          "text": [
            " 20%|█▉        | 398/2000 [1:37:38<7:55:34, 17.81s/it]"
          ]
        },
        {
          "name": "stdout",
          "output_type": "stream",
          "text": [
            "| Game:    397 | Score:   -1581.60 | Best score:   -1525.38 | Avg score   -1675.25 | Learning iter:     397745 |\n"
          ]
        },
        {
          "name": "stderr",
          "output_type": "stream",
          "text": [
            " 20%|█▉        | 399/2000 [1:37:56<7:55:18, 17.81s/it]"
          ]
        },
        {
          "name": "stdout",
          "output_type": "stream",
          "text": [
            "| Game:    398 | Score:   -1609.51 | Best score:   -1525.38 | Avg score   -1674.62 | Learning iter:     398745 |\n"
          ]
        },
        {
          "name": "stderr",
          "output_type": "stream",
          "text": [
            " 20%|██        | 400/2000 [1:38:14<7:54:20, 17.79s/it]"
          ]
        },
        {
          "name": "stdout",
          "output_type": "stream",
          "text": [
            "| Game:    399 | Score:   -1630.94 | Best score:   -1525.38 | Avg score   -1674.62 | Learning iter:     399745 |\n"
          ]
        },
        {
          "name": "stderr",
          "output_type": "stream",
          "text": [
            " 20%|██        | 401/2000 [1:38:32<7:54:17, 17.80s/it]"
          ]
        },
        {
          "name": "stdout",
          "output_type": "stream",
          "text": [
            "| Game:    400 | Score:   -1333.44 | Best score:   -1525.38 | Avg score   -1669.61 | Learning iter:     400745 |\n"
          ]
        },
        {
          "name": "stderr",
          "output_type": "stream",
          "text": [
            " 20%|██        | 402/2000 [1:38:50<7:56:11, 17.88s/it]"
          ]
        },
        {
          "name": "stdout",
          "output_type": "stream",
          "text": [
            "| Game:    401 | Score:   -1684.10 | Best score:   -1525.38 | Avg score   -1671.52 | Learning iter:     401745 |\n"
          ]
        },
        {
          "name": "stderr",
          "output_type": "stream",
          "text": [
            " 20%|██        | 403/2000 [1:39:07<7:54:16, 17.82s/it]"
          ]
        },
        {
          "name": "stdout",
          "output_type": "stream",
          "text": [
            "| Game:    402 | Score:   -1739.12 | Best score:   -1525.38 | Avg score   -1671.32 | Learning iter:     402745 |\n"
          ]
        },
        {
          "name": "stderr",
          "output_type": "stream",
          "text": [
            " 20%|██        | 404/2000 [1:39:25<7:53:31, 17.80s/it]"
          ]
        },
        {
          "name": "stdout",
          "output_type": "stream",
          "text": [
            "| Game:    403 | Score:   -1737.21 | Best score:   -1525.38 | Avg score   -1671.93 | Learning iter:     403745 |\n"
          ]
        },
        {
          "name": "stderr",
          "output_type": "stream",
          "text": [
            " 20%|██        | 405/2000 [1:39:43<7:52:55, 17.79s/it]"
          ]
        },
        {
          "name": "stdout",
          "output_type": "stream",
          "text": [
            "| Game:    404 | Score:   -1631.26 | Best score:   -1525.38 | Avg score   -1671.96 | Learning iter:     404745 |\n"
          ]
        },
        {
          "name": "stderr",
          "output_type": "stream",
          "text": [
            " 20%|██        | 406/2000 [1:40:01<7:55:45, 17.91s/it]"
          ]
        },
        {
          "name": "stdout",
          "output_type": "stream",
          "text": [
            "| Game:    405 | Score:   -1583.62 | Best score:   -1525.38 | Avg score   -1672.49 | Learning iter:     405745 |\n"
          ]
        },
        {
          "name": "stderr",
          "output_type": "stream",
          "text": [
            " 20%|██        | 407/2000 [1:40:19<7:54:39, 17.88s/it]"
          ]
        },
        {
          "name": "stdout",
          "output_type": "stream",
          "text": [
            "| Game:    406 | Score:   -1580.43 | Best score:   -1525.38 | Avg score   -1673.04 | Learning iter:     406745 |\n"
          ]
        },
        {
          "name": "stderr",
          "output_type": "stream",
          "text": [
            " 20%|██        | 408/2000 [1:40:37<7:53:12, 17.83s/it]"
          ]
        },
        {
          "name": "stdout",
          "output_type": "stream",
          "text": [
            "| Game:    407 | Score:   -1654.72 | Best score:   -1525.38 | Avg score   -1674.68 | Learning iter:     407745 |\n"
          ]
        },
        {
          "name": "stderr",
          "output_type": "stream",
          "text": [
            " 20%|██        | 409/2000 [1:40:54<7:51:53, 17.80s/it]"
          ]
        },
        {
          "name": "stdout",
          "output_type": "stream",
          "text": [
            "| Game:    408 | Score:   -1806.72 | Best score:   -1525.38 | Avg score   -1675.68 | Learning iter:     408745 |\n"
          ]
        },
        {
          "name": "stderr",
          "output_type": "stream",
          "text": [
            " 20%|██        | 410/2000 [1:41:12<7:54:36, 17.91s/it]"
          ]
        },
        {
          "name": "stdout",
          "output_type": "stream",
          "text": [
            "| Game:    409 | Score:   -1488.88 | Best score:   -1525.38 | Avg score   -1673.14 | Learning iter:     409745 |\n"
          ]
        },
        {
          "name": "stderr",
          "output_type": "stream",
          "text": [
            " 21%|██        | 411/2000 [1:41:30<7:53:14, 17.87s/it]"
          ]
        },
        {
          "name": "stdout",
          "output_type": "stream",
          "text": [
            "| Game:    410 | Score:   -1777.88 | Best score:   -1525.38 | Avg score   -1673.99 | Learning iter:     410745 |\n"
          ]
        },
        {
          "name": "stderr",
          "output_type": "stream",
          "text": [
            " 21%|██        | 412/2000 [1:41:48<7:52:30, 17.85s/it]"
          ]
        },
        {
          "name": "stdout",
          "output_type": "stream",
          "text": [
            "| Game:    411 | Score:   -1656.37 | Best score:   -1525.38 | Avg score   -1674.36 | Learning iter:     411745 |\n"
          ]
        },
        {
          "name": "stderr",
          "output_type": "stream",
          "text": [
            " 21%|██        | 413/2000 [1:42:06<7:52:49, 17.88s/it]"
          ]
        },
        {
          "name": "stdout",
          "output_type": "stream",
          "text": [
            "| Game:    412 | Score:   -1687.71 | Best score:   -1525.38 | Avg score   -1674.26 | Learning iter:     412745 |\n"
          ]
        },
        {
          "name": "stderr",
          "output_type": "stream",
          "text": [
            " 21%|██        | 414/2000 [1:42:24<7:56:15, 18.02s/it]"
          ]
        },
        {
          "name": "stdout",
          "output_type": "stream",
          "text": [
            "| Game:    413 | Score:   -1599.34 | Best score:   -1525.38 | Avg score   -1671.34 | Learning iter:     413745 |\n"
          ]
        },
        {
          "name": "stderr",
          "output_type": "stream",
          "text": [
            " 21%|██        | 415/2000 [1:42:42<7:53:55, 17.94s/it]"
          ]
        },
        {
          "name": "stdout",
          "output_type": "stream",
          "text": [
            "| Game:    414 | Score:   -1733.27 | Best score:   -1525.38 | Avg score   -1671.20 | Learning iter:     414745 |\n"
          ]
        },
        {
          "name": "stderr",
          "output_type": "stream",
          "text": [
            " 21%|██        | 416/2000 [1:43:00<7:53:51, 17.95s/it]"
          ]
        },
        {
          "name": "stdout",
          "output_type": "stream",
          "text": [
            "| Game:    415 | Score:   -1715.96 | Best score:   -1525.38 | Avg score   -1673.29 | Learning iter:     415745 |\n"
          ]
        },
        {
          "name": "stderr",
          "output_type": "stream",
          "text": [
            " 21%|██        | 417/2000 [1:43:18<7:53:28, 17.95s/it]"
          ]
        },
        {
          "name": "stdout",
          "output_type": "stream",
          "text": [
            "| Game:    416 | Score:   -1611.53 | Best score:   -1525.38 | Avg score   -1671.27 | Learning iter:     416745 |\n"
          ]
        },
        {
          "name": "stderr",
          "output_type": "stream",
          "text": [
            " 21%|██        | 418/2000 [1:43:36<7:56:29, 18.07s/it]"
          ]
        },
        {
          "name": "stdout",
          "output_type": "stream",
          "text": [
            "| Game:    417 | Score:   -1647.15 | Best score:   -1525.38 | Avg score   -1671.91 | Learning iter:     417745 |\n"
          ]
        },
        {
          "name": "stderr",
          "output_type": "stream",
          "text": [
            " 21%|██        | 419/2000 [1:43:54<7:55:00, 18.03s/it]"
          ]
        },
        {
          "name": "stdout",
          "output_type": "stream",
          "text": [
            "| Game:    418 | Score:   -1621.02 | Best score:   -1525.38 | Avg score   -1670.79 | Learning iter:     418745 |\n"
          ]
        },
        {
          "name": "stderr",
          "output_type": "stream",
          "text": [
            " 21%|██        | 420/2000 [1:44:12<7:54:08, 18.01s/it]"
          ]
        },
        {
          "name": "stdout",
          "output_type": "stream",
          "text": [
            "| Game:    419 | Score:   -1741.87 | Best score:   -1525.38 | Avg score   -1671.18 | Learning iter:     419745 |\n"
          ]
        },
        {
          "name": "stderr",
          "output_type": "stream",
          "text": [
            " 21%|██        | 421/2000 [1:44:30<7:53:08, 17.98s/it]"
          ]
        },
        {
          "name": "stdout",
          "output_type": "stream",
          "text": [
            "| Game:    420 | Score:   -1309.34 | Best score:   -1525.38 | Avg score   -1668.12 | Learning iter:     420745 |\n"
          ]
        },
        {
          "name": "stderr",
          "output_type": "stream",
          "text": [
            " 21%|██        | 422/2000 [1:44:48<7:54:56, 18.06s/it]"
          ]
        },
        {
          "name": "stdout",
          "output_type": "stream",
          "text": [
            "| Game:    421 | Score:   -1657.07 | Best score:   -1525.38 | Avg score   -1670.50 | Learning iter:     421745 |\n"
          ]
        },
        {
          "name": "stderr",
          "output_type": "stream",
          "text": [
            " 21%|██        | 423/2000 [1:45:06<7:54:31, 18.05s/it]"
          ]
        },
        {
          "name": "stdout",
          "output_type": "stream",
          "text": [
            "| Game:    422 | Score:   -1768.21 | Best score:   -1525.38 | Avg score   -1671.93 | Learning iter:     422745 |\n"
          ]
        },
        {
          "name": "stderr",
          "output_type": "stream",
          "text": [
            " 21%|██        | 424/2000 [1:45:24<7:53:13, 18.02s/it]"
          ]
        },
        {
          "name": "stdout",
          "output_type": "stream",
          "text": [
            "| Game:    423 | Score:   -1677.75 | Best score:   -1525.38 | Avg score   -1671.33 | Learning iter:     423745 |\n"
          ]
        },
        {
          "name": "stderr",
          "output_type": "stream",
          "text": [
            " 21%|██▏       | 425/2000 [1:45:42<7:52:33, 18.00s/it]"
          ]
        },
        {
          "name": "stdout",
          "output_type": "stream",
          "text": [
            "| Game:    424 | Score:   -1476.63 | Best score:   -1525.38 | Avg score   -1669.36 | Learning iter:     424745 |\n"
          ]
        },
        {
          "name": "stderr",
          "output_type": "stream",
          "text": [
            " 21%|██▏       | 426/2000 [1:46:01<7:54:13, 18.08s/it]"
          ]
        },
        {
          "name": "stdout",
          "output_type": "stream",
          "text": [
            "| Game:    425 | Score:   -1940.86 | Best score:   -1525.38 | Avg score   -1670.60 | Learning iter:     425745 |\n"
          ]
        },
        {
          "name": "stderr",
          "output_type": "stream",
          "text": [
            " 21%|██▏       | 427/2000 [1:46:19<7:54:10, 18.09s/it]"
          ]
        },
        {
          "name": "stdout",
          "output_type": "stream",
          "text": [
            "| Game:    426 | Score:   -1634.88 | Best score:   -1525.38 | Avg score   -1669.57 | Learning iter:     426745 |\n"
          ]
        },
        {
          "name": "stderr",
          "output_type": "stream",
          "text": [
            " 21%|██▏       | 428/2000 [1:46:37<7:53:56, 18.09s/it]"
          ]
        },
        {
          "name": "stdout",
          "output_type": "stream",
          "text": [
            "| Game:    427 | Score:   -1566.55 | Best score:   -1525.38 | Avg score   -1666.78 | Learning iter:     427745 |\n"
          ]
        },
        {
          "name": "stderr",
          "output_type": "stream",
          "text": [
            " 21%|██▏       | 429/2000 [1:46:55<7:53:33, 18.09s/it]"
          ]
        },
        {
          "name": "stdout",
          "output_type": "stream",
          "text": [
            "| Game:    428 | Score:   -1607.12 | Best score:   -1525.38 | Avg score   -1664.75 | Learning iter:     428745 |\n"
          ]
        },
        {
          "name": "stderr",
          "output_type": "stream",
          "text": [
            " 22%|██▏       | 430/2000 [1:47:13<7:56:35, 18.21s/it]"
          ]
        },
        {
          "name": "stdout",
          "output_type": "stream",
          "text": [
            "| Game:    429 | Score:   -1468.81 | Best score:   -1525.38 | Avg score   -1662.91 | Learning iter:     429745 |\n"
          ]
        },
        {
          "name": "stderr",
          "output_type": "stream",
          "text": [
            " 22%|██▏       | 431/2000 [1:47:32<7:55:26, 18.18s/it]"
          ]
        },
        {
          "name": "stdout",
          "output_type": "stream",
          "text": [
            "| Game:    430 | Score:   -1640.84 | Best score:   -1525.38 | Avg score   -1661.98 | Learning iter:     430745 |\n"
          ]
        },
        {
          "name": "stderr",
          "output_type": "stream",
          "text": [
            " 22%|██▏       | 432/2000 [1:47:50<7:54:07, 18.14s/it]"
          ]
        },
        {
          "name": "stdout",
          "output_type": "stream",
          "text": [
            "| Game:    431 | Score:   -1563.02 | Best score:   -1525.38 | Avg score   -1661.64 | Learning iter:     431745 |\n"
          ]
        },
        {
          "name": "stderr",
          "output_type": "stream",
          "text": [
            " 22%|██▏       | 433/2000 [1:48:08<7:52:54, 18.11s/it]"
          ]
        },
        {
          "name": "stdout",
          "output_type": "stream",
          "text": [
            "| Game:    432 | Score:   -1700.43 | Best score:   -1525.38 | Avg score   -1661.24 | Learning iter:     432745 |\n"
          ]
        },
        {
          "name": "stderr",
          "output_type": "stream",
          "text": [
            " 22%|██▏       | 434/2000 [1:48:26<7:56:14, 18.25s/it]"
          ]
        },
        {
          "name": "stdout",
          "output_type": "stream",
          "text": [
            "| Game:    433 | Score:   -1756.16 | Best score:   -1525.38 | Avg score   -1659.31 | Learning iter:     433745 |\n"
          ]
        },
        {
          "name": "stderr",
          "output_type": "stream",
          "text": [
            " 22%|██▏       | 435/2000 [1:48:44<7:54:46, 18.20s/it]"
          ]
        },
        {
          "name": "stdout",
          "output_type": "stream",
          "text": [
            "| Game:    434 | Score:   -1521.62 | Best score:   -1525.38 | Avg score   -1656.51 | Learning iter:     434745 |\n"
          ]
        },
        {
          "name": "stderr",
          "output_type": "stream",
          "text": [
            " 22%|██▏       | 436/2000 [1:49:02<7:53:52, 18.18s/it]"
          ]
        },
        {
          "name": "stdout",
          "output_type": "stream",
          "text": [
            "| Game:    435 | Score:   -1821.59 | Best score:   -1525.38 | Avg score   -1658.00 | Learning iter:     435745 |\n"
          ]
        },
        {
          "name": "stderr",
          "output_type": "stream",
          "text": [
            " 22%|██▏       | 437/2000 [1:49:20<7:52:37, 18.14s/it]"
          ]
        },
        {
          "name": "stdout",
          "output_type": "stream",
          "text": [
            "| Game:    436 | Score:   -1799.82 | Best score:   -1525.38 | Avg score   -1659.05 | Learning iter:     436745 |\n"
          ]
        },
        {
          "name": "stderr",
          "output_type": "stream",
          "text": [
            " 22%|██▏       | 438/2000 [1:49:39<7:55:38, 18.27s/it]"
          ]
        },
        {
          "name": "stdout",
          "output_type": "stream",
          "text": [
            "| Game:    437 | Score:   -1629.32 | Best score:   -1525.38 | Avg score   -1657.92 | Learning iter:     437745 |\n"
          ]
        },
        {
          "name": "stderr",
          "output_type": "stream",
          "text": [
            " 22%|██▏       | 439/2000 [1:49:57<7:55:52, 18.29s/it]"
          ]
        },
        {
          "name": "stdout",
          "output_type": "stream",
          "text": [
            "| Game:    438 | Score:   -1782.77 | Best score:   -1525.38 | Avg score   -1663.51 | Learning iter:     438745 |\n"
          ]
        },
        {
          "name": "stderr",
          "output_type": "stream",
          "text": [
            " 22%|██▏       | 440/2000 [1:50:16<7:56:09, 18.31s/it]"
          ]
        },
        {
          "name": "stdout",
          "output_type": "stream",
          "text": [
            "| Game:    439 | Score:   -1573.69 | Best score:   -1525.38 | Avg score   -1661.98 | Learning iter:     439745 |\n"
          ]
        },
        {
          "name": "stderr",
          "output_type": "stream",
          "text": [
            " 22%|██▏       | 441/2000 [1:50:34<7:56:59, 18.36s/it]"
          ]
        },
        {
          "name": "stdout",
          "output_type": "stream",
          "text": [
            "| Game:    440 | Score:   -1605.85 | Best score:   -1525.38 | Avg score   -1660.56 | Learning iter:     440745 |\n"
          ]
        },
        {
          "name": "stderr",
          "output_type": "stream",
          "text": [
            " 22%|██▏       | 442/2000 [1:50:53<7:59:18, 18.46s/it]"
          ]
        },
        {
          "name": "stdout",
          "output_type": "stream",
          "text": [
            "| Game:    441 | Score:   -1629.53 | Best score:   -1525.38 | Avg score   -1660.89 | Learning iter:     441745 |\n"
          ]
        },
        {
          "name": "stderr",
          "output_type": "stream",
          "text": [
            " 22%|██▏       | 443/2000 [1:51:11<7:57:15, 18.39s/it]"
          ]
        },
        {
          "name": "stdout",
          "output_type": "stream",
          "text": [
            "| Game:    442 | Score:   -1837.59 | Best score:   -1525.38 | Avg score   -1662.11 | Learning iter:     442745 |\n"
          ]
        },
        {
          "name": "stderr",
          "output_type": "stream",
          "text": [
            " 22%|██▏       | 444/2000 [1:51:29<7:56:44, 18.38s/it]"
          ]
        },
        {
          "name": "stdout",
          "output_type": "stream",
          "text": [
            "| Game:    443 | Score:   -1693.10 | Best score:   -1525.38 | Avg score   -1662.35 | Learning iter:     443745 |\n"
          ]
        },
        {
          "name": "stderr",
          "output_type": "stream",
          "text": [
            " 22%|██▏       | 445/2000 [1:51:48<7:58:55, 18.48s/it]"
          ]
        },
        {
          "name": "stdout",
          "output_type": "stream",
          "text": [
            "| Game:    444 | Score:   -1615.59 | Best score:   -1525.38 | Avg score   -1662.60 | Learning iter:     444745 |\n"
          ]
        },
        {
          "name": "stderr",
          "output_type": "stream",
          "text": [
            " 22%|██▏       | 446/2000 [1:52:07<7:59:37, 18.52s/it]"
          ]
        },
        {
          "name": "stdout",
          "output_type": "stream",
          "text": [
            "| Game:    445 | Score:   -1569.73 | Best score:   -1525.38 | Avg score   -1663.26 | Learning iter:     445745 |\n"
          ]
        },
        {
          "name": "stderr",
          "output_type": "stream",
          "text": [
            " 22%|██▏       | 447/2000 [1:52:25<8:00:08, 18.55s/it]"
          ]
        },
        {
          "name": "stdout",
          "output_type": "stream",
          "text": [
            "| Game:    446 | Score:   -1724.94 | Best score:   -1525.38 | Avg score   -1662.15 | Learning iter:     446745 |\n"
          ]
        },
        {
          "name": "stderr",
          "output_type": "stream",
          "text": [
            " 22%|██▏       | 448/2000 [1:52:44<8:01:14, 18.60s/it]"
          ]
        },
        {
          "name": "stdout",
          "output_type": "stream",
          "text": [
            "| Game:    447 | Score:   -1625.00 | Best score:   -1525.38 | Avg score   -1661.27 | Learning iter:     447745 |\n"
          ]
        },
        {
          "name": "stderr",
          "output_type": "stream",
          "text": [
            " 22%|██▏       | 449/2000 [1:53:03<8:03:36, 18.71s/it]"
          ]
        },
        {
          "name": "stdout",
          "output_type": "stream",
          "text": [
            "| Game:    448 | Score:   -1852.84 | Best score:   -1525.38 | Avg score   -1665.30 | Learning iter:     448745 |\n"
          ]
        },
        {
          "name": "stderr",
          "output_type": "stream",
          "text": [
            " 22%|██▎       | 450/2000 [1:53:22<8:01:44, 18.65s/it]"
          ]
        },
        {
          "name": "stdout",
          "output_type": "stream",
          "text": [
            "| Game:    449 | Score:   -1734.35 | Best score:   -1525.38 | Avg score   -1664.47 | Learning iter:     449745 |\n"
          ]
        },
        {
          "name": "stderr",
          "output_type": "stream",
          "text": [
            " 23%|██▎       | 451/2000 [1:53:40<8:01:22, 18.65s/it]"
          ]
        },
        {
          "name": "stdout",
          "output_type": "stream",
          "text": [
            "| Game:    450 | Score:   -1618.60 | Best score:   -1525.38 | Avg score   -1662.39 | Learning iter:     450745 |\n"
          ]
        },
        {
          "name": "stderr",
          "output_type": "stream",
          "text": [
            " 23%|██▎       | 452/2000 [1:53:59<8:03:10, 18.73s/it]"
          ]
        },
        {
          "name": "stdout",
          "output_type": "stream",
          "text": [
            "| Game:    451 | Score:   -1594.20 | Best score:   -1525.38 | Avg score   -1660.17 | Learning iter:     451745 |\n"
          ]
        },
        {
          "name": "stderr",
          "output_type": "stream",
          "text": [
            " 23%|██▎       | 453/2000 [1:54:18<8:06:43, 18.88s/it]"
          ]
        },
        {
          "name": "stdout",
          "output_type": "stream",
          "text": [
            "| Game:    452 | Score:   -1720.12 | Best score:   -1525.38 | Avg score   -1660.50 | Learning iter:     452745 |\n"
          ]
        },
        {
          "name": "stderr",
          "output_type": "stream",
          "text": [
            " 23%|██▎       | 454/2000 [1:54:37<8:06:07, 18.87s/it]"
          ]
        },
        {
          "name": "stdout",
          "output_type": "stream",
          "text": [
            "| Game:    453 | Score:   -1640.47 | Best score:   -1525.38 | Avg score   -1658.76 | Learning iter:     453745 |\n"
          ]
        },
        {
          "name": "stderr",
          "output_type": "stream",
          "text": [
            " 23%|██▎       | 455/2000 [1:54:57<8:10:13, 19.04s/it]"
          ]
        },
        {
          "name": "stdout",
          "output_type": "stream",
          "text": [
            "| Game:    454 | Score:   -1757.54 | Best score:   -1525.38 | Avg score   -1658.68 | Learning iter:     454745 |\n"
          ]
        },
        {
          "name": "stderr",
          "output_type": "stream",
          "text": [
            " 23%|██▎       | 456/2000 [1:55:16<8:12:17, 19.13s/it]"
          ]
        },
        {
          "name": "stdout",
          "output_type": "stream",
          "text": [
            "| Game:    455 | Score:   -1638.61 | Best score:   -1525.38 | Avg score   -1659.23 | Learning iter:     455745 |\n"
          ]
        },
        {
          "name": "stderr",
          "output_type": "stream",
          "text": [
            " 23%|██▎       | 457/2000 [1:55:35<8:13:07, 19.18s/it]"
          ]
        },
        {
          "name": "stdout",
          "output_type": "stream",
          "text": [
            "| Game:    456 | Score:   -1620.40 | Best score:   -1525.38 | Avg score   -1658.12 | Learning iter:     456745 |\n"
          ]
        },
        {
          "name": "stderr",
          "output_type": "stream",
          "text": [
            " 23%|██▎       | 458/2000 [1:55:55<8:16:00, 19.30s/it]"
          ]
        },
        {
          "name": "stdout",
          "output_type": "stream",
          "text": [
            "| Game:    457 | Score:   -1756.63 | Best score:   -1525.38 | Avg score   -1661.79 | Learning iter:     457745 |\n"
          ]
        },
        {
          "name": "stderr",
          "output_type": "stream",
          "text": [
            " 23%|██▎       | 459/2000 [1:56:14<8:16:31, 19.33s/it]"
          ]
        },
        {
          "name": "stdout",
          "output_type": "stream",
          "text": [
            "| Game:    458 | Score:   -1832.70 | Best score:   -1525.38 | Avg score   -1663.00 | Learning iter:     458745 |\n"
          ]
        },
        {
          "name": "stderr",
          "output_type": "stream",
          "text": [
            " 23%|██▎       | 460/2000 [1:56:34<8:16:47, 19.36s/it]"
          ]
        },
        {
          "name": "stdout",
          "output_type": "stream",
          "text": [
            "| Game:    459 | Score:   -1454.52 | Best score:   -1525.38 | Avg score   -1659.96 | Learning iter:     459745 |\n"
          ]
        },
        {
          "name": "stderr",
          "output_type": "stream",
          "text": [
            " 23%|██▎       | 461/2000 [1:56:53<8:17:36, 19.40s/it]"
          ]
        },
        {
          "name": "stdout",
          "output_type": "stream",
          "text": [
            "| Game:    460 | Score:   -1351.07 | Best score:   -1525.38 | Avg score   -1656.60 | Learning iter:     460745 |\n"
          ]
        },
        {
          "name": "stderr",
          "output_type": "stream",
          "text": [
            " 23%|██▎       | 462/2000 [1:57:12<8:15:24, 19.33s/it]"
          ]
        },
        {
          "name": "stdout",
          "output_type": "stream",
          "text": [
            "| Game:    461 | Score:   -1760.45 | Best score:   -1525.38 | Avg score   -1658.67 | Learning iter:     461745 |\n"
          ]
        },
        {
          "name": "stderr",
          "output_type": "stream",
          "text": [
            " 23%|██▎       | 463/2000 [1:57:31<8:12:51, 19.24s/it]"
          ]
        },
        {
          "name": "stdout",
          "output_type": "stream",
          "text": [
            "| Game:    462 | Score:   -1660.71 | Best score:   -1525.38 | Avg score   -1660.28 | Learning iter:     462745 |\n"
          ]
        },
        {
          "name": "stderr",
          "output_type": "stream",
          "text": [
            " 23%|██▎       | 464/2000 [1:57:51<8:13:24, 19.27s/it]"
          ]
        },
        {
          "name": "stdout",
          "output_type": "stream",
          "text": [
            "| Game:    463 | Score:   -1523.81 | Best score:   -1525.38 | Avg score   -1658.58 | Learning iter:     463745 |\n"
          ]
        },
        {
          "name": "stderr",
          "output_type": "stream",
          "text": [
            " 23%|██▎       | 465/2000 [1:58:10<8:13:16, 19.28s/it]"
          ]
        },
        {
          "name": "stdout",
          "output_type": "stream",
          "text": [
            "| Game:    464 | Score:   -1401.51 | Best score:   -1525.38 | Avg score   -1656.91 | Learning iter:     464745 |\n"
          ]
        },
        {
          "name": "stderr",
          "output_type": "stream",
          "text": [
            " 23%|██▎       | 466/2000 [1:58:30<8:14:53, 19.36s/it]"
          ]
        },
        {
          "name": "stdout",
          "output_type": "stream",
          "text": [
            "| Game:    465 | Score:   -1561.79 | Best score:   -1525.38 | Avg score   -1654.55 | Learning iter:     465745 |\n"
          ]
        },
        {
          "name": "stderr",
          "output_type": "stream",
          "text": [
            " 23%|██▎       | 467/2000 [1:58:50<8:19:14, 19.54s/it]"
          ]
        },
        {
          "name": "stdout",
          "output_type": "stream",
          "text": [
            "| Game:    466 | Score:   -1776.58 | Best score:   -1525.38 | Avg score   -1656.23 | Learning iter:     466745 |\n"
          ]
        },
        {
          "name": "stderr",
          "output_type": "stream",
          "text": [
            " 23%|██▎       | 468/2000 [1:59:09<8:17:14, 19.47s/it]"
          ]
        },
        {
          "name": "stdout",
          "output_type": "stream",
          "text": [
            "| Game:    467 | Score:   -1666.32 | Best score:   -1525.38 | Avg score   -1657.70 | Learning iter:     467745 |\n"
          ]
        },
        {
          "name": "stderr",
          "output_type": "stream",
          "text": [
            " 23%|██▎       | 469/2000 [1:59:29<8:18:25, 19.53s/it]"
          ]
        },
        {
          "name": "stdout",
          "output_type": "stream",
          "text": [
            "| Game:    468 | Score:   -1293.48 | Best score:   -1525.38 | Avg score   -1654.03 | Learning iter:     468745 |\n"
          ]
        },
        {
          "name": "stderr",
          "output_type": "stream",
          "text": [
            " 24%|██▎       | 470/2000 [1:59:48<8:19:14, 19.58s/it]"
          ]
        },
        {
          "name": "stdout",
          "output_type": "stream",
          "text": [
            "| Game:    469 | Score:   -1824.59 | Best score:   -1525.38 | Avg score   -1654.18 | Learning iter:     469745 |\n"
          ]
        },
        {
          "name": "stderr",
          "output_type": "stream",
          "text": [
            " 24%|██▎       | 471/2000 [2:00:08<8:18:11, 19.55s/it]"
          ]
        },
        {
          "name": "stdout",
          "output_type": "stream",
          "text": [
            "| Game:    470 | Score:   -1758.55 | Best score:   -1525.38 | Avg score   -1655.02 | Learning iter:     470745 |\n"
          ]
        },
        {
          "name": "stderr",
          "output_type": "stream",
          "text": [
            " 24%|██▎       | 472/2000 [2:00:27<8:18:02, 19.56s/it]"
          ]
        },
        {
          "name": "stdout",
          "output_type": "stream",
          "text": [
            "| Game:    471 | Score:   -1638.11 | Best score:   -1525.38 | Avg score   -1654.69 | Learning iter:     471745 |\n"
          ]
        },
        {
          "name": "stderr",
          "output_type": "stream",
          "text": [
            " 24%|██▎       | 473/2000 [2:00:47<8:20:09, 19.65s/it]"
          ]
        },
        {
          "name": "stdout",
          "output_type": "stream",
          "text": [
            "| Game:    472 | Score:   -1729.06 | Best score:   -1525.38 | Avg score   -1654.75 | Learning iter:     472745 |\n"
          ]
        },
        {
          "name": "stderr",
          "output_type": "stream",
          "text": [
            " 24%|██▎       | 474/2000 [2:01:07<8:20:08, 19.66s/it]"
          ]
        },
        {
          "name": "stdout",
          "output_type": "stream",
          "text": [
            "| Game:    473 | Score:   -1668.30 | Best score:   -1525.38 | Avg score   -1653.52 | Learning iter:     473745 |\n"
          ]
        },
        {
          "name": "stderr",
          "output_type": "stream",
          "text": [
            " 24%|██▍       | 475/2000 [2:01:27<8:20:47, 19.70s/it]"
          ]
        },
        {
          "name": "stdout",
          "output_type": "stream",
          "text": [
            "| Game:    474 | Score:   -1600.27 | Best score:   -1525.38 | Avg score   -1650.45 | Learning iter:     474745 |\n"
          ]
        },
        {
          "name": "stderr",
          "output_type": "stream",
          "text": [
            " 24%|██▍       | 476/2000 [2:01:46<8:21:30, 19.74s/it]"
          ]
        },
        {
          "name": "stdout",
          "output_type": "stream",
          "text": [
            "| Game:    475 | Score:   -1603.52 | Best score:   -1525.38 | Avg score   -1650.95 | Learning iter:     475745 |\n"
          ]
        },
        {
          "name": "stderr",
          "output_type": "stream",
          "text": [
            " 24%|██▍       | 477/2000 [2:02:07<8:24:52, 19.89s/it]"
          ]
        },
        {
          "name": "stdout",
          "output_type": "stream",
          "text": [
            "| Game:    476 | Score:   -1319.85 | Best score:   -1525.38 | Avg score   -1647.99 | Learning iter:     476745 |\n"
          ]
        },
        {
          "name": "stderr",
          "output_type": "stream",
          "text": [
            " 24%|██▍       | 478/2000 [2:02:27<8:25:20, 19.92s/it]"
          ]
        },
        {
          "name": "stdout",
          "output_type": "stream",
          "text": [
            "| Game:    477 | Score:   -1762.12 | Best score:   -1525.38 | Avg score   -1647.75 | Learning iter:     477745 |\n"
          ]
        },
        {
          "name": "stderr",
          "output_type": "stream",
          "text": [
            " 24%|██▍       | 479/2000 [2:02:48<8:33:33, 20.26s/it]"
          ]
        },
        {
          "name": "stdout",
          "output_type": "stream",
          "text": [
            "| Game:    478 | Score:   -1606.77 | Best score:   -1525.38 | Avg score   -1646.71 | Learning iter:     478745 |\n"
          ]
        },
        {
          "name": "stderr",
          "output_type": "stream",
          "text": [
            " 24%|██▍       | 480/2000 [2:03:10<8:46:40, 20.79s/it]"
          ]
        },
        {
          "name": "stdout",
          "output_type": "stream",
          "text": [
            "| Game:    479 | Score:   -1759.95 | Best score:   -1525.38 | Avg score   -1646.67 | Learning iter:     479745 |\n"
          ]
        },
        {
          "name": "stderr",
          "output_type": "stream",
          "text": [
            " 24%|██▍       | 481/2000 [2:03:30<8:43:00, 20.66s/it]"
          ]
        },
        {
          "name": "stdout",
          "output_type": "stream",
          "text": [
            "| Game:    480 | Score:   -1570.77 | Best score:   -1525.38 | Avg score   -1646.03 | Learning iter:     480745 |\n"
          ]
        },
        {
          "name": "stderr",
          "output_type": "stream",
          "text": [
            " 24%|██▍       | 482/2000 [2:03:46<8:08:50, 19.32s/it]"
          ]
        },
        {
          "name": "stdout",
          "output_type": "stream",
          "text": [
            "| Game:    481 | Score:   -1618.43 | Best score:   -1525.38 | Avg score   -1645.44 | Learning iter:     481745 |\n"
          ]
        },
        {
          "name": "stderr",
          "output_type": "stream",
          "text": [
            " 24%|██▍       | 483/2000 [2:04:03<7:45:06, 18.40s/it]"
          ]
        },
        {
          "name": "stdout",
          "output_type": "stream",
          "text": [
            "| Game:    482 | Score:   -1555.89 | Best score:   -1525.38 | Avg score   -1643.67 | Learning iter:     482745 |\n"
          ]
        },
        {
          "name": "stderr",
          "output_type": "stream",
          "text": [
            " 24%|██▍       | 484/2000 [2:04:19<7:28:29, 17.75s/it]"
          ]
        },
        {
          "name": "stdout",
          "output_type": "stream",
          "text": [
            "| Game:    483 | Score:   -1694.37 | Best score:   -1525.38 | Avg score   -1643.48 | Learning iter:     483745 |\n"
          ]
        },
        {
          "name": "stderr",
          "output_type": "stream",
          "text": [
            " 24%|██▍       | 485/2000 [2:04:35<7:16:23, 17.28s/it]"
          ]
        },
        {
          "name": "stdout",
          "output_type": "stream",
          "text": [
            "| Game:    484 | Score:   -1908.16 | Best score:   -1525.38 | Avg score   -1646.69 | Learning iter:     484745 |\n"
          ]
        },
        {
          "name": "stderr",
          "output_type": "stream",
          "text": [
            " 24%|██▍       | 486/2000 [2:04:51<7:08:07, 16.97s/it]"
          ]
        },
        {
          "name": "stdout",
          "output_type": "stream",
          "text": [
            "| Game:    485 | Score:   -1736.24 | Best score:   -1525.38 | Avg score   -1646.94 | Learning iter:     485745 |\n"
          ]
        },
        {
          "name": "stderr",
          "output_type": "stream",
          "text": [
            " 24%|██▍       | 487/2000 [2:05:08<7:03:29, 16.79s/it]"
          ]
        },
        {
          "name": "stdout",
          "output_type": "stream",
          "text": [
            "| Game:    486 | Score:   -1421.32 | Best score:   -1525.38 | Avg score   -1644.76 | Learning iter:     486745 |\n"
          ]
        },
        {
          "name": "stderr",
          "output_type": "stream",
          "text": [
            " 24%|██▍       | 488/2000 [2:05:24<6:59:51, 16.66s/it]"
          ]
        },
        {
          "name": "stdout",
          "output_type": "stream",
          "text": [
            "| Game:    487 | Score:   -1738.67 | Best score:   -1525.38 | Avg score   -1646.34 | Learning iter:     487745 |\n"
          ]
        },
        {
          "name": "stderr",
          "output_type": "stream",
          "text": [
            " 24%|██▍       | 489/2000 [2:05:40<6:57:31, 16.58s/it]"
          ]
        },
        {
          "name": "stdout",
          "output_type": "stream",
          "text": [
            "| Game:    488 | Score:   -1373.75 | Best score:   -1525.38 | Avg score   -1641.47 | Learning iter:     488745 |\n"
          ]
        },
        {
          "name": "stderr",
          "output_type": "stream",
          "text": [
            " 24%|██▍       | 490/2000 [2:05:57<6:54:58, 16.49s/it]"
          ]
        },
        {
          "name": "stdout",
          "output_type": "stream",
          "text": [
            "| Game:    489 | Score:   -1629.96 | Best score:   -1525.38 | Avg score   -1641.28 | Learning iter:     489745 |\n"
          ]
        },
        {
          "name": "stderr",
          "output_type": "stream",
          "text": [
            " 25%|██▍       | 491/2000 [2:06:13<6:51:35, 16.37s/it]"
          ]
        },
        {
          "name": "stdout",
          "output_type": "stream",
          "text": [
            "| Game:    490 | Score:   -1442.86 | Best score:   -1525.38 | Avg score   -1639.37 | Learning iter:     490745 |\n"
          ]
        },
        {
          "name": "stderr",
          "output_type": "stream",
          "text": [
            " 25%|██▍       | 492/2000 [2:06:29<6:49:18, 16.29s/it]"
          ]
        },
        {
          "name": "stdout",
          "output_type": "stream",
          "text": [
            "| Game:    491 | Score:   -1613.10 | Best score:   -1525.38 | Avg score   -1637.54 | Learning iter:     491745 |\n"
          ]
        },
        {
          "name": "stderr",
          "output_type": "stream",
          "text": [
            " 25%|██▍       | 493/2000 [2:06:45<6:49:47, 16.32s/it]"
          ]
        },
        {
          "name": "stdout",
          "output_type": "stream",
          "text": [
            "| Game:    492 | Score:   -1458.50 | Best score:   -1525.38 | Avg score   -1636.50 | Learning iter:     492745 |\n"
          ]
        },
        {
          "name": "stderr",
          "output_type": "stream",
          "text": [
            " 25%|██▍       | 494/2000 [2:07:02<6:49:46, 16.33s/it]"
          ]
        },
        {
          "name": "stdout",
          "output_type": "stream",
          "text": [
            "| Game:    493 | Score:   -1695.29 | Best score:   -1525.38 | Avg score   -1635.84 | Learning iter:     493745 |\n"
          ]
        },
        {
          "name": "stderr",
          "output_type": "stream",
          "text": [
            " 25%|██▍       | 495/2000 [2:07:18<6:49:58, 16.34s/it]"
          ]
        },
        {
          "name": "stdout",
          "output_type": "stream",
          "text": [
            "| Game:    494 | Score:   -1729.70 | Best score:   -1525.38 | Avg score   -1634.80 | Learning iter:     494745 |\n"
          ]
        },
        {
          "name": "stderr",
          "output_type": "stream",
          "text": [
            " 25%|██▍       | 496/2000 [2:07:34<6:49:20, 16.33s/it]"
          ]
        },
        {
          "name": "stdout",
          "output_type": "stream",
          "text": [
            "| Game:    495 | Score:   -1768.41 | Best score:   -1525.38 | Avg score   -1639.70 | Learning iter:     495745 |\n"
          ]
        },
        {
          "name": "stderr",
          "output_type": "stream",
          "text": [
            " 25%|██▍       | 497/2000 [2:07:51<6:49:44, 16.36s/it]"
          ]
        },
        {
          "name": "stdout",
          "output_type": "stream",
          "text": [
            "| Game:    496 | Score:   -1549.98 | Best score:   -1525.38 | Avg score   -1640.45 | Learning iter:     496745 |\n"
          ]
        },
        {
          "name": "stderr",
          "output_type": "stream",
          "text": [
            " 25%|██▍       | 498/2000 [2:08:07<6:50:06, 16.38s/it]"
          ]
        },
        {
          "name": "stdout",
          "output_type": "stream",
          "text": [
            "| Game:    497 | Score:   -1421.03 | Best score:   -1525.38 | Avg score   -1638.84 | Learning iter:     497745 |\n"
          ]
        },
        {
          "name": "stderr",
          "output_type": "stream",
          "text": [
            " 25%|██▍       | 499/2000 [2:08:24<6:50:10, 16.40s/it]"
          ]
        },
        {
          "name": "stdout",
          "output_type": "stream",
          "text": [
            "| Game:    498 | Score:   -1551.08 | Best score:   -1525.38 | Avg score   -1638.26 | Learning iter:     498745 |\n"
          ]
        },
        {
          "name": "stderr",
          "output_type": "stream",
          "text": [
            " 25%|██▌       | 500/2000 [2:08:40<6:53:23, 16.54s/it]"
          ]
        },
        {
          "name": "stdout",
          "output_type": "stream",
          "text": [
            "| Game:    499 | Score:   -1606.74 | Best score:   -1525.38 | Avg score   -1638.01 | Learning iter:     499745 |\n"
          ]
        },
        {
          "name": "stderr",
          "output_type": "stream",
          "text": [
            " 25%|██▌       | 501/2000 [2:08:57<6:52:55, 16.53s/it]"
          ]
        },
        {
          "name": "stdout",
          "output_type": "stream",
          "text": [
            "| Game:    500 | Score:   -1592.98 | Best score:   -1525.38 | Avg score   -1640.61 | Learning iter:     500745 |\n"
          ]
        },
        {
          "name": "stderr",
          "output_type": "stream",
          "text": [
            " 25%|██▌       | 502/2000 [2:09:13<6:51:36, 16.49s/it]"
          ]
        },
        {
          "name": "stdout",
          "output_type": "stream",
          "text": [
            "| Game:    501 | Score:   -1633.50 | Best score:   -1525.38 | Avg score   -1640.10 | Learning iter:     501745 |\n"
          ]
        },
        {
          "name": "stderr",
          "output_type": "stream",
          "text": [
            " 25%|██▌       | 503/2000 [2:09:30<6:49:27, 16.41s/it]"
          ]
        },
        {
          "name": "stdout",
          "output_type": "stream",
          "text": [
            "| Game:    502 | Score:   -1809.82 | Best score:   -1525.38 | Avg score   -1640.81 | Learning iter:     502745 |\n"
          ]
        },
        {
          "name": "stderr",
          "output_type": "stream",
          "text": [
            " 25%|██▌       | 504/2000 [2:09:46<6:47:43, 16.35s/it]"
          ]
        },
        {
          "name": "stdout",
          "output_type": "stream",
          "text": [
            "| Game:    503 | Score:   -1737.13 | Best score:   -1525.38 | Avg score   -1640.81 | Learning iter:     503745 |\n"
          ]
        },
        {
          "name": "stderr",
          "output_type": "stream",
          "text": [
            " 25%|██▌       | 505/2000 [2:10:02<6:45:35, 16.28s/it]"
          ]
        },
        {
          "name": "stdout",
          "output_type": "stream",
          "text": [
            "| Game:    504 | Score:   -1541.92 | Best score:   -1525.38 | Avg score   -1639.92 | Learning iter:     504745 |\n"
          ]
        },
        {
          "name": "stderr",
          "output_type": "stream",
          "text": [
            " 25%|██▌       | 506/2000 [2:10:18<6:44:39, 16.25s/it]"
          ]
        },
        {
          "name": "stdout",
          "output_type": "stream",
          "text": [
            "| Game:    505 | Score:   -1758.12 | Best score:   -1525.38 | Avg score   -1641.66 | Learning iter:     505745 |\n"
          ]
        },
        {
          "name": "stderr",
          "output_type": "stream",
          "text": [
            " 25%|██▌       | 507/2000 [2:10:34<6:45:53, 16.31s/it]"
          ]
        },
        {
          "name": "stdout",
          "output_type": "stream",
          "text": [
            "| Game:    506 | Score:   -1838.74 | Best score:   -1525.38 | Avg score   -1644.24 | Learning iter:     506745 |\n"
          ]
        },
        {
          "name": "stderr",
          "output_type": "stream",
          "text": [
            " 25%|██▌       | 508/2000 [2:10:51<6:46:14, 16.34s/it]"
          ]
        },
        {
          "name": "stdout",
          "output_type": "stream",
          "text": [
            "| Game:    507 | Score:   -1708.56 | Best score:   -1525.38 | Avg score   -1644.78 | Learning iter:     507745 |\n"
          ]
        },
        {
          "name": "stderr",
          "output_type": "stream",
          "text": [
            " 25%|██▌       | 509/2000 [2:11:07<6:45:21, 16.31s/it]"
          ]
        },
        {
          "name": "stdout",
          "output_type": "stream",
          "text": [
            "| Game:    508 | Score:   -1706.13 | Best score:   -1525.38 | Avg score   -1643.78 | Learning iter:     508745 |\n"
          ]
        },
        {
          "name": "stderr",
          "output_type": "stream",
          "text": [
            " 26%|██▌       | 510/2000 [2:11:23<6:45:06, 16.31s/it]"
          ]
        },
        {
          "name": "stdout",
          "output_type": "stream",
          "text": [
            "| Game:    509 | Score:   -1654.32 | Best score:   -1525.38 | Avg score   -1645.43 | Learning iter:     509745 |\n"
          ]
        },
        {
          "name": "stderr",
          "output_type": "stream",
          "text": [
            " 26%|██▌       | 511/2000 [2:11:40<6:43:55, 16.28s/it]"
          ]
        },
        {
          "name": "stdout",
          "output_type": "stream",
          "text": [
            "| Game:    510 | Score:   -1501.65 | Best score:   -1525.38 | Avg score   -1642.67 | Learning iter:     510745 |\n"
          ]
        },
        {
          "name": "stderr",
          "output_type": "stream",
          "text": [
            " 26%|██▌       | 512/2000 [2:11:56<6:44:00, 16.29s/it]"
          ]
        },
        {
          "name": "stdout",
          "output_type": "stream",
          "text": [
            "| Game:    511 | Score:   -1730.86 | Best score:   -1525.38 | Avg score   -1643.41 | Learning iter:     511745 |\n"
          ]
        },
        {
          "name": "stderr",
          "output_type": "stream",
          "text": [
            " 26%|██▌       | 513/2000 [2:12:12<6:44:15, 16.31s/it]"
          ]
        },
        {
          "name": "stdout",
          "output_type": "stream",
          "text": [
            "| Game:    512 | Score:   -1708.37 | Best score:   -1525.38 | Avg score   -1643.62 | Learning iter:     512745 |\n"
          ]
        },
        {
          "name": "stderr",
          "output_type": "stream",
          "text": [
            " 26%|██▌       | 513/2000 [2:12:25<6:23:50, 15.49s/it]\n"
          ]
        },
        {
          "ename": "ValueError",
          "evalue": "Expected parameter loc (Tensor of shape (1, 6)) of distribution Normal(loc: torch.Size([1, 6]), scale: torch.Size([1, 6])) to satisfy the constraint Real(), but found invalid values:\ntensor([[nan, nan, nan, nan, nan, nan]], device='cuda:0',\n       grad_fn=<AddmmBackward0>)",
          "output_type": "error",
          "traceback": [
            "\u001b[0;31m---------------------------------------------------------------------------\u001b[0m",
            "\u001b[0;31mValueError\u001b[0m                                Traceback (most recent call last)",
            "Cell \u001b[0;32mIn[142], line 52\u001b[0m\n\u001b[1;32m     50\u001b[0m \u001b[38;5;66;03m# TODO: Interact with the environment until the episode is done\u001b[39;00m\n\u001b[1;32m     51\u001b[0m \u001b[38;5;28;01mwhile\u001b[39;00m \u001b[38;5;129;01mnot\u001b[39;00m done \u001b[38;5;129;01mand\u001b[39;00m \u001b[38;5;129;01mnot\u001b[39;00m truncated:\n\u001b[0;32m---> 52\u001b[0m     action \u001b[38;5;241m=\u001b[39m \u001b[43magent\u001b[49m\u001b[38;5;241;43m.\u001b[39;49m\u001b[43mchoose_action\u001b[49m\u001b[43m(\u001b[49m\u001b[43mstate\u001b[49m\u001b[43m)\u001b[49m\n\u001b[1;32m     53\u001b[0m     step_result \u001b[38;5;241m=\u001b[39m env\u001b[38;5;241m.\u001b[39mstep(action)\n\u001b[1;32m     55\u001b[0m     \u001b[38;5;66;03m# Handle both old and new gym API formats\u001b[39;00m\n",
            "Cell \u001b[0;32mIn[139], line 82\u001b[0m, in \u001b[0;36mAgent.choose_action\u001b[0;34m(self, state, deterministic, reparameterize)\u001b[0m\n\u001b[1;32m     80\u001b[0m     action \u001b[38;5;241m=\u001b[39m mu\n\u001b[1;32m     81\u001b[0m \u001b[38;5;28;01melse\u001b[39;00m:\n\u001b[0;32m---> 82\u001b[0m     dist \u001b[38;5;241m=\u001b[39m \u001b[43mNormal\u001b[49m\u001b[43m(\u001b[49m\u001b[43mmu\u001b[49m\u001b[43m,\u001b[49m\u001b[43m \u001b[49m\u001b[43msigma\u001b[49m\u001b[38;5;241;43m.\u001b[39;49m\u001b[43mclamp\u001b[49m\u001b[43m(\u001b[49m\u001b[38;5;28;43mmin\u001b[39;49m\u001b[38;5;241;43m=\u001b[39;49m\u001b[38;5;28;43mself\u001b[39;49m\u001b[38;5;241;43m.\u001b[39;49m\u001b[43mreparam_noise_lim\u001b[49m\u001b[43m)\u001b[49m\u001b[43m)\u001b[49m\n\u001b[1;32m     83\u001b[0m     action \u001b[38;5;241m=\u001b[39m dist\u001b[38;5;241m.\u001b[39mrsample() \u001b[38;5;28;01mif\u001b[39;00m reparameterize \u001b[38;5;28;01melse\u001b[39;00m dist\u001b[38;5;241m.\u001b[39msample()\n\u001b[1;32m     85\u001b[0m action \u001b[38;5;241m=\u001b[39m T\u001b[38;5;241m.\u001b[39mtanh(action) \u001b[38;5;241m*\u001b[39m T\u001b[38;5;241m.\u001b[39mtensor(\u001b[38;5;28mself\u001b[39m\u001b[38;5;241m.\u001b[39mmax_action)\u001b[38;5;241m.\u001b[39mto(\u001b[38;5;28mself\u001b[39m\u001b[38;5;241m.\u001b[39mactor\u001b[38;5;241m.\u001b[39mdevice)\n",
            "File \u001b[0;32m~/.local/lib/python3.10/site-packages/torch/distributions/normal.py:66\u001b[0m, in \u001b[0;36mNormal.__init__\u001b[0;34m(self, loc, scale, validate_args)\u001b[0m\n\u001b[1;32m     64\u001b[0m \u001b[38;5;28;01melse\u001b[39;00m:\n\u001b[1;32m     65\u001b[0m     batch_shape \u001b[38;5;241m=\u001b[39m \u001b[38;5;28mself\u001b[39m\u001b[38;5;241m.\u001b[39mloc\u001b[38;5;241m.\u001b[39msize()\n\u001b[0;32m---> 66\u001b[0m \u001b[38;5;28;43msuper\u001b[39;49m\u001b[43m(\u001b[49m\u001b[43m)\u001b[49m\u001b[38;5;241;43m.\u001b[39;49m\u001b[38;5;21;43m__init__\u001b[39;49m\u001b[43m(\u001b[49m\u001b[43mbatch_shape\u001b[49m\u001b[43m,\u001b[49m\u001b[43m \u001b[49m\u001b[43mvalidate_args\u001b[49m\u001b[38;5;241;43m=\u001b[39;49m\u001b[43mvalidate_args\u001b[49m\u001b[43m)\u001b[49m\n",
            "File \u001b[0;32m~/.local/lib/python3.10/site-packages/torch/distributions/distribution.py:77\u001b[0m, in \u001b[0;36mDistribution.__init__\u001b[0;34m(self, batch_shape, event_shape, validate_args)\u001b[0m\n\u001b[1;32m     75\u001b[0m         valid \u001b[38;5;241m=\u001b[39m constraint\u001b[38;5;241m.\u001b[39mcheck(value)\n\u001b[1;32m     76\u001b[0m         \u001b[38;5;28;01mif\u001b[39;00m \u001b[38;5;129;01mnot\u001b[39;00m torch\u001b[38;5;241m.\u001b[39m_is_all_true(valid):\n\u001b[0;32m---> 77\u001b[0m             \u001b[38;5;28;01mraise\u001b[39;00m \u001b[38;5;167;01mValueError\u001b[39;00m(\n\u001b[1;32m     78\u001b[0m                 \u001b[38;5;124mf\u001b[39m\u001b[38;5;124m\"\u001b[39m\u001b[38;5;124mExpected parameter \u001b[39m\u001b[38;5;132;01m{\u001b[39;00mparam\u001b[38;5;132;01m}\u001b[39;00m\u001b[38;5;124m \u001b[39m\u001b[38;5;124m\"\u001b[39m\n\u001b[1;32m     79\u001b[0m                 \u001b[38;5;124mf\u001b[39m\u001b[38;5;124m\"\u001b[39m\u001b[38;5;124m(\u001b[39m\u001b[38;5;132;01m{\u001b[39;00m\u001b[38;5;28mtype\u001b[39m(value)\u001b[38;5;241m.\u001b[39m\u001b[38;5;18m__name__\u001b[39m\u001b[38;5;132;01m}\u001b[39;00m\u001b[38;5;124m of shape \u001b[39m\u001b[38;5;132;01m{\u001b[39;00m\u001b[38;5;28mtuple\u001b[39m(value\u001b[38;5;241m.\u001b[39mshape)\u001b[38;5;132;01m}\u001b[39;00m\u001b[38;5;124m) \u001b[39m\u001b[38;5;124m\"\u001b[39m\n\u001b[1;32m     80\u001b[0m                 \u001b[38;5;124mf\u001b[39m\u001b[38;5;124m\"\u001b[39m\u001b[38;5;124mof distribution \u001b[39m\u001b[38;5;132;01m{\u001b[39;00m\u001b[38;5;28mrepr\u001b[39m(\u001b[38;5;28mself\u001b[39m)\u001b[38;5;132;01m}\u001b[39;00m\u001b[38;5;124m \u001b[39m\u001b[38;5;124m\"\u001b[39m\n\u001b[1;32m     81\u001b[0m                 \u001b[38;5;124mf\u001b[39m\u001b[38;5;124m\"\u001b[39m\u001b[38;5;124mto satisfy the constraint \u001b[39m\u001b[38;5;132;01m{\u001b[39;00m\u001b[38;5;28mrepr\u001b[39m(constraint)\u001b[38;5;132;01m}\u001b[39;00m\u001b[38;5;124m, \u001b[39m\u001b[38;5;124m\"\u001b[39m\n\u001b[1;32m     82\u001b[0m                 \u001b[38;5;124mf\u001b[39m\u001b[38;5;124m\"\u001b[39m\u001b[38;5;124mbut found invalid values:\u001b[39m\u001b[38;5;130;01m\\n\u001b[39;00m\u001b[38;5;132;01m{\u001b[39;00mvalue\u001b[38;5;132;01m}\u001b[39;00m\u001b[38;5;124m\"\u001b[39m\n\u001b[1;32m     83\u001b[0m             )\n\u001b[1;32m     84\u001b[0m \u001b[38;5;28msuper\u001b[39m()\u001b[38;5;241m.\u001b[39m\u001b[38;5;21m__init__\u001b[39m()\n",
            "\u001b[0;31mValueError\u001b[0m: Expected parameter loc (Tensor of shape (1, 6)) of distribution Normal(loc: torch.Size([1, 6]), scale: torch.Size([1, 6])) to satisfy the constraint Real(), but found invalid values:\ntensor([[nan, nan, nan, nan, nan, nan]], device='cuda:0',\n       grad_fn=<AddmmBackward0>)"
          ]
        }
      ],
      "source": [
        "env = gym.make(env_name)\n",
        "dir_path = os.path.join(dir, env_name)\n",
        "os.makedirs(dir_path, exist_ok=True)\n",
        "\n",
        "if record_video:\n",
        "    env = RecordVideo(env, video_folder=os.path.join(dir_path, 'videos'),\n",
        "                      episode_trigger=lambda ep: ep == n_games - 1)\n",
        "    \n",
        "    \n",
        "\n",
        "# agent = None\n",
        "\n",
        "agent = Agent(\n",
        "    gamma=gamma,\n",
        "    alpha=alpha,\n",
        "    beta=beta,\n",
        "    state_dims=env.observation_space.shape[0],\n",
        "    action_dims=env.action_space.shape[0],\n",
        "    max_action=float(env.action_space.high[0]),\n",
        "    fc1_dim=fc1_dim,\n",
        "    fc2_dim=fc2_dim,\n",
        "    memory_size=memory_size,\n",
        "    batch_size=batch_size,\n",
        "    tau=tau,\n",
        "    update_period=update_period,\n",
        "    reward_scale=reward_scale,\n",
        "    warmup=warmup,\n",
        "    reparam_noise_lim=reparam_noise_lim,\n",
        "    name='sac_halfcheetah',\n",
        "    ckpt_dir=dir\n",
        ")\n",
        "\n",
        "\n",
        "\n",
        "# TODO: Initialize performance tracking variables\n",
        "scores = []\n",
        "avg_scores = []\n",
        "best_score = float('-inf')\n",
        "\n",
        "\n",
        "for game in trange(n_games):\n",
        "    # TODO: Reset environment and initialize variables at the start of each episode\n",
        "    state = env.reset()\n",
        "    if isinstance(state, tuple):  # Handle gym API returning (state, info)\n",
        "        state = state[0]\n",
        "    done = False\n",
        "    truncated = False\n",
        "    score = 0\n",
        "\n",
        "    # TODO: Interact with the environment until the episode is done\n",
        "    while not done and not truncated:\n",
        "        action = agent.choose_action(state)\n",
        "        step_result = env.step(action)\n",
        "        \n",
        "        # Handle both old and new gym API formats\n",
        "        if len(step_result) == 5:\n",
        "            next_state, reward, done, truncated, info = step_result\n",
        "        else:\n",
        "            next_state, reward, done, info = step_result\n",
        "            truncated = False\n",
        "            \n",
        "        # Consider episode done if terminated or truncated\n",
        "        done = done or truncated\n",
        "        agent.store_transition(state, action, reward, next_state, done)\n",
        "        agent.learn()\n",
        "        state = next_state\n",
        "        score += reward\n",
        "\n",
        "\n",
        "    # TODO: Track score and average score for plotting and saving\n",
        "    scores.append(score)\n",
        "    avg_score = np.mean(scores[-100:]) if len(scores) >= 100 else np.mean(scores)\n",
        "    avg_scores.append(avg_score)\n",
        "    if avg_score > best_score:\n",
        "        best_score = avg_score\n",
        "\n",
        "    print(f'| Game: {game:6.0f} | Score: {score:10.2f} | Best score: {best_score:10.2f} | '\n",
        "          f'Avg score {avg_score:10.2f} | Learning iter: {agent.learn_iter:10.0f} |')\n",
        "\n",
        "\n",
        "    # TODO: Save the model if the current avg score is better than the best so far\n",
        "    if avg_score >= best_score:\n",
        "        agent.save_model()\n",
        "\n",
        "env.close()\n",
        "\n",
        "plot_learning_curve(scores, agent.full_path)"
      ]
    },
    {
      "cell_type": "markdown",
      "metadata": {
        "id": "YmPLjy9zC1QI"
      },
      "source": [
        "## 🎥 Visualize Agent Behavior\n",
        "\n",
        "This is the last episode recorded video of the trained agent interacting with the environment in training process.\n"
      ]
    },
    {
      "cell_type": "code",
      "execution_count": null,
      "metadata": {
        "colab": {
          "base_uri": "https://localhost:8080/",
          "height": 471
        },
        "id": "MkIwmYFSg8nB",
        "outputId": "7749b7d9-a784-4537-98c1-fce3bb5d2771"
      },
      "outputs": [
        {
          "data": {
            "text/html": [
              "<video controls  width=\"600\" >\n",
              " <source src=\"data:None;base64,/content/tmp/HalfCheetahBulletEnv-v0/videos/rl-video-episode-999.mp4\" type=\"None\">\n",
              " Your browser does not support the video tag.\n",
              " </video>"
            ],
            "text/plain": [
              "<IPython.core.display.Video object>"
            ]
          },
          "execution_count": 35,
          "metadata": {},
          "output_type": "execute_result"
        }
      ],
      "source": [
        "Video(f\"/content/tmp/HalfCheetahBulletEnv-v0/videos/rl-video-episode-{n_games-1}.mp4\", embed=True, width=600)"
      ]
    },
    {
      "cell_type": "code",
      "execution_count": null,
      "metadata": {},
      "outputs": [],
      "source": []
    }
  ],
  "metadata": {
    "accelerator": "GPU",
    "colab": {
      "provenance": [],
      "toc_visible": true
    },
    "kernelspec": {
      "display_name": "Python 3",
      "language": "python",
      "name": "python3"
    },
    "language_info": {
      "codemirror_mode": {
        "name": "ipython",
        "version": 3
      },
      "file_extension": ".py",
      "mimetype": "text/x-python",
      "name": "python",
      "nbconvert_exporter": "python",
      "pygments_lexer": "ipython3",
      "version": "3.10.12"
    },
    "widgets": {
      "application/vnd.jupyter.widget-state+json": {
        "099c37442fbf45e2bddc0cef61414831": {
          "model_module": "@jupyter-widgets/controls",
          "model_module_version": "1.5.0",
          "model_name": "DescriptionStyleModel",
          "state": {
            "_model_module": "@jupyter-widgets/controls",
            "_model_module_version": "1.5.0",
            "_model_name": "DescriptionStyleModel",
            "_view_count": null,
            "_view_module": "@jupyter-widgets/base",
            "_view_module_version": "1.2.0",
            "_view_name": "StyleView",
            "description_width": ""
          }
        },
        "2021c79eb97f4ba2907cbf94ae545328": {
          "model_module": "@jupyter-widgets/base",
          "model_module_version": "1.2.0",
          "model_name": "LayoutModel",
          "state": {
            "_model_module": "@jupyter-widgets/base",
            "_model_module_version": "1.2.0",
            "_model_name": "LayoutModel",
            "_view_count": null,
            "_view_module": "@jupyter-widgets/base",
            "_view_module_version": "1.2.0",
            "_view_name": "LayoutView",
            "align_content": null,
            "align_items": null,
            "align_self": null,
            "border": null,
            "bottom": null,
            "display": null,
            "flex": null,
            "flex_flow": null,
            "grid_area": null,
            "grid_auto_columns": null,
            "grid_auto_flow": null,
            "grid_auto_rows": null,
            "grid_column": null,
            "grid_gap": null,
            "grid_row": null,
            "grid_template_areas": null,
            "grid_template_columns": null,
            "grid_template_rows": null,
            "height": null,
            "justify_content": null,
            "justify_items": null,
            "left": null,
            "margin": null,
            "max_height": null,
            "max_width": null,
            "min_height": null,
            "min_width": null,
            "object_fit": null,
            "object_position": null,
            "order": null,
            "overflow": null,
            "overflow_x": null,
            "overflow_y": null,
            "padding": null,
            "right": null,
            "top": null,
            "visibility": null,
            "width": null
          }
        },
        "318307cadf994c8591c3364aa65629c5": {
          "model_module": "@jupyter-widgets/controls",
          "model_module_version": "1.5.0",
          "model_name": "HTMLModel",
          "state": {
            "_dom_classes": [],
            "_model_module": "@jupyter-widgets/controls",
            "_model_module_version": "1.5.0",
            "_model_name": "HTMLModel",
            "_view_count": null,
            "_view_module": "@jupyter-widgets/controls",
            "_view_module_version": "1.5.0",
            "_view_name": "HTMLView",
            "description": "",
            "description_tooltip": null,
            "layout": "IPY_MODEL_af94226c518d4e608c8832d44ef907b0",
            "placeholder": "​",
            "style": "IPY_MODEL_099c37442fbf45e2bddc0cef61414831",
            "value": " 130/130 [38:27&lt;00:00, 29.70s/it]"
          }
        },
        "560052b07f554e0e9043d2829be69b35": {
          "model_module": "@jupyter-widgets/base",
          "model_module_version": "1.2.0",
          "model_name": "LayoutModel",
          "state": {
            "_model_module": "@jupyter-widgets/base",
            "_model_module_version": "1.2.0",
            "_model_name": "LayoutModel",
            "_view_count": null,
            "_view_module": "@jupyter-widgets/base",
            "_view_module_version": "1.2.0",
            "_view_name": "LayoutView",
            "align_content": null,
            "align_items": null,
            "align_self": null,
            "border": null,
            "bottom": null,
            "display": null,
            "flex": null,
            "flex_flow": null,
            "grid_area": null,
            "grid_auto_columns": null,
            "grid_auto_flow": null,
            "grid_auto_rows": null,
            "grid_column": null,
            "grid_gap": null,
            "grid_row": null,
            "grid_template_areas": null,
            "grid_template_columns": null,
            "grid_template_rows": null,
            "height": null,
            "justify_content": null,
            "justify_items": null,
            "left": null,
            "margin": null,
            "max_height": null,
            "max_width": null,
            "min_height": null,
            "min_width": null,
            "object_fit": null,
            "object_position": null,
            "order": null,
            "overflow": null,
            "overflow_x": null,
            "overflow_y": null,
            "padding": null,
            "right": null,
            "top": null,
            "visibility": null,
            "width": null
          }
        },
        "867a5da8e845491abb9831ea70151bd8": {
          "model_module": "@jupyter-widgets/controls",
          "model_module_version": "1.5.0",
          "model_name": "HTMLModel",
          "state": {
            "_dom_classes": [],
            "_model_module": "@jupyter-widgets/controls",
            "_model_module_version": "1.5.0",
            "_model_name": "HTMLModel",
            "_view_count": null,
            "_view_module": "@jupyter-widgets/controls",
            "_view_module_version": "1.5.0",
            "_view_name": "HTMLView",
            "description": "",
            "description_tooltip": null,
            "layout": "IPY_MODEL_2021c79eb97f4ba2907cbf94ae545328",
            "placeholder": "​",
            "style": "IPY_MODEL_c1de0b5c209c44d39ba7774788c7615c",
            "value": "100%"
          }
        },
        "af94226c518d4e608c8832d44ef907b0": {
          "model_module": "@jupyter-widgets/base",
          "model_module_version": "1.2.0",
          "model_name": "LayoutModel",
          "state": {
            "_model_module": "@jupyter-widgets/base",
            "_model_module_version": "1.2.0",
            "_model_name": "LayoutModel",
            "_view_count": null,
            "_view_module": "@jupyter-widgets/base",
            "_view_module_version": "1.2.0",
            "_view_name": "LayoutView",
            "align_content": null,
            "align_items": null,
            "align_self": null,
            "border": null,
            "bottom": null,
            "display": null,
            "flex": null,
            "flex_flow": null,
            "grid_area": null,
            "grid_auto_columns": null,
            "grid_auto_flow": null,
            "grid_auto_rows": null,
            "grid_column": null,
            "grid_gap": null,
            "grid_row": null,
            "grid_template_areas": null,
            "grid_template_columns": null,
            "grid_template_rows": null,
            "height": null,
            "justify_content": null,
            "justify_items": null,
            "left": null,
            "margin": null,
            "max_height": null,
            "max_width": null,
            "min_height": null,
            "min_width": null,
            "object_fit": null,
            "object_position": null,
            "order": null,
            "overflow": null,
            "overflow_x": null,
            "overflow_y": null,
            "padding": null,
            "right": null,
            "top": null,
            "visibility": null,
            "width": null
          }
        },
        "b45987f802274a62b9633f2d7b9f64fe": {
          "model_module": "@jupyter-widgets/controls",
          "model_module_version": "1.5.0",
          "model_name": "HBoxModel",
          "state": {
            "_dom_classes": [],
            "_model_module": "@jupyter-widgets/controls",
            "_model_module_version": "1.5.0",
            "_model_name": "HBoxModel",
            "_view_count": null,
            "_view_module": "@jupyter-widgets/controls",
            "_view_module_version": "1.5.0",
            "_view_name": "HBoxView",
            "box_style": "",
            "children": [
              "IPY_MODEL_867a5da8e845491abb9831ea70151bd8",
              "IPY_MODEL_b7922eb1cec94e4dba17d6c61860acf4",
              "IPY_MODEL_318307cadf994c8591c3364aa65629c5"
            ],
            "layout": "IPY_MODEL_b58b2c64b99d40f5ab1283c0ca9bbd1a"
          }
        },
        "b58b2c64b99d40f5ab1283c0ca9bbd1a": {
          "model_module": "@jupyter-widgets/base",
          "model_module_version": "1.2.0",
          "model_name": "LayoutModel",
          "state": {
            "_model_module": "@jupyter-widgets/base",
            "_model_module_version": "1.2.0",
            "_model_name": "LayoutModel",
            "_view_count": null,
            "_view_module": "@jupyter-widgets/base",
            "_view_module_version": "1.2.0",
            "_view_name": "LayoutView",
            "align_content": null,
            "align_items": null,
            "align_self": null,
            "border": null,
            "bottom": null,
            "display": null,
            "flex": null,
            "flex_flow": null,
            "grid_area": null,
            "grid_auto_columns": null,
            "grid_auto_flow": null,
            "grid_auto_rows": null,
            "grid_column": null,
            "grid_gap": null,
            "grid_row": null,
            "grid_template_areas": null,
            "grid_template_columns": null,
            "grid_template_rows": null,
            "height": null,
            "justify_content": null,
            "justify_items": null,
            "left": null,
            "margin": null,
            "max_height": null,
            "max_width": null,
            "min_height": null,
            "min_width": null,
            "object_fit": null,
            "object_position": null,
            "order": null,
            "overflow": null,
            "overflow_x": null,
            "overflow_y": null,
            "padding": null,
            "right": null,
            "top": null,
            "visibility": null,
            "width": null
          }
        },
        "b7922eb1cec94e4dba17d6c61860acf4": {
          "model_module": "@jupyter-widgets/controls",
          "model_module_version": "1.5.0",
          "model_name": "FloatProgressModel",
          "state": {
            "_dom_classes": [],
            "_model_module": "@jupyter-widgets/controls",
            "_model_module_version": "1.5.0",
            "_model_name": "FloatProgressModel",
            "_view_count": null,
            "_view_module": "@jupyter-widgets/controls",
            "_view_module_version": "1.5.0",
            "_view_name": "ProgressView",
            "bar_style": "success",
            "description": "",
            "description_tooltip": null,
            "layout": "IPY_MODEL_560052b07f554e0e9043d2829be69b35",
            "max": 130,
            "min": 0,
            "orientation": "horizontal",
            "style": "IPY_MODEL_d4767a1b9dd04f53a60b6ebe7a6c4470",
            "value": 130
          }
        },
        "c1de0b5c209c44d39ba7774788c7615c": {
          "model_module": "@jupyter-widgets/controls",
          "model_module_version": "1.5.0",
          "model_name": "DescriptionStyleModel",
          "state": {
            "_model_module": "@jupyter-widgets/controls",
            "_model_module_version": "1.5.0",
            "_model_name": "DescriptionStyleModel",
            "_view_count": null,
            "_view_module": "@jupyter-widgets/base",
            "_view_module_version": "1.2.0",
            "_view_name": "StyleView",
            "description_width": ""
          }
        },
        "d4767a1b9dd04f53a60b6ebe7a6c4470": {
          "model_module": "@jupyter-widgets/controls",
          "model_module_version": "1.5.0",
          "model_name": "ProgressStyleModel",
          "state": {
            "_model_module": "@jupyter-widgets/controls",
            "_model_module_version": "1.5.0",
            "_model_name": "ProgressStyleModel",
            "_view_count": null,
            "_view_module": "@jupyter-widgets/base",
            "_view_module_version": "1.2.0",
            "_view_name": "StyleView",
            "bar_color": null,
            "description_width": ""
          }
        }
      }
    }
  },
  "nbformat": 4,
  "nbformat_minor": 0
}
